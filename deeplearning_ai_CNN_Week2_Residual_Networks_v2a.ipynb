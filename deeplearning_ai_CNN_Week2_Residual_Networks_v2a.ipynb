{
  "nbformat": 4,
  "nbformat_minor": 0,
  "metadata": {
    "coursera": {
      "course_slug": "convolutional-neural-networks",
      "graded_item_id": "OEpi5",
      "launcher_item_id": "jK9EQ"
    },
    "kernelspec": {
      "display_name": "Python 3",
      "language": "python",
      "name": "python3"
    },
    "language_info": {
      "codemirror_mode": {
        "name": "ipython",
        "version": 3
      },
      "file_extension": ".py",
      "mimetype": "text/x-python",
      "name": "python",
      "nbconvert_exporter": "python",
      "pygments_lexer": "ipython3",
      "version": "3.6.0"
    },
    "colab": {
      "name": "deeplearning.ai-CNN-Week2-Residual_Networks_v2a.ipynb",
      "provenance": [],
      "toc_visible": true,
      "include_colab_link": true
    }
  },
  "cells": [
    {
      "cell_type": "markdown",
      "metadata": {
        "id": "view-in-github",
        "colab_type": "text"
      },
      "source": [
        "<a href=\"https://colab.research.google.com/github/JimEverest/Deep-Learning-Coursera/blob/master/deeplearning_ai_CNN_Week2_Residual_Networks_v2a.ipynb\" target=\"_parent\"><img src=\"https://colab.research.google.com/assets/colab-badge.svg\" alt=\"Open In Colab\"/></a>"
      ]
    },
    {
      "cell_type": "code",
      "metadata": {
        "id": "dXmSEjehtZJi",
        "colab_type": "code",
        "colab": {
          "base_uri": "https://localhost:8080/",
          "height": 122
        },
        "outputId": "73c01dce-6534-4a50-cdc7-ac406e00b038"
      },
      "source": [
        "from google.colab import drive\n",
        "drive.mount('/content/drive')"
      ],
      "execution_count": 1,
      "outputs": [
        {
          "output_type": "stream",
          "text": [
            "Go to this URL in a browser: https://accounts.google.com/o/oauth2/auth?client_id=947318989803-6bn6qk8qdgf4n4g3pfee6491hc0brc4i.apps.googleusercontent.com&redirect_uri=urn%3aietf%3awg%3aoauth%3a2.0%3aoob&response_type=code&scope=email%20https%3a%2f%2fwww.googleapis.com%2fauth%2fdocs.test%20https%3a%2f%2fwww.googleapis.com%2fauth%2fdrive%20https%3a%2f%2fwww.googleapis.com%2fauth%2fdrive.photos.readonly%20https%3a%2f%2fwww.googleapis.com%2fauth%2fpeopleapi.readonly\n",
            "\n",
            "Enter your authorization code:\n",
            "··········\n",
            "Mounted at /content/drive\n"
          ],
          "name": "stdout"
        }
      ]
    },
    {
      "cell_type": "markdown",
      "metadata": {
        "id": "GzYrpqUjpfnO",
        "colab_type": "text"
      },
      "source": [
        "# Residual Networks\n",
        "\n",
        "Welcome to the second assignment of this week! You will learn how to build very deep convolutional networks, using Residual Networks (ResNets). In theory, very deep networks can represent very complex functions; but in practice, they are hard to train. Residual Networks, introduced by [He et al.](https://arxiv.org/pdf/1512.03385.pdf), allow you to train much deeper networks than were previously practically feasible.\n",
        "\n",
        "**In this assignment, you will:**\n",
        "- Implement the basic building blocks of ResNets. \n",
        "- Put together these building blocks to implement and train a state-of-the-art neural network for image classification. "
      ]
    },
    {
      "cell_type": "markdown",
      "metadata": {
        "id": "Jc7Rk_NBpfnQ",
        "colab_type": "text"
      },
      "source": [
        "## <font color='darkblue'>Updates</font>\n",
        "\n",
        "#### If you were working on the notebook before this update...\n",
        "* The current notebook is version \"2a\".\n",
        "* You can find your original work saved in the notebook with the previous version name (\"v2\") \n",
        "* To view the file directory, go to the menu \"File->Open\", and this will open a new tab that shows the file directory.\n",
        "\n",
        "#### List of updates\n",
        "* For testing on an image, replaced `preprocess_input(x)` with `x=x/255.0` to normalize the input image in the same way that the model's training data was normalized.\n",
        "* Refers to \"shallower\" layers as those layers closer to the input, and \"deeper\" layers as those closer to the output (Using \"shallower\" layers instead of \"lower\" or \"earlier\").\n",
        "* Added/updated instructions.\n"
      ]
    },
    {
      "cell_type": "markdown",
      "metadata": {
        "id": "z9ZJWHvYpfnR",
        "colab_type": "text"
      },
      "source": [
        "This assignment will be done in Keras. \n",
        "\n",
        "Before jumping into the problem, let's run the cell below to load the required packages."
      ]
    },
    {
      "cell_type": "code",
      "metadata": {
        "id": "w6oqr_G9pfnS",
        "colab_type": "code",
        "colab": {},
        "outputId": "7b69046c-e82d-447a-c039-a567d1517311"
      },
      "source": [
        "import numpy as np\n",
        "from keras import layers\n",
        "from keras.layers import Input, Add, Dense, Activation, ZeroPadding2D, BatchNormalization, Flatten, Conv2D, AveragePooling2D, MaxPooling2D, GlobalMaxPooling2D\n",
        "from keras.models import Model, load_model\n",
        "from keras.preprocessing import image\n",
        "from keras.utils import layer_utils\n",
        "from keras.utils.data_utils import get_file\n",
        "from keras.applications.imagenet_utils import preprocess_input\n",
        "import pydot\n",
        "from IPython.display import SVG\n",
        "from keras.utils.vis_utils import model_to_dot\n",
        "from keras.utils import plot_model\n",
        "from resnets_utils import *\n",
        "from keras.initializers import glorot_uniform\n",
        "import scipy.misc\n",
        "from matplotlib.pyplot import imshow\n",
        "%matplotlib inline\n",
        "\n",
        "import keras.backend as K\n",
        "K.set_image_data_format('channels_last')\n",
        "K.set_learning_phase(1)"
      ],
      "execution_count": 0,
      "outputs": [
        {
          "output_type": "stream",
          "text": [
            "Using TensorFlow backend.\n"
          ],
          "name": "stderr"
        }
      ]
    },
    {
      "cell_type": "markdown",
      "metadata": {
        "id": "u8_o70J0pfnW",
        "colab_type": "text"
      },
      "source": [
        "## 1 - The problem of very deep neural networks\n",
        "\n",
        "Last week, you built your first convolutional neural network. In recent years, neural networks have become deeper, with state-of-the-art networks going from just a few layers (e.g., AlexNet) to over a hundred layers.\n",
        "\n",
        "* The main benefit of a very deep network is that it can represent very complex functions. It can also learn features at many different levels of abstraction, from edges (at the shallower layers, closer to the input) to very complex features (at the deeper layers, closer to the output). \n",
        "* However, using a deeper network doesn't always help. A huge barrier to training them is vanishing gradients: very deep networks often have a gradient signal that goes to zero quickly, thus making gradient descent prohibitively slow. \n",
        "* More specifically, during gradient descent, as you backprop from the final layer back to the first layer, you are multiplying by the weight matrix on each step, and thus the gradient can decrease exponentially quickly to zero (or, in rare cases, grow exponentially quickly and \"explode\" to take very large values). \n",
        "* During training, you might therefore see the magnitude (or norm) of the gradient for the shallower layers decrease to zero very rapidly as training proceeds: "
      ]
    },
    {
      "cell_type": "markdown",
      "metadata": {
        "id": "yuL47qM4pfnW",
        "colab_type": "text"
      },
      "source": [
        "<img src=\"https://drive.google.com/uc?export=view&id=120p4k0pcxxWySiunMFeSTX8uwlmPMQ_F\" style=\"width:450px;height:220px;\">\n",
        "\n",
        "<caption><center> <u> <font color='purple'> **Figure 1** </u><font color='purple'>  : **Vanishing gradient** <br> The speed of learning decreases very rapidly for the shallower layers as the network trains </center></caption>\n",
        "\n",
        "You are now going to solve this problem by building a Residual Network!"
      ]
    },
    {
      "cell_type": "markdown",
      "metadata": {
        "id": "ARyjCThnpfnX",
        "colab_type": "text"
      },
      "source": [
        "## 2 - Building a Residual Network\n",
        "\n",
        "In ResNets, a \"shortcut\" or a \"skip connection\" allows the model to skip layers:  \n",
        "\n",
        "<img src=\"https://drive.google.com/uc?export=view&id=1TXppRIr-d8MCTiFky6L78-WzmTOqbM0F\" style=\"width:650px;height:200px;\">\n",
        "<caption><center> <u> <font color='purple'> **Figure 2** </u><font color='purple'>  : A ResNet block showing a **skip-connection** <br> </center></caption>\n",
        "\n",
        "The image on the left shows the \"main path\" through the network. The image on the right adds a shortcut to the main path. By stacking these ResNet blocks on top of each other, you can form a very deep network. \n",
        "\n",
        "We also saw in lecture that having ResNet blocks with the shortcut also makes it very easy for one of the blocks to learn an identity function. This means that you can stack on additional ResNet blocks with little risk of harming training set performance.  \n",
        "    \n",
        "(There is also some evidence that the ease of learning an identity function accounts for ResNets' remarkable performance even more so than skip connections helping with vanishing gradients).\n",
        "\n",
        "Two main types of blocks are used in a ResNet, depending mainly on whether the input/output dimensions are same or different. You are going to implement both of them: the \"identity block\" and the \"convolutional block.\""
      ]
    },
    {
      "cell_type": "markdown",
      "metadata": {
        "id": "TyLi7TanpfnX",
        "colab_type": "text"
      },
      "source": [
        "### 2.1 - The identity block\n",
        "\n",
        "The identity block is the standard block used in ResNets, and corresponds to the case where the input activation (say $a^{[l]}$) has the same dimension as the output activation (say $a^{[l+2]}$). To flesh out the different steps of what happens in a ResNet's identity block, here is an alternative diagram showing the individual steps:\n",
        "\n",
        "<img src=\"https://drive.google.com/uc?export=view&id=1FFOPEKHyXxVhSdw3soFIWYjnkq6dDVX7\" style=\"width:650px;height:150px;\">\n",
        "<caption><center> <u> <font color='purple'> **Figure 3** </u><font color='purple'>  : **Identity block.** Skip connection \"skips over\" 2 layers. </center></caption>\n",
        "\n",
        "The upper path is the \"shortcut path.\" The lower path is the \"main path.\" In this diagram, we have also made explicit the CONV2D and ReLU steps in each layer. To speed up training we have also added a BatchNorm step. Don't worry about this being complicated to implement--you'll see that BatchNorm is just one line of code in Keras! \n",
        "\n",
        "In this exercise, you'll actually implement a slightly more powerful version of this identity block, in which the skip connection \"skips over\" 3 hidden layers rather than 2 layers. It looks like this: \n",
        "\n",
        "<img src=\"https://drive.google.com/uc?export=view&id=1-_vkZz0uOcyYQcWqaBgI_i2yeK-P-mom\" style=\"width:650px;height:150px;\">\n",
        "<caption><center> <u> <font color='purple'> **Figure 4** </u><font color='purple'>  : **Identity block.** Skip connection \"skips over\" 3 layers.</center></caption>"
      ]
    },
    {
      "cell_type": "markdown",
      "metadata": {
        "id": "KUFFSGwcpfnY",
        "colab_type": "text"
      },
      "source": [
        "Here are the individual steps.\n",
        "\n",
        "First component of main path: \n",
        "- The first CONV2D has $F_1$ filters of shape (1,1) and a stride of (1,1). Its padding is \"valid\" and its name should be `conv_name_base + '2a'`. Use 0 as the seed for the random initialization. \n",
        "- The first BatchNorm is normalizing the 'channels' axis.  Its name should be `bn_name_base + '2a'`.\n",
        "- Then apply the ReLU activation function. This has no name and no hyperparameters. \n",
        "\n",
        "Second component of main path:\n",
        "- The second CONV2D has $F_2$ filters of shape $(f,f)$ and a stride of (1,1). Its padding is \"same\" and its name should be `conv_name_base + '2b'`. Use 0 as the seed for the random initialization. \n",
        "- The second BatchNorm is normalizing the 'channels' axis.  Its name should be `bn_name_base + '2b'`.\n",
        "- Then apply the ReLU activation function. This has no name and no hyperparameters. \n",
        "\n",
        "Third component of main path:\n",
        "- The third CONV2D has $F_3$ filters of shape (1,1) and a stride of (1,1). Its padding is \"valid\" and its name should be `conv_name_base + '2c'`. Use 0 as the seed for the random initialization. \n",
        "- The third BatchNorm is normalizing the 'channels' axis.  Its name should be `bn_name_base + '2c'`. \n",
        "- Note that there is **no** ReLU activation function in this component. \n",
        "\n",
        "Final step: \n",
        "- The `X_shortcut` and the output from the 3rd layer `X` are added together.\n",
        "- **Hint**: The syntax will look something like `Add()([var1,var2])`\n",
        "- Then apply the ReLU activation function. This has no name and no hyperparameters. \n",
        "\n",
        "**Exercise**: Implement the ResNet identity block. We have implemented the first component of the main path. Please read this carefully to make sure you understand what it is doing. You should implement the rest. \n",
        "- To implement the Conv2D step: [Conv2D](https://keras.io/layers/convolutional/#conv2d)\n",
        "- To implement BatchNorm: [BatchNormalization](https://faroit.github.io/keras-docs/1.2.2/layers/normalization/) (axis: Integer, the axis that should be normalized (typically the 'channels' axis))\n",
        "- For the activation, use:  `Activation('relu')(X)`\n",
        "- To add the value passed forward by the shortcut: [Add](https://keras.io/layers/merge/#add)"
      ]
    },
    {
      "cell_type": "code",
      "metadata": {
        "id": "enWk_2HOpfnZ",
        "colab_type": "code",
        "colab": {}
      },
      "source": [
        "# GRADED FUNCTION: identity_block\n",
        "\n",
        "def identity_block(X, f, filters, stage, block):\n",
        "    \"\"\"\n",
        "    Implementation of the identity block as defined in Figure 4\n",
        "    \n",
        "    Arguments:\n",
        "    X -- input tensor of shape (m, n_H_prev, n_W_prev, n_C_prev)\n",
        "    f -- integer, specifying the shape of the middle CONV's window for the main path\n",
        "    filters -- python list of integers, defining the number of filters in the CONV layers of the main path\n",
        "    stage -- integer, used to name the layers, depending on their position in the network\n",
        "    block -- string/character, used to name the layers, depending on their position in the network\n",
        "    \n",
        "    Returns:\n",
        "    X -- output of the identity block, tensor of shape (n_H, n_W, n_C)\n",
        "    \"\"\"\n",
        "    \n",
        "    # defining name basis\n",
        "    conv_name_base = 'res' + str(stage) + block + '_branch'\n",
        "    bn_name_base = 'bn' + str(stage) + block + '_branch'\n",
        "    \n",
        "    # Retrieve Filters\n",
        "    F1, F2, F3 = filters\n",
        "    \n",
        "    # Save the input value. You'll need this later to add back to the main path. \n",
        "    X_shortcut = X\n",
        "    \n",
        "    # First component of main path\n",
        "    X = Conv2D(filters = F1, kernel_size = (1, 1), strides = (1,1), padding = 'valid', name = conv_name_base + '2a', kernel_initializer = glorot_uniform(seed=0))(X)\n",
        "    X = BatchNormalization(axis = 3, name = bn_name_base + '2a')(X)\n",
        "    X = Activation('relu')(X)\n",
        "    \n",
        "    ### START CODE HERE ###\n",
        "    \n",
        "    # Second component of main path (≈3 lines)\n",
        "    X = Conv2D(filters= F2 , kernel_size = (f, f) , strides = (1,1),padding = \"same\" , kernel_initializer = glorot_uniform(seed=0) , name = conv_name_base + '2b')(X)\n",
        "    X = BatchNormalization(axis=3,name=bn_name_base + '2b')(X)\n",
        "    X = Activation('relu')(X)\n",
        "\n",
        "    # Third component of main path (≈2 lines)\n",
        "    X = Conv2D(filters = F3, kernel_size = (1, 1), strides = (1,1), padding = 'valid', name = conv_name_base + '2c', \n",
        "kernel_initializer = glorot_uniform(seed=0))(X)\n",
        "    X = BatchNormalization(axis=3,name=bn_name_base + '2c')(X)\n",
        "\n",
        "    # Final step: Add shortcut value to main path, and pass it through a RELU activation (≈2 lines)\n",
        "    X = Add()([X_shortcut, X])\n",
        "    X = Activation('relu')(X)\n",
        "    \n",
        "    ### END CODE HERE ###\n",
        "    \n",
        "    return X"
      ],
      "execution_count": 0,
      "outputs": []
    },
    {
      "cell_type": "code",
      "metadata": {
        "id": "4If69Bqppfnb",
        "colab_type": "code",
        "colab": {},
        "outputId": "c34d4f38-47c7-4cd9-e519-28fcf9d5a65e"
      },
      "source": [
        "tf.reset_default_graph()\n",
        "\n",
        "with tf.Session() as test:\n",
        "    np.random.seed(1)\n",
        "    A_prev = tf.placeholder(\"float\", [3, 4, 4, 6])\n",
        "    X = np.random.randn(3, 4, 4, 6)\n",
        "    A = identity_block(A_prev, f = 2, filters = [2, 4, 6], stage = 1, block = 'a')\n",
        "    test.run(tf.global_variables_initializer())\n",
        "    out = test.run([A], feed_dict={A_prev: X, K.learning_phase(): 0})\n",
        "    print(\"out = \" + str(out[0][1][1][0]))"
      ],
      "execution_count": 0,
      "outputs": [
        {
          "output_type": "stream",
          "text": [
            "out = [ 0.94822985  0.          1.16101444  2.747859    0.          1.36677003]\n"
          ],
          "name": "stdout"
        }
      ]
    },
    {
      "cell_type": "markdown",
      "metadata": {
        "id": "nLPtBaEbpfnd",
        "colab_type": "text"
      },
      "source": [
        "**Expected Output**:\n",
        "\n",
        "<table>\n",
        "    <tr>\n",
        "        <td>\n",
        "            **out**\n",
        "        </td>\n",
        "        <td>\n",
        "           [ 0.94822985  0.          1.16101444  2.747859    0.          1.36677003]\n",
        "        </td>\n",
        "    </tr>\n",
        "\n",
        "</table>"
      ]
    },
    {
      "cell_type": "markdown",
      "metadata": {
        "id": "jfA7QGK0pfne",
        "colab_type": "text"
      },
      "source": [
        "## 2.2 - The convolutional block\n",
        "\n",
        "The ResNet \"convolutional block\" is the second block type. You can use this type of block when the input and output dimensions don't match up. The difference with the identity block is that there is a CONV2D layer in the shortcut path: \n",
        "\n",
        "<img src=\"https://drive.google.com/uc?export=view&id=13z57SPRfNMooBdV_NZuWGLiqfbWQo8dH\" style=\"width:650px;height:150px;\">\n",
        "<caption><center> <u> <font color='purple'> **Figure 4** </u><font color='purple'>  : **Convolutional block** </center></caption>\n",
        "\n",
        "* The CONV2D layer in the shortcut path is used to resize the input $x$ to a different dimension, so that the dimensions match up in the final addition needed to add the shortcut value back to the main path. (This plays a similar role as the matrix $W_s$ discussed in lecture.) \n",
        "* For example, to reduce the activation dimensions's height and width by a factor of 2, you can use a 1x1 convolution with a stride of 2. \n",
        "* The CONV2D layer on the shortcut path does not use any non-linear activation function. Its main role is to just apply a (learned) linear function that reduces the dimension of the input, so that the dimensions match up for the later addition step. \n",
        "\n",
        "The details of the convolutional block are as follows. \n",
        "\n",
        "First component of main path:\n",
        "- The first CONV2D has $F_1$ filters of shape (1,1) and a stride of (s,s). Its padding is \"valid\" and its name should be `conv_name_base + '2a'`. Use 0 as the `glorot_uniform` seed.\n",
        "- The first BatchNorm is normalizing the 'channels' axis.  Its name should be `bn_name_base + '2a'`.\n",
        "- Then apply the ReLU activation function. This has no name and no hyperparameters. \n",
        "\n",
        "Second component of main path:\n",
        "- The second CONV2D has $F_2$ filters of shape (f,f) and a stride of (1,1). Its padding is \"same\" and it's name should be `conv_name_base + '2b'`.  Use 0 as the `glorot_uniform` seed.\n",
        "- The second BatchNorm is normalizing the 'channels' axis.  Its name should be `bn_name_base + '2b'`.\n",
        "- Then apply the ReLU activation function. This has no name and no hyperparameters. \n",
        "\n",
        "Third component of main path:\n",
        "- The third CONV2D has $F_3$ filters of shape (1,1) and a stride of (1,1). Its padding is \"valid\" and it's name should be `conv_name_base + '2c'`.  Use 0 as the `glorot_uniform` seed.\n",
        "- The third BatchNorm is normalizing the 'channels' axis.  Its name should be `bn_name_base + '2c'`. Note that there is no ReLU activation function in this component. \n",
        "\n",
        "Shortcut path:\n",
        "- The CONV2D has $F_3$ filters of shape (1,1) and a stride of (s,s). Its padding is \"valid\" and its name should be `conv_name_base + '1'`.  Use 0 as the `glorot_uniform` seed.\n",
        "- The BatchNorm is normalizing the 'channels' axis.  Its name should be `bn_name_base + '1'`. \n",
        "\n",
        "Final step: \n",
        "- The shortcut and the main path values are added together.\n",
        "- Then apply the ReLU activation function. This has no name and no hyperparameters. \n",
        "    \n",
        "**Exercise**: Implement the convolutional block. We have implemented the first component of the main path; you should implement the rest. As before, always use 0 as the seed for the random initialization, to ensure consistency with our grader.\n",
        "- [Conv2D](https://keras.io/layers/convolutional/#conv2d)\n",
        "- [BatchNormalization](https://keras.io/layers/normalization/#batchnormalization) (axis: Integer, the axis that should be normalized (typically the features axis))\n",
        "- For the activation, use:  `Activation('relu')(X)`\n",
        "- [Add](https://keras.io/layers/merge/#add)"
      ]
    },
    {
      "cell_type": "code",
      "metadata": {
        "id": "nzMdRpvMpfne",
        "colab_type": "code",
        "colab": {}
      },
      "source": [
        "# GRADED FUNCTION: convolutional_block\n",
        "\n",
        "def convolutional_block(X, f, filters, stage, block, s = 2):\n",
        "    \"\"\"\n",
        "    Implementation of the convolutional block as defined in Figure 4\n",
        "    \n",
        "    Arguments:\n",
        "    X -- input tensor of shape (m, n_H_prev, n_W_prev, n_C_prev)\n",
        "    f -- integer, specifying the shape of the middle CONV's window for the main path\n",
        "    filters -- python list of integers, defining the number of filters in the CONV layers of the main path\n",
        "    stage -- integer, used to name the layers, depending on their position in the network\n",
        "    block -- string/character, used to name the layers, depending on their position in the network\n",
        "    s -- Integer, specifying the stride to be used\n",
        "    \n",
        "    Returns:\n",
        "    X -- output of the convolutional block, tensor of shape (n_H, n_W, n_C)\n",
        "    \"\"\"\n",
        "    \n",
        "    # defining name basis\n",
        "    conv_name_base = 'res' + str(stage) + block + '_branch'\n",
        "    bn_name_base = 'bn' + str(stage) + block + '_branch'\n",
        "    \n",
        "    # Retrieve Filters\n",
        "    F1, F2, F3 = filters\n",
        "    \n",
        "    # Save the input value\n",
        "    X_shortcut = X\n",
        "\n",
        "\n",
        "    ##### MAIN PATH #####\n",
        "    # First component of main path \n",
        "    X = Conv2D(F1, (1, 1), strides = (s,s), name = conv_name_base + '2a', padding=\"valid\",kernel_initializer = glorot_uniform(seed=0))(X)\n",
        "    X = BatchNormalization(axis = 3, name = bn_name_base + '2a')(X)\n",
        "    X = Activation('relu')(X)\n",
        "    \n",
        "    ### START CODE HERE ###\n",
        "\n",
        "    # Second component of main path (≈3 lines)\n",
        "    X = Conv2D(F2, (f, f), strides = (1,1), padding=\"same\", name = conv_name_base + '2b', kernel_initializer = glorot_uniform(seed=0))(X)\n",
        "    X = BatchNormalization(axis = 3, name = bn_name_base + '2b')(X)\n",
        "    X = Activation('relu')(X)\n",
        "\n",
        "    # Third component of main path (≈2 lines)\n",
        "    X = Conv2D(F3, (1, 1), strides = (1,1), name = conv_name_base + '2c',padding=\"valid\", kernel_initializer = glorot_uniform(seed=0))(X)\n",
        "    X = BatchNormalization(axis = 3, name = bn_name_base + '2c')(X)\n",
        "\n",
        "    ##### SHORTCUT PATH #### (≈2 lines)\n",
        "    X_shortcut = Conv2D(F3, (1, 1), strides = (s,s), name = conv_name_base + '1',padding=\"valid\", kernel_initializer = glorot_uniform(seed=0))(X_shortcut)\n",
        "    X_shortcut = BatchNormalization(axis = 3, name = bn_name_base + '1')(X_shortcut)\n",
        "\n",
        "    # Final step: Add shortcut value to main path, and pass it through a RELU activation (≈2 lines)\n",
        "    X = Add()([X_shortcut,X])\n",
        "    X = Activation('relu')(X)\n",
        "    \n",
        "    ### END CODE HERE ###\n",
        "    \n",
        "    return X"
      ],
      "execution_count": 0,
      "outputs": []
    },
    {
      "cell_type": "code",
      "metadata": {
        "id": "nSfv5T43pfng",
        "colab_type": "code",
        "colab": {},
        "outputId": "9c8f7514-8e0b-43f9-bd86-bbb83ed1a6a4"
      },
      "source": [
        "tf.reset_default_graph()\n",
        "\n",
        "with tf.Session() as test:\n",
        "    np.random.seed(1)\n",
        "    A_prev = tf.placeholder(\"float\", [3, 4, 4, 6])\n",
        "    X = np.random.randn(3, 4, 4, 6)\n",
        "    A = convolutional_block(A_prev, f = 2, filters = [2, 4, 6], stage = 1, block = 'a')\n",
        "    test.run(tf.global_variables_initializer())\n",
        "    out = test.run([A], feed_dict={A_prev: X, K.learning_phase(): 0})\n",
        "    print(\"out = \" + str(out[0][1][1][0]))"
      ],
      "execution_count": 0,
      "outputs": [
        {
          "output_type": "stream",
          "text": [
            "out = [ 0.09018463  1.23489773  0.46822017  0.0367176   0.          0.65516603]\n"
          ],
          "name": "stdout"
        }
      ]
    },
    {
      "cell_type": "markdown",
      "metadata": {
        "id": "gw_ODAI5pfni",
        "colab_type": "text"
      },
      "source": [
        "**Expected Output**:\n",
        "\n",
        "<table>\n",
        "    <tr>\n",
        "        <td>\n",
        "            **out**\n",
        "        </td>\n",
        "        <td>\n",
        "           [ 0.09018463  1.23489773  0.46822017  0.0367176   0.          0.65516603]\n",
        "        </td>\n",
        "    </tr>\n",
        "\n",
        "</table>"
      ]
    },
    {
      "cell_type": "markdown",
      "metadata": {
        "id": "UIV2H7R8pfnj",
        "colab_type": "text"
      },
      "source": [
        "## 3 - Building your first ResNet model (50 layers)\n",
        "\n",
        "You now have the necessary blocks to build a very deep ResNet. The following figure describes in detail the architecture of this neural network. \"ID BLOCK\" in the diagram stands for \"Identity block,\" and \"ID BLOCK x3\" means you should stack 3 identity blocks together.\n",
        "\n",
        "<img src=\"https://drive.google.com/uc?export=view&id=13HDcFJ3jEB7-BMwLLmeUM1fa9ahIost9\" style=\"width:850px;height:150px;\">\n",
        "<caption><center> <u> <font color='purple'> **Figure 5** </u><font color='purple'>  : **ResNet-50 model** </center></caption>\n",
        "\n",
        "The details of this ResNet-50 model are:\n",
        "- Zero-padding pads the input with a pad of (3,3)\n",
        "- Stage 1:\n",
        "    - The 2D Convolution has 64 filters of shape (7,7) and uses a stride of (2,2). Its name is \"conv1\".\n",
        "    - BatchNorm is applied to the 'channels' axis of the input.\n",
        "    - MaxPooling uses a (3,3) window and a (2,2) stride.\n",
        "- Stage 2:\n",
        "    - The convolutional block uses three sets of filters of size [64,64,256], \"f\" is 3, \"s\" is 1 and the block is \"a\".\n",
        "    - The 2 identity blocks use three sets of filters of size [64,64,256], \"f\" is 3 and the blocks are \"b\" and \"c\".\n",
        "- Stage 3:\n",
        "    - The convolutional block uses three sets of filters of size [128,128,512], \"f\" is 3, \"s\" is 2 and the block is \"a\".\n",
        "    - The 3 identity blocks use three sets of filters of size [128,128,512], \"f\" is 3 and the blocks are \"b\", \"c\" and \"d\".\n",
        "- Stage 4:\n",
        "    - The convolutional block uses three sets of filters of size [256, 256, 1024], \"f\" is 3, \"s\" is 2 and the block is \"a\".\n",
        "    - The 5 identity blocks use three sets of filters of size [256, 256, 1024], \"f\" is 3 and the blocks are \"b\", \"c\", \"d\", \"e\" and \"f\".\n",
        "- Stage 5:\n",
        "    - The convolutional block uses three sets of filters of size [512, 512, 2048], \"f\" is 3, \"s\" is 2 and the block is \"a\".\n",
        "    - The 2 identity blocks use three sets of filters of size [512, 512, 2048], \"f\" is 3 and the blocks are \"b\" and \"c\".\n",
        "- The 2D Average Pooling uses a window of shape (2,2) and its name is \"avg_pool\".\n",
        "- The 'flatten' layer doesn't have any hyperparameters or name.\n",
        "- The Fully Connected (Dense) layer reduces its input to the number of classes using a softmax activation. Its name should be `'fc' + str(classes)`.\n",
        "\n",
        "**Exercise**: Implement the ResNet with 50 layers described in the figure above. We have implemented Stages 1 and 2. Please implement the rest. (The syntax for implementing Stages 3-5 should be quite similar to that of Stage 2.) Make sure you follow the naming convention in the text above. \n",
        "\n",
        "You'll need to use this function: \n",
        "- Average pooling [see reference](https://keras.io/layers/pooling/#averagepooling2d)\n",
        "\n",
        "Here are some other functions we used in the code below:\n",
        "- Conv2D: [See reference](https://keras.io/layers/convolutional/#conv2d)\n",
        "- BatchNorm: [See reference](https://keras.io/layers/normalization/#batchnormalization) (axis: Integer, the axis that should be normalized (typically the features axis))\n",
        "- Zero padding: [See reference](https://keras.io/layers/convolutional/#zeropadding2d)\n",
        "- Max pooling: [See reference](https://keras.io/layers/pooling/#maxpooling2d)\n",
        "- Fully connected layer: [See reference](https://keras.io/layers/core/#dense)\n",
        "- Addition: [See reference](https://keras.io/layers/merge/#add)"
      ]
    },
    {
      "cell_type": "code",
      "metadata": {
        "id": "tRUqxXHFpfnj",
        "colab_type": "code",
        "colab": {}
      },
      "source": [
        "# GRADED FUNCTION: ResNet50\n",
        "\n",
        "def ResNet50(input_shape = (64, 64, 3), classes = 6):\n",
        "    \"\"\"\n",
        "    Implementation of the popular ResNet50 the following architecture:\n",
        "    CONV2D -> BATCHNORM -> RELU -> MAXPOOL -> CONVBLOCK -> IDBLOCK*2 -> CONVBLOCK -> IDBLOCK*3\n",
        "    -> CONVBLOCK -> IDBLOCK*5 -> CONVBLOCK -> IDBLOCK*2 -> AVGPOOL -> TOPLAYER\n",
        "\n",
        "    Arguments:\n",
        "    input_shape -- shape of the images of the dataset\n",
        "    classes -- integer, number of classes\n",
        "\n",
        "    Returns:\n",
        "    model -- a Model() instance in Keras\n",
        "    \"\"\"\n",
        "    \n",
        "    # Define the input as a tensor with shape input_shape\n",
        "    X_input = Input(input_shape)\n",
        "\n",
        "    \n",
        "    # Zero-Padding\n",
        "    X = ZeroPadding2D((3, 3))(X_input)\n",
        "    \n",
        "    # Stage 1\n",
        "    X = Conv2D(64, (7, 7), strides = (2, 2), name = 'conv1', kernel_initializer = glorot_uniform(seed=0))(X)\n",
        "    X = BatchNormalization(axis = 3, name = 'bn_conv1')(X)\n",
        "    X = Activation('relu')(X)\n",
        "    X = MaxPooling2D((3, 3), strides=(2, 2))(X)\n",
        "\n",
        "    # Stage 2\n",
        "    X = convolutional_block(X, f = 3, filters = [64, 64, 256], stage = 2, block='a', s = 1)\n",
        "    X = identity_block(X, 3, [64, 64, 256], stage=2, block='b')\n",
        "    X = identity_block(X, 3, [64, 64, 256], stage=2, block='c')\n",
        "\n",
        "    ### START CODE HERE ###\n",
        "\n",
        "    # Stage 3 (≈4 lines)\n",
        "    X = convolutional_block(X, f = 3, filters = [128, 128, 512], stage = 3, block='a', s = 2)\n",
        "    X = identity_block(X, 3, [128, 128, 512], stage=3, block='b')\n",
        "    X = identity_block(X, 3, [128, 128, 512], stage=3, block='c')\n",
        "    X = identity_block(X, 3, [128, 128, 512], stage=3, block='d')\n",
        "\n",
        "    # Stage 4 (≈6 lines)\n",
        "    X = convolutional_block(X, f = 3, filters = [256, 256, 1024], stage = 4, block='a', s = 2)\n",
        "    X = identity_block(X, 3, [256, 256, 1024], stage=4, block='b')\n",
        "    X = identity_block(X, 3, [256, 256, 1024], stage=4, block='c')\n",
        "    X = identity_block(X, 3, [256, 256, 1024], stage=4, block='d')\n",
        "    X = identity_block(X, 3, [256, 256, 1024], stage=4, block='e')\n",
        "    X = identity_block(X, 3, [256, 256, 1024], stage=4, block='f')\n",
        "\n",
        "    # Stage 5 (≈3 lines)\n",
        "    X = convolutional_block(X, f = 3, filters = [512, 512, 2048], stage = 5, block='a', s = 2)\n",
        "    X = identity_block(X, 3, [512, 512, 2048], stage=5, block='b')\n",
        "    X = identity_block(X, 3, [512, 512, 2048], stage=5, block='c')\n",
        "\n",
        "    # AVGPOOL (≈1 line). Use \"X = AveragePooling2D(...)(X)\"\n",
        "    # The 2D Average Pooling uses a window of shape (2,2) and its name is \"avg_pool\".\n",
        "    X = AveragePooling2D(pool_size=(2,2), name=\"avg_pool\")(X)\n",
        "    \n",
        "    ### END CODE HERE ###\n",
        "\n",
        "    # output layer\n",
        "    X = Flatten()(X)\n",
        "    X = Dense(classes, activation='softmax', name='fc' + str(classes), kernel_initializer = glorot_uniform(seed=0))(X)\n",
        "    \n",
        "    \n",
        "    # Create model\n",
        "    model = Model(inputs = X_input, outputs = X, name='ResNet50')\n",
        "\n",
        "    return model"
      ],
      "execution_count": 0,
      "outputs": []
    },
    {
      "cell_type": "markdown",
      "metadata": {
        "id": "2INwZUDhpfnl",
        "colab_type": "text"
      },
      "source": [
        "Run the following code to build the model's graph. If your implementation is not correct you will know it by checking your accuracy when running `model.fit(...)` below."
      ]
    },
    {
      "cell_type": "code",
      "metadata": {
        "id": "PxmJ-dcCpfnm",
        "colab_type": "code",
        "colab": {}
      },
      "source": [
        "model = ResNet50(input_shape = (64, 64, 3), classes = 6)"
      ],
      "execution_count": 0,
      "outputs": []
    },
    {
      "cell_type": "markdown",
      "metadata": {
        "id": "kRm3p72zpfno",
        "colab_type": "text"
      },
      "source": [
        "As seen in the Keras Tutorial Notebook, prior training a model, you need to configure the learning process by compiling the model."
      ]
    },
    {
      "cell_type": "code",
      "metadata": {
        "id": "6-6Z2502pfnp",
        "colab_type": "code",
        "colab": {}
      },
      "source": [
        "model.compile(optimizer='adam', loss='categorical_crossentropy', metrics=['accuracy'])"
      ],
      "execution_count": 0,
      "outputs": []
    },
    {
      "cell_type": "markdown",
      "metadata": {
        "id": "p1NOBPIupfnr",
        "colab_type": "text"
      },
      "source": [
        "The model is now ready to be trained. The only thing you need is a dataset."
      ]
    },
    {
      "cell_type": "markdown",
      "metadata": {
        "id": "HDUxRGewpfnr",
        "colab_type": "text"
      },
      "source": [
        "Let's load the SIGNS Dataset.\n",
        "\n",
        "<img src=\"https://drive.google.com/uc?export=view&id=1CH99QNK1vFM0nWLyu_Vfn89BigmPChLU\" style=\"width:450px;height:250px;\">\n",
        "<caption><center> <u> <font color='purple'> **Figure 6** </u><font color='purple'>  : **SIGNS dataset** </center></caption>\n"
      ]
    },
    {
      "cell_type": "code",
      "metadata": {
        "scrolled": true,
        "id": "oOQxbT0Hpfns",
        "colab_type": "code",
        "colab": {},
        "outputId": "65e4cf49-11db-45cf-e24e-e068d2d681b3"
      },
      "source": [
        "X_train_orig, Y_train_orig, X_test_orig, Y_test_orig, classes = load_dataset()\n",
        "\n",
        "# Normalize image vectors\n",
        "X_train = X_train_orig/255.\n",
        "X_test = X_test_orig/255.\n",
        "\n",
        "# Convert training and test labels to one hot matrices\n",
        "Y_train = convert_to_one_hot(Y_train_orig, 6).T\n",
        "Y_test = convert_to_one_hot(Y_test_orig, 6).T\n",
        "\n",
        "print (\"number of training examples = \" + str(X_train.shape[0]))\n",
        "print (\"number of test examples = \" + str(X_test.shape[0]))\n",
        "print (\"X_train shape: \" + str(X_train.shape))\n",
        "print (\"Y_train shape: \" + str(Y_train.shape))\n",
        "print (\"X_test shape: \" + str(X_test.shape))\n",
        "print (\"Y_test shape: \" + str(Y_test.shape))"
      ],
      "execution_count": 0,
      "outputs": [
        {
          "output_type": "stream",
          "text": [
            "number of training examples = 1080\n",
            "number of test examples = 120\n",
            "X_train shape: (1080, 64, 64, 3)\n",
            "Y_train shape: (1080, 6)\n",
            "X_test shape: (120, 64, 64, 3)\n",
            "Y_test shape: (120, 6)\n"
          ],
          "name": "stdout"
        }
      ]
    },
    {
      "cell_type": "markdown",
      "metadata": {
        "id": "dGieNjgYpfnt",
        "colab_type": "text"
      },
      "source": [
        "Run the following cell to train your model on 2 epochs with a batch size of 32. On a CPU it should take you around 5min per epoch. "
      ]
    },
    {
      "cell_type": "code",
      "metadata": {
        "scrolled": false,
        "id": "Z06DSBBopfnu",
        "colab_type": "code",
        "colab": {},
        "outputId": "1804d7bc-5e97-4cb7-a95f-27b3bbd2a141"
      },
      "source": [
        "model.fit(X_train, Y_train, epochs = 2, batch_size = 32)"
      ],
      "execution_count": 0,
      "outputs": [
        {
          "output_type": "stream",
          "text": [
            "Epoch 1/2\n",
            "1080/1080 [==============================] - 229s - loss: 3.2796 - acc: 0.2481   \n",
            "Epoch 2/2\n",
            "1080/1080 [==============================] - 226s - loss: 2.4511 - acc: 0.3065   \n"
          ],
          "name": "stdout"
        },
        {
          "output_type": "execute_result",
          "data": {
            "text/plain": [
              "<keras.callbacks.History at 0x7f8a72207e48>"
            ]
          },
          "metadata": {
            "tags": []
          },
          "execution_count": 10
        }
      ]
    },
    {
      "cell_type": "markdown",
      "metadata": {
        "id": "EbWXfcYcpfnw",
        "colab_type": "text"
      },
      "source": [
        "**Expected Output**:\n",
        "\n",
        "<table>\n",
        "    <tr>\n",
        "        <td>\n",
        "            ** Epoch 1/2**\n",
        "        </td>\n",
        "        <td>\n",
        "           loss: between 1 and 5, acc: between 0.2 and 0.5, although your results can be different from ours.\n",
        "        </td>\n",
        "    </tr>\n",
        "    <tr>\n",
        "        <td>\n",
        "            ** Epoch 2/2**\n",
        "        </td>\n",
        "        <td>\n",
        "           loss: between 1 and 5, acc: between 0.2 and 0.5, you should see your loss decreasing and the accuracy increasing.\n",
        "        </td>\n",
        "    </tr>\n",
        "\n",
        "</table>"
      ]
    },
    {
      "cell_type": "markdown",
      "metadata": {
        "id": "gGbgoF9Upfny",
        "colab_type": "text"
      },
      "source": [
        "Let's see how this model (trained on only two epochs) performs on the test set."
      ]
    },
    {
      "cell_type": "code",
      "metadata": {
        "scrolled": true,
        "id": "QQCfvtk6pfnz",
        "colab_type": "code",
        "colab": {},
        "outputId": "f4f7290d-4880-416e-ff83-c18b46b91077"
      },
      "source": [
        "preds = model.evaluate(X_test, Y_test)\n",
        "print (\"Loss = \" + str(preds[0]))\n",
        "print (\"Test Accuracy = \" + str(preds[1]))"
      ],
      "execution_count": 0,
      "outputs": [
        {
          "output_type": "stream",
          "text": [
            "120/120 [==============================] - 8s     \n",
            "Loss = 2.95134506226\n",
            "Test Accuracy = 0.166666666667\n"
          ],
          "name": "stdout"
        }
      ]
    },
    {
      "cell_type": "markdown",
      "metadata": {
        "id": "LDpHRFMFpfn1",
        "colab_type": "text"
      },
      "source": [
        "**Expected Output**:\n",
        "\n",
        "<table>\n",
        "    <tr>\n",
        "        <td>\n",
        "            **Test Accuracy**\n",
        "        </td>\n",
        "        <td>\n",
        "           between 0.16 and 0.25\n",
        "        </td>\n",
        "    </tr>\n",
        "\n",
        "</table>"
      ]
    },
    {
      "cell_type": "markdown",
      "metadata": {
        "id": "ARU7gBzapfn2",
        "colab_type": "text"
      },
      "source": [
        "For the purpose of this assignment, we've asked you to train the model for just two epochs. You can see that it achieves poor performances. Please go ahead and submit your assignment; to check correctness, the online grader will run your code only for a small number of epochs as well."
      ]
    },
    {
      "cell_type": "markdown",
      "metadata": {
        "id": "0Eyu3Cyspfn2",
        "colab_type": "text"
      },
      "source": [
        "After you have finished this official (graded) part of this assignment, you can also optionally train the ResNet for more iterations, if you want. We get a lot better performance when we train for ~20 epochs, but this will take more than an hour when training on a CPU. \n",
        "\n",
        "Using a GPU, we've trained our own ResNet50 model's weights on the SIGNS dataset. You can load and run our trained model on the test set in the cells below. It may take ≈1min to load the model."
      ]
    },
    {
      "cell_type": "code",
      "metadata": {
        "id": "wuZ--pHcpfn3",
        "colab_type": "code",
        "colab": {}
      },
      "source": [
        "model = load_model('ResNet50.h5') "
      ],
      "execution_count": 0,
      "outputs": []
    },
    {
      "cell_type": "code",
      "metadata": {
        "scrolled": true,
        "id": "t1mMg5xJpfn4",
        "colab_type": "code",
        "colab": {},
        "outputId": "09141cef-b48d-42f6-8d63-f988362b38b7"
      },
      "source": [
        "preds = model.evaluate(X_test, Y_test)\n",
        "print (\"Loss = \" + str(preds[0]))\n",
        "print (\"Test Accuracy = \" + str(preds[1]))"
      ],
      "execution_count": 0,
      "outputs": [
        {
          "output_type": "stream",
          "text": [
            "120/120 [==============================] - 8s     \n",
            "Loss = 0.530178320408\n",
            "Test Accuracy = 0.866666662693\n"
          ],
          "name": "stdout"
        }
      ]
    },
    {
      "cell_type": "markdown",
      "metadata": {
        "id": "Wn6Q-JlYpfn6",
        "colab_type": "text"
      },
      "source": [
        "ResNet50 is a powerful model for image classification when it is trained for an adequate number of iterations. We hope you can use what you've learnt and apply it to your own classification problem to perform state-of-the-art accuracy.\n",
        "\n",
        "Congratulations on finishing this assignment! You've now implemented a state-of-the-art image classification system! "
      ]
    },
    {
      "cell_type": "markdown",
      "metadata": {
        "id": "SgV7LLKZpfn7",
        "colab_type": "text"
      },
      "source": [
        "## 4 - Test on your own image (Optional/Ungraded)"
      ]
    },
    {
      "cell_type": "markdown",
      "metadata": {
        "id": "VEzN9rFSpfn7",
        "colab_type": "text"
      },
      "source": [
        "If you wish, you can also take a picture of your own hand and see the output of the model. To do this:\n",
        "    1. Click on \"File\" in the upper bar of this notebook, then click \"Open\" to go on your Coursera Hub.\n",
        "    2. Add your image to this Jupyter Notebook's directory, in the \"images\" folder\n",
        "    3. Write your image's name in the following code\n",
        "    4. Run the code and check if the algorithm is right! "
      ]
    },
    {
      "cell_type": "code",
      "metadata": {
        "id": "QmvXEgCupfn9",
        "colab_type": "code",
        "colab": {},
        "outputId": "e6bbaa7e-8d9c-49b0-dbbf-e523e0085cf9"
      },
      "source": [
        "img_path = 'hand5.jpg'\n",
        "img = image.load_img(img_path, target_size=(64, 64))\n",
        "x = image.img_to_array(img)\n",
        "x = np.expand_dims(x, axis=0)\n",
        "x = x/255.0\n",
        "print('Input image shape:', x.shape)\n",
        "my_image = scipy.misc.imread(img_path)\n",
        "imshow(my_image)\n",
        "print(\"class prediction vector [p(0), p(1), p(2), p(3), p(4), p(5)] = \")\n",
        "print(model.predict(x))"
      ],
      "execution_count": 0,
      "outputs": [
        {
          "output_type": "stream",
          "text": [
            "Input image shape: (1, 64, 64, 3)\n",
            "class prediction vector [p(0), p(1), p(2), p(3), p(4), p(5)] = \n",
            "[[  1.18407118e-03   8.79489380e-06   6.29512500e-03   9.25199091e-01\n",
            "    5.50718280e-03   6.18057847e-02]]\n"
          ],
          "name": "stdout"
        },
        {
          "output_type": "display_data",
          "data": {
            "image/png": "[encoded data removed]",
            "text/plain": [
              "<matplotlib.figure.Figure at 0x7f8a63cbab00>"
            ]
          },
          "metadata": {
            "tags": []
          }
        }
      ]
    },
    {
      "cell_type": "code",
      "metadata": {
        "id": "zzCJBMPNxHHZ",
        "colab_type": "code",
        "colab": {}
      },
      "source": [
        ""
      ],
      "execution_count": 0,
      "outputs": []
    },
    {
      "cell_type": "markdown",
      "metadata": {
        "id": "Q5qGk_g6pfn_",
        "colab_type": "text"
      },
      "source": [
        "You can also print a summary of your model by running the following code."
      ]
    },
    {
      "cell_type": "code",
      "metadata": {
        "scrolled": true,
        "id": "UP3pT31bpfn_",
        "colab_type": "code",
        "colab": {},
        "outputId": "5c681b56-0914-4cbd-d385-91d13d376743"
      },
      "source": [
        "model.summary()"
      ],
      "execution_count": 0,
      "outputs": [
        {
          "output_type": "stream",
          "text": [
            "____________________________________________________________________________________________________\n",
            "Layer (type)                     Output Shape          Param #     Connected to                     \n",
            "====================================================================================================\n",
            "input_1 (InputLayer)             (None, 64, 64, 3)     0                                            \n",
            "____________________________________________________________________________________________________\n",
            "zero_padding2d_1 (ZeroPadding2D) (None, 70, 70, 3)     0           input_1[0][0]                    \n",
            "____________________________________________________________________________________________________\n",
            "conv1 (Conv2D)                   (None, 32, 32, 64)    9472        zero_padding2d_1[0][0]           \n",
            "____________________________________________________________________________________________________\n",
            "bn_conv1 (BatchNormalization)    (None, 32, 32, 64)    256         conv1[0][0]                      \n",
            "____________________________________________________________________________________________________\n",
            "activation_4 (Activation)        (None, 32, 32, 64)    0           bn_conv1[0][0]                   \n",
            "____________________________________________________________________________________________________\n",
            "max_pooling2d_1 (MaxPooling2D)   (None, 15, 15, 64)    0           activation_4[0][0]               \n",
            "____________________________________________________________________________________________________\n",
            "res2a_branch2a (Conv2D)          (None, 15, 15, 64)    4160        max_pooling2d_1[0][0]            \n",
            "____________________________________________________________________________________________________\n",
            "bn2a_branch2a (BatchNormalizatio (None, 15, 15, 64)    256         res2a_branch2a[0][0]             \n",
            "____________________________________________________________________________________________________\n",
            "activation_5 (Activation)        (None, 15, 15, 64)    0           bn2a_branch2a[0][0]              \n",
            "____________________________________________________________________________________________________\n",
            "res2a_branch2b (Conv2D)          (None, 15, 15, 64)    36928       activation_5[0][0]               \n",
            "____________________________________________________________________________________________________\n",
            "bn2a_branch2b (BatchNormalizatio (None, 15, 15, 64)    256         res2a_branch2b[0][0]             \n",
            "____________________________________________________________________________________________________\n",
            "activation_6 (Activation)        (None, 15, 15, 64)    0           bn2a_branch2b[0][0]              \n",
            "____________________________________________________________________________________________________\n",
            "res2a_branch2c (Conv2D)          (None, 15, 15, 256)   16640       activation_6[0][0]               \n",
            "____________________________________________________________________________________________________\n",
            "res2a_branch1 (Conv2D)           (None, 15, 15, 256)   16640       max_pooling2d_1[0][0]            \n",
            "____________________________________________________________________________________________________\n",
            "bn2a_branch2c (BatchNormalizatio (None, 15, 15, 256)   1024        res2a_branch2c[0][0]             \n",
            "____________________________________________________________________________________________________\n",
            "bn2a_branch1 (BatchNormalization (None, 15, 15, 256)   1024        res2a_branch1[0][0]              \n",
            "____________________________________________________________________________________________________\n",
            "add_2 (Add)                      (None, 15, 15, 256)   0           bn2a_branch2c[0][0]              \n",
            "                                                                   bn2a_branch1[0][0]               \n",
            "____________________________________________________________________________________________________\n",
            "activation_7 (Activation)        (None, 15, 15, 256)   0           add_2[0][0]                      \n",
            "____________________________________________________________________________________________________\n",
            "res2b_branch2a (Conv2D)          (None, 15, 15, 64)    16448       activation_7[0][0]               \n",
            "____________________________________________________________________________________________________\n",
            "bn2b_branch2a (BatchNormalizatio (None, 15, 15, 64)    256         res2b_branch2a[0][0]             \n",
            "____________________________________________________________________________________________________\n",
            "activation_8 (Activation)        (None, 15, 15, 64)    0           bn2b_branch2a[0][0]              \n",
            "____________________________________________________________________________________________________\n",
            "res2b_branch2b (Conv2D)          (None, 15, 15, 64)    36928       activation_8[0][0]               \n",
            "____________________________________________________________________________________________________\n",
            "bn2b_branch2b (BatchNormalizatio (None, 15, 15, 64)    256         res2b_branch2b[0][0]             \n",
            "____________________________________________________________________________________________________\n",
            "activation_9 (Activation)        (None, 15, 15, 64)    0           bn2b_branch2b[0][0]              \n",
            "____________________________________________________________________________________________________\n",
            "res2b_branch2c (Conv2D)          (None, 15, 15, 256)   16640       activation_9[0][0]               \n",
            "____________________________________________________________________________________________________\n",
            "bn2b_branch2c (BatchNormalizatio (None, 15, 15, 256)   1024        res2b_branch2c[0][0]             \n",
            "____________________________________________________________________________________________________\n",
            "add_3 (Add)                      (None, 15, 15, 256)   0           bn2b_branch2c[0][0]              \n",
            "                                                                   activation_7[0][0]               \n",
            "____________________________________________________________________________________________________\n",
            "activation_10 (Activation)       (None, 15, 15, 256)   0           add_3[0][0]                      \n",
            "____________________________________________________________________________________________________\n",
            "res2c_branch2a (Conv2D)          (None, 15, 15, 64)    16448       activation_10[0][0]              \n",
            "____________________________________________________________________________________________________\n",
            "bn2c_branch2a (BatchNormalizatio (None, 15, 15, 64)    256         res2c_branch2a[0][0]             \n",
            "____________________________________________________________________________________________________\n",
            "activation_11 (Activation)       (None, 15, 15, 64)    0           bn2c_branch2a[0][0]              \n",
            "____________________________________________________________________________________________________\n",
            "res2c_branch2b (Conv2D)          (None, 15, 15, 64)    36928       activation_11[0][0]              \n",
            "____________________________________________________________________________________________________\n",
            "bn2c_branch2b (BatchNormalizatio (None, 15, 15, 64)    256         res2c_branch2b[0][0]             \n",
            "____________________________________________________________________________________________________\n",
            "activation_12 (Activation)       (None, 15, 15, 64)    0           bn2c_branch2b[0][0]              \n",
            "____________________________________________________________________________________________________\n",
            "res2c_branch2c (Conv2D)          (None, 15, 15, 256)   16640       activation_12[0][0]              \n",
            "____________________________________________________________________________________________________\n",
            "bn2c_branch2c (BatchNormalizatio (None, 15, 15, 256)   1024        res2c_branch2c[0][0]             \n",
            "____________________________________________________________________________________________________\n",
            "add_4 (Add)                      (None, 15, 15, 256)   0           bn2c_branch2c[0][0]              \n",
            "                                                                   activation_10[0][0]              \n",
            "____________________________________________________________________________________________________\n",
            "activation_13 (Activation)       (None, 15, 15, 256)   0           add_4[0][0]                      \n",
            "____________________________________________________________________________________________________\n",
            "res3a_branch2a (Conv2D)          (None, 8, 8, 128)     32896       activation_13[0][0]              \n",
            "____________________________________________________________________________________________________\n",
            "bn3a_branch2a (BatchNormalizatio (None, 8, 8, 128)     512         res3a_branch2a[0][0]             \n",
            "____________________________________________________________________________________________________\n",
            "activation_14 (Activation)       (None, 8, 8, 128)     0           bn3a_branch2a[0][0]              \n",
            "____________________________________________________________________________________________________\n",
            "res3a_branch2b (Conv2D)          (None, 8, 8, 128)     147584      activation_14[0][0]              \n",
            "____________________________________________________________________________________________________\n",
            "bn3a_branch2b (BatchNormalizatio (None, 8, 8, 128)     512         res3a_branch2b[0][0]             \n",
            "____________________________________________________________________________________________________\n",
            "activation_15 (Activation)       (None, 8, 8, 128)     0           bn3a_branch2b[0][0]              \n",
            "____________________________________________________________________________________________________\n",
            "res3a_branch2c (Conv2D)          (None, 8, 8, 512)     66048       activation_15[0][0]              \n",
            "____________________________________________________________________________________________________\n",
            "res3a_branch1 (Conv2D)           (None, 8, 8, 512)     131584      activation_13[0][0]              \n",
            "____________________________________________________________________________________________________\n",
            "bn3a_branch2c (BatchNormalizatio (None, 8, 8, 512)     2048        res3a_branch2c[0][0]             \n",
            "____________________________________________________________________________________________________\n",
            "bn3a_branch1 (BatchNormalization (None, 8, 8, 512)     2048        res3a_branch1[0][0]              \n",
            "____________________________________________________________________________________________________\n",
            "add_5 (Add)                      (None, 8, 8, 512)     0           bn3a_branch2c[0][0]              \n",
            "                                                                   bn3a_branch1[0][0]               \n",
            "____________________________________________________________________________________________________\n",
            "activation_16 (Activation)       (None, 8, 8, 512)     0           add_5[0][0]                      \n",
            "____________________________________________________________________________________________________\n",
            "res3b_branch2a (Conv2D)          (None, 8, 8, 128)     65664       activation_16[0][0]              \n",
            "____________________________________________________________________________________________________\n",
            "bn3b_branch2a (BatchNormalizatio (None, 8, 8, 128)     512         res3b_branch2a[0][0]             \n",
            "____________________________________________________________________________________________________\n",
            "activation_17 (Activation)       (None, 8, 8, 128)     0           bn3b_branch2a[0][0]              \n",
            "____________________________________________________________________________________________________\n",
            "res3b_branch2b (Conv2D)          (None, 8, 8, 128)     147584      activation_17[0][0]              \n",
            "____________________________________________________________________________________________________\n",
            "bn3b_branch2b (BatchNormalizatio (None, 8, 8, 128)     512         res3b_branch2b[0][0]             \n",
            "____________________________________________________________________________________________________\n",
            "activation_18 (Activation)       (None, 8, 8, 128)     0           bn3b_branch2b[0][0]              \n",
            "____________________________________________________________________________________________________\n",
            "res3b_branch2c (Conv2D)          (None, 8, 8, 512)     66048       activation_18[0][0]              \n",
            "____________________________________________________________________________________________________\n",
            "bn3b_branch2c (BatchNormalizatio (None, 8, 8, 512)     2048        res3b_branch2c[0][0]             \n",
            "____________________________________________________________________________________________________\n",
            "add_6 (Add)                      (None, 8, 8, 512)     0           bn3b_branch2c[0][0]              \n",
            "                                                                   activation_16[0][0]              \n",
            "____________________________________________________________________________________________________\n",
            "activation_19 (Activation)       (None, 8, 8, 512)     0           add_6[0][0]                      \n",
            "____________________________________________________________________________________________________\n",
            "res3c_branch2a (Conv2D)          (None, 8, 8, 128)     65664       activation_19[0][0]              \n",
            "____________________________________________________________________________________________________\n",
            "bn3c_branch2a (BatchNormalizatio (None, 8, 8, 128)     512         res3c_branch2a[0][0]             \n",
            "____________________________________________________________________________________________________\n",
            "activation_20 (Activation)       (None, 8, 8, 128)     0           bn3c_branch2a[0][0]              \n",
            "____________________________________________________________________________________________________\n",
            "res3c_branch2b (Conv2D)          (None, 8, 8, 128)     147584      activation_20[0][0]              \n",
            "____________________________________________________________________________________________________\n",
            "bn3c_branch2b (BatchNormalizatio (None, 8, 8, 128)     512         res3c_branch2b[0][0]             \n",
            "____________________________________________________________________________________________________\n",
            "activation_21 (Activation)       (None, 8, 8, 128)     0           bn3c_branch2b[0][0]              \n",
            "____________________________________________________________________________________________________\n",
            "res3c_branch2c (Conv2D)          (None, 8, 8, 512)     66048       activation_21[0][0]              \n",
            "____________________________________________________________________________________________________\n",
            "bn3c_branch2c (BatchNormalizatio (None, 8, 8, 512)     2048        res3c_branch2c[0][0]             \n",
            "____________________________________________________________________________________________________\n",
            "add_7 (Add)                      (None, 8, 8, 512)     0           bn3c_branch2c[0][0]              \n",
            "                                                                   activation_19[0][0]              \n",
            "____________________________________________________________________________________________________\n",
            "activation_22 (Activation)       (None, 8, 8, 512)     0           add_7[0][0]                      \n",
            "____________________________________________________________________________________________________\n",
            "res3d_branch2a (Conv2D)          (None, 8, 8, 128)     65664       activation_22[0][0]              \n",
            "____________________________________________________________________________________________________\n",
            "bn3d_branch2a (BatchNormalizatio (None, 8, 8, 128)     512         res3d_branch2a[0][0]             \n",
            "____________________________________________________________________________________________________\n",
            "activation_23 (Activation)       (None, 8, 8, 128)     0           bn3d_branch2a[0][0]              \n",
            "____________________________________________________________________________________________________\n",
            "res3d_branch2b (Conv2D)          (None, 8, 8, 128)     147584      activation_23[0][0]              \n",
            "____________________________________________________________________________________________________\n",
            "bn3d_branch2b (BatchNormalizatio (None, 8, 8, 128)     512         res3d_branch2b[0][0]             \n",
            "____________________________________________________________________________________________________\n",
            "activation_24 (Activation)       (None, 8, 8, 128)     0           bn3d_branch2b[0][0]              \n",
            "____________________________________________________________________________________________________\n",
            "res3d_branch2c (Conv2D)          (None, 8, 8, 512)     66048       activation_24[0][0]              \n",
            "____________________________________________________________________________________________________\n",
            "bn3d_branch2c (BatchNormalizatio (None, 8, 8, 512)     2048        res3d_branch2c[0][0]             \n",
            "____________________________________________________________________________________________________\n",
            "add_8 (Add)                      (None, 8, 8, 512)     0           bn3d_branch2c[0][0]              \n",
            "                                                                   activation_22[0][0]              \n",
            "____________________________________________________________________________________________________\n",
            "activation_25 (Activation)       (None, 8, 8, 512)     0           add_8[0][0]                      \n",
            "____________________________________________________________________________________________________\n",
            "res4a_branch2a (Conv2D)          (None, 4, 4, 256)     131328      activation_25[0][0]              \n",
            "____________________________________________________________________________________________________\n",
            "bn4a_branch2a (BatchNormalizatio (None, 4, 4, 256)     1024        res4a_branch2a[0][0]             \n",
            "____________________________________________________________________________________________________\n",
            "activation_26 (Activation)       (None, 4, 4, 256)     0           bn4a_branch2a[0][0]              \n",
            "____________________________________________________________________________________________________\n",
            "res4a_branch2b (Conv2D)          (None, 4, 4, 256)     590080      activation_26[0][0]              \n",
            "____________________________________________________________________________________________________\n",
            "bn4a_branch2b (BatchNormalizatio (None, 4, 4, 256)     1024        res4a_branch2b[0][0]             \n",
            "____________________________________________________________________________________________________\n",
            "activation_27 (Activation)       (None, 4, 4, 256)     0           bn4a_branch2b[0][0]              \n",
            "____________________________________________________________________________________________________\n",
            "res4a_branch2c (Conv2D)          (None, 4, 4, 1024)    263168      activation_27[0][0]              \n",
            "____________________________________________________________________________________________________\n",
            "res4a_branch1 (Conv2D)           (None, 4, 4, 1024)    525312      activation_25[0][0]              \n",
            "____________________________________________________________________________________________________\n",
            "bn4a_branch2c (BatchNormalizatio (None, 4, 4, 1024)    4096        res4a_branch2c[0][0]             \n",
            "____________________________________________________________________________________________________\n",
            "bn4a_branch1 (BatchNormalization (None, 4, 4, 1024)    4096        res4a_branch1[0][0]              \n",
            "____________________________________________________________________________________________________\n",
            "add_9 (Add)                      (None, 4, 4, 1024)    0           bn4a_branch2c[0][0]              \n",
            "                                                                   bn4a_branch1[0][0]               \n",
            "____________________________________________________________________________________________________\n",
            "activation_28 (Activation)       (None, 4, 4, 1024)    0           add_9[0][0]                      \n",
            "____________________________________________________________________________________________________\n",
            "res4b_branch2a (Conv2D)          (None, 4, 4, 256)     262400      activation_28[0][0]              \n",
            "____________________________________________________________________________________________________\n",
            "bn4b_branch2a (BatchNormalizatio (None, 4, 4, 256)     1024        res4b_branch2a[0][0]             \n",
            "____________________________________________________________________________________________________\n",
            "activation_29 (Activation)       (None, 4, 4, 256)     0           bn4b_branch2a[0][0]              \n",
            "____________________________________________________________________________________________________\n",
            "res4b_branch2b (Conv2D)          (None, 4, 4, 256)     590080      activation_29[0][0]              \n",
            "____________________________________________________________________________________________________\n",
            "bn4b_branch2b (BatchNormalizatio (None, 4, 4, 256)     1024        res4b_branch2b[0][0]             \n",
            "____________________________________________________________________________________________________\n",
            "activation_30 (Activation)       (None, 4, 4, 256)     0           bn4b_branch2b[0][0]              \n",
            "____________________________________________________________________________________________________\n",
            "res4b_branch2c (Conv2D)          (None, 4, 4, 1024)    263168      activation_30[0][0]              \n",
            "____________________________________________________________________________________________________\n",
            "bn4b_branch2c (BatchNormalizatio (None, 4, 4, 1024)    4096        res4b_branch2c[0][0]             \n",
            "____________________________________________________________________________________________________\n",
            "add_10 (Add)                     (None, 4, 4, 1024)    0           bn4b_branch2c[0][0]              \n",
            "                                                                   activation_28[0][0]              \n",
            "____________________________________________________________________________________________________\n",
            "activation_31 (Activation)       (None, 4, 4, 1024)    0           add_10[0][0]                     \n",
            "____________________________________________________________________________________________________\n",
            "res4c_branch2a (Conv2D)          (None, 4, 4, 256)     262400      activation_31[0][0]              \n",
            "____________________________________________________________________________________________________\n",
            "bn4c_branch2a (BatchNormalizatio (None, 4, 4, 256)     1024        res4c_branch2a[0][0]             \n",
            "____________________________________________________________________________________________________\n",
            "activation_32 (Activation)       (None, 4, 4, 256)     0           bn4c_branch2a[0][0]              \n",
            "____________________________________________________________________________________________________\n",
            "res4c_branch2b (Conv2D)          (None, 4, 4, 256)     590080      activation_32[0][0]              \n",
            "____________________________________________________________________________________________________\n",
            "bn4c_branch2b (BatchNormalizatio (None, 4, 4, 256)     1024        res4c_branch2b[0][0]             \n",
            "____________________________________________________________________________________________________\n",
            "activation_33 (Activation)       (None, 4, 4, 256)     0           bn4c_branch2b[0][0]              \n",
            "____________________________________________________________________________________________________\n",
            "res4c_branch2c (Conv2D)          (None, 4, 4, 1024)    263168      activation_33[0][0]              \n",
            "____________________________________________________________________________________________________\n",
            "bn4c_branch2c (BatchNormalizatio (None, 4, 4, 1024)    4096        res4c_branch2c[0][0]             \n",
            "____________________________________________________________________________________________________\n",
            "add_11 (Add)                     (None, 4, 4, 1024)    0           bn4c_branch2c[0][0]              \n",
            "                                                                   activation_31[0][0]              \n",
            "____________________________________________________________________________________________________\n",
            "activation_34 (Activation)       (None, 4, 4, 1024)    0           add_11[0][0]                     \n",
            "____________________________________________________________________________________________________\n",
            "res4d_branch2a (Conv2D)          (None, 4, 4, 256)     262400      activation_34[0][0]              \n",
            "____________________________________________________________________________________________________\n",
            "bn4d_branch2a (BatchNormalizatio (None, 4, 4, 256)     1024        res4d_branch2a[0][0]             \n",
            "____________________________________________________________________________________________________\n",
            "activation_35 (Activation)       (None, 4, 4, 256)     0           bn4d_branch2a[0][0]              \n",
            "____________________________________________________________________________________________________\n",
            "res4d_branch2b (Conv2D)          (None, 4, 4, 256)     590080      activation_35[0][0]              \n",
            "____________________________________________________________________________________________________\n",
            "bn4d_branch2b (BatchNormalizatio (None, 4, 4, 256)     1024        res4d_branch2b[0][0]             \n",
            "____________________________________________________________________________________________________\n",
            "activation_36 (Activation)       (None, 4, 4, 256)     0           bn4d_branch2b[0][0]              \n",
            "____________________________________________________________________________________________________\n",
            "res4d_branch2c (Conv2D)          (None, 4, 4, 1024)    263168      activation_36[0][0]              \n",
            "____________________________________________________________________________________________________\n",
            "bn4d_branch2c (BatchNormalizatio (None, 4, 4, 1024)    4096        res4d_branch2c[0][0]             \n",
            "____________________________________________________________________________________________________\n",
            "add_12 (Add)                     (None, 4, 4, 1024)    0           bn4d_branch2c[0][0]              \n",
            "                                                                   activation_34[0][0]              \n",
            "____________________________________________________________________________________________________\n",
            "activation_37 (Activation)       (None, 4, 4, 1024)    0           add_12[0][0]                     \n",
            "____________________________________________________________________________________________________\n",
            "res4e_branch2a (Conv2D)          (None, 4, 4, 256)     262400      activation_37[0][0]              \n",
            "____________________________________________________________________________________________________\n",
            "bn4e_branch2a (BatchNormalizatio (None, 4, 4, 256)     1024        res4e_branch2a[0][0]             \n",
            "____________________________________________________________________________________________________\n",
            "activation_38 (Activation)       (None, 4, 4, 256)     0           bn4e_branch2a[0][0]              \n",
            "____________________________________________________________________________________________________\n",
            "res4e_branch2b (Conv2D)          (None, 4, 4, 256)     590080      activation_38[0][0]              \n",
            "____________________________________________________________________________________________________\n",
            "bn4e_branch2b (BatchNormalizatio (None, 4, 4, 256)     1024        res4e_branch2b[0][0]             \n",
            "____________________________________________________________________________________________________\n",
            "activation_39 (Activation)       (None, 4, 4, 256)     0           bn4e_branch2b[0][0]              \n",
            "____________________________________________________________________________________________________\n",
            "res4e_branch2c (Conv2D)          (None, 4, 4, 1024)    263168      activation_39[0][0]              \n",
            "____________________________________________________________________________________________________\n",
            "bn4e_branch2c (BatchNormalizatio (None, 4, 4, 1024)    4096        res4e_branch2c[0][0]             \n",
            "____________________________________________________________________________________________________\n",
            "add_13 (Add)                     (None, 4, 4, 1024)    0           bn4e_branch2c[0][0]              \n",
            "                                                                   activation_37[0][0]              \n",
            "____________________________________________________________________________________________________\n",
            "activation_40 (Activation)       (None, 4, 4, 1024)    0           add_13[0][0]                     \n",
            "____________________________________________________________________________________________________\n",
            "res4f_branch2a (Conv2D)          (None, 4, 4, 256)     262400      activation_40[0][0]              \n",
            "____________________________________________________________________________________________________\n",
            "bn4f_branch2a (BatchNormalizatio (None, 4, 4, 256)     1024        res4f_branch2a[0][0]             \n",
            "____________________________________________________________________________________________________\n",
            "activation_41 (Activation)       (None, 4, 4, 256)     0           bn4f_branch2a[0][0]              \n",
            "____________________________________________________________________________________________________\n",
            "res4f_branch2b (Conv2D)          (None, 4, 4, 256)     590080      activation_41[0][0]              \n",
            "____________________________________________________________________________________________________\n",
            "bn4f_branch2b (BatchNormalizatio (None, 4, 4, 256)     1024        res4f_branch2b[0][0]             \n",
            "____________________________________________________________________________________________________\n",
            "activation_42 (Activation)       (None, 4, 4, 256)     0           bn4f_branch2b[0][0]              \n",
            "____________________________________________________________________________________________________\n",
            "res4f_branch2c (Conv2D)          (None, 4, 4, 1024)    263168      activation_42[0][0]              \n",
            "____________________________________________________________________________________________________\n",
            "bn4f_branch2c (BatchNormalizatio (None, 4, 4, 1024)    4096        res4f_branch2c[0][0]             \n",
            "____________________________________________________________________________________________________\n",
            "add_14 (Add)                     (None, 4, 4, 1024)    0           bn4f_branch2c[0][0]              \n",
            "                                                                   activation_40[0][0]              \n",
            "____________________________________________________________________________________________________\n",
            "activation_43 (Activation)       (None, 4, 4, 1024)    0           add_14[0][0]                     \n",
            "____________________________________________________________________________________________________\n",
            "res5a_branch2a (Conv2D)          (None, 2, 2, 512)     524800      activation_43[0][0]              \n",
            "____________________________________________________________________________________________________\n",
            "bn5a_branch2a (BatchNormalizatio (None, 2, 2, 512)     2048        res5a_branch2a[0][0]             \n",
            "____________________________________________________________________________________________________\n",
            "activation_44 (Activation)       (None, 2, 2, 512)     0           bn5a_branch2a[0][0]              \n",
            "____________________________________________________________________________________________________\n",
            "res5a_branch2b (Conv2D)          (None, 2, 2, 512)     2359808     activation_44[0][0]              \n",
            "____________________________________________________________________________________________________\n",
            "bn5a_branch2b (BatchNormalizatio (None, 2, 2, 512)     2048        res5a_branch2b[0][0]             \n",
            "____________________________________________________________________________________________________\n",
            "activation_45 (Activation)       (None, 2, 2, 512)     0           bn5a_branch2b[0][0]              \n",
            "____________________________________________________________________________________________________\n",
            "res5a_branch2c (Conv2D)          (None, 2, 2, 2048)    1050624     activation_45[0][0]              \n",
            "____________________________________________________________________________________________________\n",
            "res5a_branch1 (Conv2D)           (None, 2, 2, 2048)    2099200     activation_43[0][0]              \n",
            "____________________________________________________________________________________________________\n",
            "bn5a_branch2c (BatchNormalizatio (None, 2, 2, 2048)    8192        res5a_branch2c[0][0]             \n",
            "____________________________________________________________________________________________________\n",
            "bn5a_branch1 (BatchNormalization (None, 2, 2, 2048)    8192        res5a_branch1[0][0]              \n",
            "____________________________________________________________________________________________________\n",
            "add_15 (Add)                     (None, 2, 2, 2048)    0           bn5a_branch2c[0][0]              \n",
            "                                                                   bn5a_branch1[0][0]               \n",
            "____________________________________________________________________________________________________\n",
            "activation_46 (Activation)       (None, 2, 2, 2048)    0           add_15[0][0]                     \n",
            "____________________________________________________________________________________________________\n",
            "res5b_branch2a (Conv2D)          (None, 2, 2, 512)     1049088     activation_46[0][0]              \n",
            "____________________________________________________________________________________________________\n",
            "bn5b_branch2a (BatchNormalizatio (None, 2, 2, 512)     2048        res5b_branch2a[0][0]             \n",
            "____________________________________________________________________________________________________\n",
            "activation_47 (Activation)       (None, 2, 2, 512)     0           bn5b_branch2a[0][0]              \n",
            "____________________________________________________________________________________________________\n",
            "res5b_branch2b (Conv2D)          (None, 2, 2, 512)     2359808     activation_47[0][0]              \n",
            "____________________________________________________________________________________________________\n",
            "bn5b_branch2b (BatchNormalizatio (None, 2, 2, 512)     2048        res5b_branch2b[0][0]             \n",
            "____________________________________________________________________________________________________\n",
            "activation_48 (Activation)       (None, 2, 2, 512)     0           bn5b_branch2b[0][0]              \n",
            "____________________________________________________________________________________________________\n",
            "res5b_branch2c (Conv2D)          (None, 2, 2, 2048)    1050624     activation_48[0][0]              \n",
            "____________________________________________________________________________________________________\n",
            "bn5b_branch2c (BatchNormalizatio (None, 2, 2, 2048)    8192        res5b_branch2c[0][0]             \n",
            "____________________________________________________________________________________________________\n",
            "add_16 (Add)                     (None, 2, 2, 2048)    0           bn5b_branch2c[0][0]              \n",
            "                                                                   activation_46[0][0]              \n",
            "____________________________________________________________________________________________________\n",
            "activation_49 (Activation)       (None, 2, 2, 2048)    0           add_16[0][0]                     \n",
            "____________________________________________________________________________________________________\n",
            "res5c_branch2a (Conv2D)          (None, 2, 2, 512)     1049088     activation_49[0][0]              \n",
            "____________________________________________________________________________________________________\n",
            "bn5c_branch2a (BatchNormalizatio (None, 2, 2, 512)     2048        res5c_branch2a[0][0]             \n",
            "____________________________________________________________________________________________________\n",
            "activation_50 (Activation)       (None, 2, 2, 512)     0           bn5c_branch2a[0][0]              \n",
            "____________________________________________________________________________________________________\n",
            "res5c_branch2b (Conv2D)          (None, 2, 2, 512)     2359808     activation_50[0][0]              \n",
            "____________________________________________________________________________________________________\n",
            "bn5c_branch2b (BatchNormalizatio (None, 2, 2, 512)     2048        res5c_branch2b[0][0]             \n",
            "____________________________________________________________________________________________________\n",
            "activation_51 (Activation)       (None, 2, 2, 512)     0           bn5c_branch2b[0][0]              \n",
            "____________________________________________________________________________________________________\n",
            "res5c_branch2c (Conv2D)          (None, 2, 2, 2048)    1050624     activation_51[0][0]              \n",
            "____________________________________________________________________________________________________\n",
            "bn5c_branch2c (BatchNormalizatio (None, 2, 2, 2048)    8192        res5c_branch2c[0][0]             \n",
            "____________________________________________________________________________________________________\n",
            "add_17 (Add)                     (None, 2, 2, 2048)    0           bn5c_branch2c[0][0]              \n",
            "                                                                   activation_49[0][0]              \n",
            "____________________________________________________________________________________________________\n",
            "activation_52 (Activation)       (None, 2, 2, 2048)    0           add_17[0][0]                     \n",
            "____________________________________________________________________________________________________\n",
            "avg_pool (AveragePooling2D)      (None, 1, 1, 2048)    0           activation_52[0][0]              \n",
            "____________________________________________________________________________________________________\n",
            "flatten_1 (Flatten)              (None, 2048)          0           avg_pool[0][0]                   \n",
            "____________________________________________________________________________________________________\n",
            "fc6 (Dense)                      (None, 6)             12294       flatten_1[0][0]                  \n",
            "====================================================================================================\n",
            "Total params: 23,600,006\n",
            "Trainable params: 23,546,886\n",
            "Non-trainable params: 53,120\n",
            "____________________________________________________________________________________________________\n"
          ],
          "name": "stdout"
        }
      ]
    },
    {
      "cell_type": "markdown",
      "metadata": {
        "id": "j7uGsnx3pfoB",
        "colab_type": "text"
      },
      "source": [
        "Finally, run the code below to visualize your ResNet50. You can also download a .png picture of your model by going to \"File -> Open...-> model.png\"."
      ]
    },
    {
      "cell_type": "code",
      "metadata": {
        "scrolled": false,
        "id": "S7Lw-AEhpfoB",
        "colab_type": "code",
        "colab": {},
        "outputId": "018df165-1350-49ba-a0f3-28f6766bf5c6"
      },
      "source": [
        "plot_model(model, to_file='model.png')\n",
        "SVG(model_to_dot(model).create(prog='dot', format='svg'))"
      ],
      "execution_count": 0,
      "outputs": [
        {
          "output_type": "execute_result",
          "data": {
            "image/svg+xml": "<svg height=\"12309pt\" viewBox=\"0.00 0.00 455.00 12309.00\" width=\"455pt\" xmlns=\"http://www.w3.org/2000/svg\" xmlns:xlink=\"http://www.w3.org/1999/xlink\">\n<g class=\"graph\" id=\"graph0\" transform=\"scale(1 1) rotate(0) translate(4 12305)\">\n<title>G</title>\n<polygon fill=\"white\" points=\"-4,4 -4,-12305 451,-12305 451,4 -4,4\" stroke=\"none\"/>\n<!-- 140232318318520 -->\n<g class=\"node\" id=\"node1\"><title>140232318318520</title>\n<polygon fill=\"none\" points=\"146,-12264.5 146,-12300.5 271,-12300.5 271,-12264.5 146,-12264.5\" stroke=\"black\"/>\n<text font-family=\"Times,serif\" font-size=\"14.00\" text-anchor=\"middle\" x=\"208.5\" y=\"-12278.8\">input_1: InputLayer</text>\n</g>\n<!-- 140232318318632 -->\n<g class=\"node\" id=\"node2\"><title>140232318318632</title>\n<polygon fill=\"none\" points=\"103,-12191.5 103,-12227.5 314,-12227.5 314,-12191.5 103,-12191.5\" stroke=\"black\"/>\n<text font-family=\"Times,serif\" font-size=\"14.00\" text-anchor=\"middle\" x=\"208.5\" y=\"-12205.8\">zero_padding2d_1: ZeroPadding2D</text>\n</g>\n<!-- 140232318318520&#45;&gt;140232318318632 -->\n<g class=\"edge\" id=\"edge1\"><title>140232318318520-&gt;140232318318632</title>\n<path d=\"M208.5,-12264.3C208.5,-12256.3 208.5,-12246.5 208.5,-12237.6\" fill=\"none\" stroke=\"black\"/>\n<polygon fill=\"black\" points=\"212,-12237.5 208.5,-12227.5 205,-12237.5 212,-12237.5\" stroke=\"black\"/>\n</g>\n<!-- 140232318319192 -->\n<g class=\"node\" id=\"node3\"><title>140232318319192</title>\n<polygon fill=\"none\" points=\"157,-12118.5 157,-12154.5 260,-12154.5 260,-12118.5 157,-12118.5\" stroke=\"black\"/>\n<text font-family=\"Times,serif\" font-size=\"14.00\" text-anchor=\"middle\" x=\"208.5\" y=\"-12132.8\">conv1: Conv2D</text>\n</g>\n<!-- 140232318318632&#45;&gt;140232318319192 -->\n<g class=\"edge\" id=\"edge2\"><title>140232318318632-&gt;140232318319192</title>\n<path d=\"M208.5,-12191.3C208.5,-12183.3 208.5,-12173.5 208.5,-12164.6\" fill=\"none\" stroke=\"black\"/>\n<polygon fill=\"black\" points=\"212,-12164.5 208.5,-12154.5 205,-12164.5 212,-12164.5\" stroke=\"black\"/>\n</g>\n<!-- 140232318319360 -->\n<g class=\"node\" id=\"node4\"><title>140232318319360</title>\n<polygon fill=\"none\" points=\"114.5,-12045.5 114.5,-12081.5 302.5,-12081.5 302.5,-12045.5 114.5,-12045.5\" stroke=\"black\"/>\n<text font-family=\"Times,serif\" font-size=\"14.00\" text-anchor=\"middle\" x=\"208.5\" y=\"-12059.8\">bn_conv1: BatchNormalization</text>\n</g>\n<!-- 140232318319192&#45;&gt;140232318319360 -->\n<g class=\"edge\" id=\"edge3\"><title>140232318319192-&gt;140232318319360</title>\n<path d=\"M208.5,-12118.3C208.5,-12110.3 208.5,-12100.5 208.5,-12091.6\" fill=\"none\" stroke=\"black\"/>\n<polygon fill=\"black\" points=\"212,-12091.5 208.5,-12081.5 205,-12091.5 212,-12091.5\" stroke=\"black\"/>\n</g>\n<!-- 140232318319920 -->\n<g class=\"node\" id=\"node5\"><title>140232318319920</title>\n<polygon fill=\"none\" points=\"134.5,-11972.5 134.5,-12008.5 282.5,-12008.5 282.5,-11972.5 134.5,-11972.5\" stroke=\"black\"/>\n<text font-family=\"Times,serif\" font-size=\"14.00\" text-anchor=\"middle\" x=\"208.5\" y=\"-11986.8\">activation_4: Activation</text>\n</g>\n<!-- 140232318319360&#45;&gt;140232318319920 -->\n<g class=\"edge\" id=\"edge4\"><title>140232318319360-&gt;140232318319920</title>\n<path d=\"M208.5,-12045.3C208.5,-12037.3 208.5,-12027.5 208.5,-12018.6\" fill=\"none\" stroke=\"black\"/>\n<polygon fill=\"black\" points=\"212,-12018.5 208.5,-12008.5 205,-12018.5 212,-12018.5\" stroke=\"black\"/>\n</g>\n<!-- 140232318319976 -->\n<g class=\"node\" id=\"node6\"><title>140232318319976</title>\n<polygon fill=\"none\" points=\"105,-11899.5 105,-11935.5 312,-11935.5 312,-11899.5 105,-11899.5\" stroke=\"black\"/>\n<text font-family=\"Times,serif\" font-size=\"14.00\" text-anchor=\"middle\" x=\"208.5\" y=\"-11913.8\">max_pooling2d_1: MaxPooling2D</text>\n</g>\n<!-- 140232318319920&#45;&gt;140232318319976 -->\n<g class=\"edge\" id=\"edge5\"><title>140232318319920-&gt;140232318319976</title>\n<path d=\"M208.5,-11972.3C208.5,-11964.3 208.5,-11954.5 208.5,-11945.6\" fill=\"none\" stroke=\"black\"/>\n<polygon fill=\"black\" points=\"212,-11945.5 208.5,-11935.5 205,-11945.5 212,-11945.5\" stroke=\"black\"/>\n</g>\n<!-- 140232318320144 -->\n<g class=\"node\" id=\"node7\"><title>140232318320144</title>\n<polygon fill=\"none\" points=\"55,-11826.5 55,-11862.5 210,-11862.5 210,-11826.5 55,-11826.5\" stroke=\"black\"/>\n<text font-family=\"Times,serif\" font-size=\"14.00\" text-anchor=\"middle\" x=\"132.5\" y=\"-11840.8\">res2a_branch2a: Conv2D</text>\n</g>\n<!-- 140232318319976&#45;&gt;140232318320144 -->\n<g class=\"edge\" id=\"edge6\"><title>140232318319976-&gt;140232318320144</title>\n<path d=\"M190.103,-11899.3C180.487,-11890.3 168.566,-11879.2 158.068,-11869.4\" fill=\"none\" stroke=\"black\"/>\n<polygon fill=\"black\" points=\"160.425,-11866.8 150.728,-11862.5 155.646,-11871.9 160.425,-11866.8\" stroke=\"black\"/>\n</g>\n<!-- 140232318354768 -->\n<g class=\"node\" id=\"node14\"><title>140232318354768</title>\n<polygon fill=\"none\" points=\"235,-11753.5 235,-11789.5 384,-11789.5 384,-11753.5 235,-11753.5\" stroke=\"black\"/>\n<text font-family=\"Times,serif\" font-size=\"14.00\" text-anchor=\"middle\" x=\"309.5\" y=\"-11767.8\">res2a_branch1: Conv2D</text>\n</g>\n<!-- 140232318319976&#45;&gt;140232318354768 -->\n<g class=\"edge\" id=\"edge13\"><title>140232318319976-&gt;140232318354768</title>\n<path d=\"M220.483,-11899.4C238.099,-11874.3 271.11,-11827.2 291.605,-11798\" fill=\"none\" stroke=\"black\"/>\n<polygon fill=\"black\" points=\"294.656,-11799.8 297.533,-11789.6 288.925,-11795.7 294.656,-11799.8\" stroke=\"black\"/>\n</g>\n<!-- 140232318320480 -->\n<g class=\"node\" id=\"node8\"><title>140232318320480</title>\n<polygon fill=\"none\" points=\"0,-11753.5 0,-11789.5 217,-11789.5 217,-11753.5 0,-11753.5\" stroke=\"black\"/>\n<text font-family=\"Times,serif\" font-size=\"14.00\" text-anchor=\"middle\" x=\"108.5\" y=\"-11767.8\">bn2a_branch2a: BatchNormalization</text>\n</g>\n<!-- 140232318320144&#45;&gt;140232318320480 -->\n<g class=\"edge\" id=\"edge7\"><title>140232318320144-&gt;140232318320480</title>\n<path d=\"M126.69,-11826.3C123.949,-11818.2 120.613,-11808.3 117.551,-11799.3\" fill=\"none\" stroke=\"black\"/>\n<polygon fill=\"black\" points=\"120.774,-11797.9 114.256,-11789.5 114.143,-11800.1 120.774,-11797.9\" stroke=\"black\"/>\n</g>\n<!-- 140232597504576 -->\n<g class=\"node\" id=\"node9\"><title>140232597504576</title>\n<polygon fill=\"none\" points=\"35.5,-11680.5 35.5,-11716.5 183.5,-11716.5 183.5,-11680.5 35.5,-11680.5\" stroke=\"black\"/>\n<text font-family=\"Times,serif\" font-size=\"14.00\" text-anchor=\"middle\" x=\"109.5\" y=\"-11694.8\">activation_5: Activation</text>\n</g>\n<!-- 140232318320480&#45;&gt;140232597504576 -->\n<g class=\"edge\" id=\"edge8\"><title>140232318320480-&gt;140232597504576</title>\n<path d=\"M108.742,-11753.3C108.855,-11745.3 108.992,-11735.5 109.119,-11726.6\" fill=\"none\" stroke=\"black\"/>\n<polygon fill=\"black\" points=\"112.619,-11726.6 109.26,-11716.5 105.62,-11726.5 112.619,-11726.6\" stroke=\"black\"/>\n</g>\n<!-- 140232318353704 -->\n<g class=\"node\" id=\"node10\"><title>140232318353704</title>\n<polygon fill=\"none\" points=\"63,-11607.5 63,-11643.5 218,-11643.5 218,-11607.5 63,-11607.5\" stroke=\"black\"/>\n<text font-family=\"Times,serif\" font-size=\"14.00\" text-anchor=\"middle\" x=\"140.5\" y=\"-11621.8\">res2a_branch2b: Conv2D</text>\n</g>\n<!-- 140232597504576&#45;&gt;140232318353704 -->\n<g class=\"edge\" id=\"edge9\"><title>140232597504576-&gt;140232318353704</title>\n<path d=\"M117.004,-11680.3C120.584,-11672.1 124.946,-11662.1 128.936,-11653\" fill=\"none\" stroke=\"black\"/>\n<polygon fill=\"black\" points=\"132.271,-11654.1 133.065,-11643.5 125.856,-11651.3 132.271,-11654.1\" stroke=\"black\"/>\n</g>\n<!-- 140232318354040 -->\n<g class=\"node\" id=\"node11\"><title>140232318354040</title>\n<polygon fill=\"none\" points=\"46.5,-11534.5 46.5,-11570.5 264.5,-11570.5 264.5,-11534.5 46.5,-11534.5\" stroke=\"black\"/>\n<text font-family=\"Times,serif\" font-size=\"14.00\" text-anchor=\"middle\" x=\"155.5\" y=\"-11548.8\">bn2a_branch2b: BatchNormalization</text>\n</g>\n<!-- 140232318353704&#45;&gt;140232318354040 -->\n<g class=\"edge\" id=\"edge10\"><title>140232318353704-&gt;140232318354040</title>\n<path d=\"M144.131,-11607.3C145.826,-11599.3 147.884,-11589.5 149.781,-11580.6\" fill=\"none\" stroke=\"black\"/>\n<polygon fill=\"black\" points=\"153.26,-11581 151.902,-11570.5 146.411,-11579.6 153.26,-11581\" stroke=\"black\"/>\n</g>\n<!-- 140232318354376 -->\n<g class=\"node\" id=\"node12\"><title>140232318354376</title>\n<polygon fill=\"none\" points=\"82.5,-11461.5 82.5,-11497.5 230.5,-11497.5 230.5,-11461.5 82.5,-11461.5\" stroke=\"black\"/>\n<text font-family=\"Times,serif\" font-size=\"14.00\" text-anchor=\"middle\" x=\"156.5\" y=\"-11475.8\">activation_6: Activation</text>\n</g>\n<!-- 140232318354040&#45;&gt;140232318354376 -->\n<g class=\"edge\" id=\"edge11\"><title>140232318354040-&gt;140232318354376</title>\n<path d=\"M155.742,-11534.3C155.855,-11526.3 155.992,-11516.5 156.119,-11507.6\" fill=\"none\" stroke=\"black\"/>\n<polygon fill=\"black\" points=\"159.619,-11507.6 156.26,-11497.5 152.62,-11507.5 159.619,-11507.6\" stroke=\"black\"/>\n</g>\n<!-- 140232318354432 -->\n<g class=\"node\" id=\"node13\"><title>140232318354432</title>\n<polygon fill=\"none\" points=\"83,-11388.5 83,-11424.5 238,-11424.5 238,-11388.5 83,-11388.5\" stroke=\"black\"/>\n<text font-family=\"Times,serif\" font-size=\"14.00\" text-anchor=\"middle\" x=\"160.5\" y=\"-11402.8\">res2a_branch2c: Conv2D</text>\n</g>\n<!-- 140232318354376&#45;&gt;140232318354432 -->\n<g class=\"edge\" id=\"edge12\"><title>140232318354376-&gt;140232318354432</title>\n<path d=\"M157.468,-11461.3C157.92,-11453.3 158.469,-11443.5 158.975,-11434.6\" fill=\"none\" stroke=\"black\"/>\n<polygon fill=\"black\" points=\"162.473,-11434.7 159.541,-11424.5 155.484,-11434.3 162.473,-11434.7\" stroke=\"black\"/>\n</g>\n<!-- 140232318355160 -->\n<g class=\"node\" id=\"node15\"><title>140232318355160</title>\n<polygon fill=\"none\" points=\"54,-11315.5 54,-11351.5 271,-11351.5 271,-11315.5 54,-11315.5\" stroke=\"black\"/>\n<text font-family=\"Times,serif\" font-size=\"14.00\" text-anchor=\"middle\" x=\"162.5\" y=\"-11329.8\">bn2a_branch2c: BatchNormalization</text>\n</g>\n<!-- 140232318354432&#45;&gt;140232318355160 -->\n<g class=\"edge\" id=\"edge14\"><title>140232318354432-&gt;140232318355160</title>\n<path d=\"M160.984,-11388.3C161.21,-11380.3 161.485,-11370.5 161.737,-11361.6\" fill=\"none\" stroke=\"black\"/>\n<polygon fill=\"black\" points=\"165.237,-11361.6 162.02,-11351.5 158.24,-11361.4 165.237,-11361.6\" stroke=\"black\"/>\n</g>\n<!-- 140232318355496 -->\n<g class=\"node\" id=\"node16\"><title>140232318355496</title>\n<polygon fill=\"none\" points=\"203,-11680.5 203,-11716.5 414,-11716.5 414,-11680.5 203,-11680.5\" stroke=\"black\"/>\n<text font-family=\"Times,serif\" font-size=\"14.00\" text-anchor=\"middle\" x=\"308.5\" y=\"-11694.8\">bn2a_branch1: BatchNormalization</text>\n</g>\n<!-- 140232318354768&#45;&gt;140232318355496 -->\n<g class=\"edge\" id=\"edge15\"><title>140232318354768-&gt;140232318355496</title>\n<path d=\"M309.258,-11753.3C309.145,-11745.3 309.008,-11735.5 308.881,-11726.6\" fill=\"none\" stroke=\"black\"/>\n<polygon fill=\"black\" points=\"312.38,-11726.5 308.74,-11716.5 305.381,-11726.6 312.38,-11726.5\" stroke=\"black\"/>\n</g>\n<!-- 140232318355776 -->\n<g class=\"node\" id=\"node17\"><title>140232318355776</title>\n<polygon fill=\"none\" points=\"191.5,-11242.5 191.5,-11278.5 271.5,-11278.5 271.5,-11242.5 191.5,-11242.5\" stroke=\"black\"/>\n<text font-family=\"Times,serif\" font-size=\"14.00\" text-anchor=\"middle\" x=\"231.5\" y=\"-11256.8\">add_2: Add</text>\n</g>\n<!-- 140232318355160&#45;&gt;140232318355776 -->\n<g class=\"edge\" id=\"edge16\"><title>140232318355160-&gt;140232318355776</title>\n<path d=\"M179.203,-11315.3C187.763,-11306.5 198.336,-11295.6 207.731,-11286\" fill=\"none\" stroke=\"black\"/>\n<polygon fill=\"black\" points=\"210.491,-11288.1 214.951,-11278.5 205.471,-11283.3 210.491,-11288.1\" stroke=\"black\"/>\n</g>\n<!-- 140232318355496&#45;&gt;140232318355776 -->\n<g class=\"edge\" id=\"edge17\"><title>140232318355496-&gt;140232318355776</title>\n<path d=\"M306.919,-11680.2C304.588,-11653.2 300.5,-11599.3 300.5,-11553.5 300.5,-11553.5 300.5,-11553.5 300.5,-11405.5 300.5,-11364.2 298.554,-11351.6 279.5,-11315 274.033,-11304.5 266.02,-11294.4 258.1,-11285.9\" fill=\"none\" stroke=\"black\"/>\n<polygon fill=\"black\" points=\"260.418,-11283.3 250.929,-11278.6 255.408,-11288.2 260.418,-11283.3\" stroke=\"black\"/>\n</g>\n<!-- 140232318355832 -->\n<g class=\"node\" id=\"node18\"><title>140232318355832</title>\n<polygon fill=\"none\" points=\"157.5,-11169.5 157.5,-11205.5 305.5,-11205.5 305.5,-11169.5 157.5,-11169.5\" stroke=\"black\"/>\n<text font-family=\"Times,serif\" font-size=\"14.00\" text-anchor=\"middle\" x=\"231.5\" y=\"-11183.8\">activation_7: Activation</text>\n</g>\n<!-- 140232318355776&#45;&gt;140232318355832 -->\n<g class=\"edge\" id=\"edge18\"><title>140232318355776-&gt;140232318355832</title>\n<path d=\"M231.5,-11242.3C231.5,-11234.3 231.5,-11224.5 231.5,-11215.6\" fill=\"none\" stroke=\"black\"/>\n<polygon fill=\"black\" points=\"235,-11215.5 231.5,-11205.5 228,-11215.5 235,-11215.5\" stroke=\"black\"/>\n</g>\n<!-- 140232318355888 -->\n<g class=\"node\" id=\"node19\"><title>140232318355888</title>\n<polygon fill=\"none\" points=\"86,-11096.5 86,-11132.5 241,-11132.5 241,-11096.5 86,-11096.5\" stroke=\"black\"/>\n<text font-family=\"Times,serif\" font-size=\"14.00\" text-anchor=\"middle\" x=\"163.5\" y=\"-11110.8\">res2b_branch2a: Conv2D</text>\n</g>\n<!-- 140232318355832&#45;&gt;140232318355888 -->\n<g class=\"edge\" id=\"edge19\"><title>140232318355832-&gt;140232318355888</title>\n<path d=\"M215.039,-11169.3C206.603,-11160.5 196.183,-11149.6 186.925,-11140\" fill=\"none\" stroke=\"black\"/>\n<polygon fill=\"black\" points=\"189.254,-11137.3 179.809,-11132.5 184.198,-11142.2 189.254,-11137.3\" stroke=\"black\"/>\n</g>\n<!-- 140232318386752 -->\n<g class=\"node\" id=\"node27\"><title>140232318386752</title>\n<polygon fill=\"none\" points=\"176.5,-10512.5 176.5,-10548.5 256.5,-10548.5 256.5,-10512.5 176.5,-10512.5\" stroke=\"black\"/>\n<text font-family=\"Times,serif\" font-size=\"14.00\" text-anchor=\"middle\" x=\"216.5\" y=\"-10526.8\">add_3: Add</text>\n</g>\n<!-- 140232318355832&#45;&gt;140232318386752 -->\n<g class=\"edge\" id=\"edge28\"><title>140232318355832-&gt;140232318386752</title>\n<path d=\"M242.689,-11169.1C258.506,-11142.8 285.5,-11090.8 285.5,-11042.5 285.5,-11042.5 285.5,-11042.5 285.5,-10675.5 285.5,-10634.4 285.452,-10621.5 266.5,-10585 260.923,-10574.3 252.586,-10564.1 244.311,-10555.6\" fill=\"none\" stroke=\"black\"/>\n<polygon fill=\"black\" points=\"246.72,-10553.1 237.125,-10548.6 241.824,-10558.1 246.72,-10553.1\" stroke=\"black\"/>\n</g>\n<!-- 140232318356224 -->\n<g class=\"node\" id=\"node20\"><title>140232318356224</title>\n<polygon fill=\"none\" points=\"39.5,-11023.5 39.5,-11059.5 257.5,-11059.5 257.5,-11023.5 39.5,-11023.5\" stroke=\"black\"/>\n<text font-family=\"Times,serif\" font-size=\"14.00\" text-anchor=\"middle\" x=\"148.5\" y=\"-11037.8\">bn2b_branch2a: BatchNormalization</text>\n</g>\n<!-- 140232318355888&#45;&gt;140232318356224 -->\n<g class=\"edge\" id=\"edge20\"><title>140232318355888-&gt;140232318356224</title>\n<path d=\"M159.869,-11096.3C158.174,-11088.3 156.116,-11078.5 154.219,-11069.6\" fill=\"none\" stroke=\"black\"/>\n<polygon fill=\"black\" points=\"157.589,-11068.6 152.098,-11059.5 150.74,-11070 157.589,-11068.6\" stroke=\"black\"/>\n</g>\n<!-- 140232318356560 -->\n<g class=\"node\" id=\"node21\"><title>140232318356560</title>\n<polygon fill=\"none\" points=\"74.5,-10950.5 74.5,-10986.5 222.5,-10986.5 222.5,-10950.5 74.5,-10950.5\" stroke=\"black\"/>\n<text font-family=\"Times,serif\" font-size=\"14.00\" text-anchor=\"middle\" x=\"148.5\" y=\"-10964.8\">activation_8: Activation</text>\n</g>\n<!-- 140232318356224&#45;&gt;140232318356560 -->\n<g class=\"edge\" id=\"edge21\"><title>140232318356224-&gt;140232318356560</title>\n<path d=\"M148.5,-11023.3C148.5,-11015.3 148.5,-11005.5 148.5,-10996.6\" fill=\"none\" stroke=\"black\"/>\n<polygon fill=\"black\" points=\"152,-10996.5 148.5,-10986.5 145,-10996.5 152,-10996.5\" stroke=\"black\"/>\n</g>\n<!-- 140232318356616 -->\n<g class=\"node\" id=\"node22\"><title>140232318356616</title>\n<polygon fill=\"none\" points=\"70.5,-10877.5 70.5,-10913.5 226.5,-10913.5 226.5,-10877.5 70.5,-10877.5\" stroke=\"black\"/>\n<text font-family=\"Times,serif\" font-size=\"14.00\" text-anchor=\"middle\" x=\"148.5\" y=\"-10891.8\">res2b_branch2b: Conv2D</text>\n</g>\n<!-- 140232318356560&#45;&gt;140232318356616 -->\n<g class=\"edge\" id=\"edge22\"><title>140232318356560-&gt;140232318356616</title>\n<path d=\"M148.5,-10950.3C148.5,-10942.3 148.5,-10932.5 148.5,-10923.6\" fill=\"none\" stroke=\"black\"/>\n<polygon fill=\"black\" points=\"152,-10923.5 148.5,-10913.5 145,-10923.5 152,-10923.5\" stroke=\"black\"/>\n</g>\n<!-- 140232318356952 -->\n<g class=\"node\" id=\"node23\"><title>140232318356952</title>\n<polygon fill=\"none\" points=\"39.5,-10804.5 39.5,-10840.5 257.5,-10840.5 257.5,-10804.5 39.5,-10804.5\" stroke=\"black\"/>\n<text font-family=\"Times,serif\" font-size=\"14.00\" text-anchor=\"middle\" x=\"148.5\" y=\"-10818.8\">bn2b_branch2b: BatchNormalization</text>\n</g>\n<!-- 140232318356616&#45;&gt;140232318356952 -->\n<g class=\"edge\" id=\"edge23\"><title>140232318356616-&gt;140232318356952</title>\n<path d=\"M148.5,-10877.3C148.5,-10869.3 148.5,-10859.5 148.5,-10850.6\" fill=\"none\" stroke=\"black\"/>\n<polygon fill=\"black\" points=\"152,-10850.5 148.5,-10840.5 145,-10850.5 152,-10850.5\" stroke=\"black\"/>\n</g>\n<!-- 140232318357288 -->\n<g class=\"node\" id=\"node24\"><title>140232318357288</title>\n<polygon fill=\"none\" points=\"74.5,-10731.5 74.5,-10767.5 222.5,-10767.5 222.5,-10731.5 74.5,-10731.5\" stroke=\"black\"/>\n<text font-family=\"Times,serif\" font-size=\"14.00\" text-anchor=\"middle\" x=\"148.5\" y=\"-10745.8\">activation_9: Activation</text>\n</g>\n<!-- 140232318356952&#45;&gt;140232318357288 -->\n<g class=\"edge\" id=\"edge24\"><title>140232318356952-&gt;140232318357288</title>\n<path d=\"M148.5,-10804.3C148.5,-10796.3 148.5,-10786.5 148.5,-10777.6\" fill=\"none\" stroke=\"black\"/>\n<polygon fill=\"black\" points=\"152,-10777.5 148.5,-10767.5 145,-10777.5 152,-10777.5\" stroke=\"black\"/>\n</g>\n<!-- 140232318357344 -->\n<g class=\"node\" id=\"node25\"><title>140232318357344</title>\n<polygon fill=\"none\" points=\"71,-10658.5 71,-10694.5 226,-10694.5 226,-10658.5 71,-10658.5\" stroke=\"black\"/>\n<text font-family=\"Times,serif\" font-size=\"14.00\" text-anchor=\"middle\" x=\"148.5\" y=\"-10672.8\">res2b_branch2c: Conv2D</text>\n</g>\n<!-- 140232318357288&#45;&gt;140232318357344 -->\n<g class=\"edge\" id=\"edge25\"><title>140232318357288-&gt;140232318357344</title>\n<path d=\"M148.5,-10731.3C148.5,-10723.3 148.5,-10713.5 148.5,-10704.6\" fill=\"none\" stroke=\"black\"/>\n<polygon fill=\"black\" points=\"152,-10704.5 148.5,-10694.5 145,-10704.5 152,-10704.5\" stroke=\"black\"/>\n</g>\n<!-- 140232318320592 -->\n<g class=\"node\" id=\"node26\"><title>140232318320592</title>\n<polygon fill=\"none\" points=\"39.5,-10585.5 39.5,-10621.5 257.5,-10621.5 257.5,-10585.5 39.5,-10585.5\" stroke=\"black\"/>\n<text font-family=\"Times,serif\" font-size=\"14.00\" text-anchor=\"middle\" x=\"148.5\" y=\"-10599.8\">bn2b_branch2c: BatchNormalization</text>\n</g>\n<!-- 140232318357344&#45;&gt;140232318320592 -->\n<g class=\"edge\" id=\"edge26\"><title>140232318357344-&gt;140232318320592</title>\n<path d=\"M148.5,-10658.3C148.5,-10650.3 148.5,-10640.5 148.5,-10631.6\" fill=\"none\" stroke=\"black\"/>\n<polygon fill=\"black\" points=\"152,-10631.5 148.5,-10621.5 145,-10631.5 152,-10631.5\" stroke=\"black\"/>\n</g>\n<!-- 140232318320592&#45;&gt;140232318386752 -->\n<g class=\"edge\" id=\"edge27\"><title>140232318320592-&gt;140232318386752</title>\n<path d=\"M164.961,-10585.3C173.397,-10576.5 183.817,-10565.6 193.075,-10556\" fill=\"none\" stroke=\"black\"/>\n<polygon fill=\"black\" points=\"195.802,-10558.2 200.191,-10548.5 190.746,-10553.3 195.802,-10558.2\" stroke=\"black\"/>\n</g>\n<!-- 140232318386808 -->\n<g class=\"node\" id=\"node28\"><title>140232318386808</title>\n<polygon fill=\"none\" points=\"139,-10439.5 139,-10475.5 294,-10475.5 294,-10439.5 139,-10439.5\" stroke=\"black\"/>\n<text font-family=\"Times,serif\" font-size=\"14.00\" text-anchor=\"middle\" x=\"216.5\" y=\"-10453.8\">activation_10: Activation</text>\n</g>\n<!-- 140232318386752&#45;&gt;140232318386808 -->\n<g class=\"edge\" id=\"edge29\"><title>140232318386752-&gt;140232318386808</title>\n<path d=\"M216.5,-10512.3C216.5,-10504.3 216.5,-10494.5 216.5,-10485.6\" fill=\"none\" stroke=\"black\"/>\n<polygon fill=\"black\" points=\"220,-10485.5 216.5,-10475.5 213,-10485.5 220,-10485.5\" stroke=\"black\"/>\n</g>\n<!-- 140232318386864 -->\n<g class=\"node\" id=\"node29\"><title>140232318386864</title>\n<polygon fill=\"none\" points=\"71,-10366.5 71,-10402.5 226,-10402.5 226,-10366.5 71,-10366.5\" stroke=\"black\"/>\n<text font-family=\"Times,serif\" font-size=\"14.00\" text-anchor=\"middle\" x=\"148.5\" y=\"-10380.8\">res2c_branch2a: Conv2D</text>\n</g>\n<!-- 140232318386808&#45;&gt;140232318386864 -->\n<g class=\"edge\" id=\"edge30\"><title>140232318386808-&gt;140232318386864</title>\n<path d=\"M200.039,-10439.3C191.603,-10430.5 181.183,-10419.6 171.925,-10410\" fill=\"none\" stroke=\"black\"/>\n<polygon fill=\"black\" points=\"174.254,-10407.3 164.809,-10402.5 169.198,-10412.2 174.254,-10407.3\" stroke=\"black\"/>\n</g>\n<!-- 140232318388824 -->\n<g class=\"node\" id=\"node37\"><title>140232318388824</title>\n<polygon fill=\"none\" points=\"161.5,-9782.5 161.5,-9818.5 241.5,-9818.5 241.5,-9782.5 161.5,-9782.5\" stroke=\"black\"/>\n<text font-family=\"Times,serif\" font-size=\"14.00\" text-anchor=\"middle\" x=\"201.5\" y=\"-9796.8\">add_4: Add</text>\n</g>\n<!-- 140232318386808&#45;&gt;140232318388824 -->\n<g class=\"edge\" id=\"edge39\"><title>140232318386808-&gt;140232318388824</title>\n<path d=\"M227.689,-10439.1C243.506,-10412.8 270.5,-10360.8 270.5,-10312.5 270.5,-10312.5 270.5,-10312.5 270.5,-9945.5 270.5,-9904.31 269.504,-9891.55 250.5,-9855 245.072,-9844.56 237.082,-9834.62 229.122,-9826.2\" fill=\"none\" stroke=\"black\"/>\n<polygon fill=\"black\" points=\"231.425,-9823.55 221.894,-9818.92 226.459,-9828.48 231.425,-9823.55\" stroke=\"black\"/>\n</g>\n<!-- 140232318357456 -->\n<g class=\"node\" id=\"node30\"><title>140232318357456</title>\n<polygon fill=\"none\" points=\"25,-10293.5 25,-10329.5 242,-10329.5 242,-10293.5 25,-10293.5\" stroke=\"black\"/>\n<text font-family=\"Times,serif\" font-size=\"14.00\" text-anchor=\"middle\" x=\"133.5\" y=\"-10307.8\">bn2c_branch2a: BatchNormalization</text>\n</g>\n<!-- 140232318386864&#45;&gt;140232318357456 -->\n<g class=\"edge\" id=\"edge31\"><title>140232318386864-&gt;140232318357456</title>\n<path d=\"M144.869,-10366.3C143.174,-10358.3 141.116,-10348.5 139.219,-10339.6\" fill=\"none\" stroke=\"black\"/>\n<polygon fill=\"black\" points=\"142.589,-10338.6 137.098,-10329.5 135.74,-10340 142.589,-10338.6\" stroke=\"black\"/>\n</g>\n<!-- 140232318387368 -->\n<g class=\"node\" id=\"node31\"><title>140232318387368</title>\n<polygon fill=\"none\" points=\"56,-10220.5 56,-10256.5 211,-10256.5 211,-10220.5 56,-10220.5\" stroke=\"black\"/>\n<text font-family=\"Times,serif\" font-size=\"14.00\" text-anchor=\"middle\" x=\"133.5\" y=\"-10234.8\">activation_11: Activation</text>\n</g>\n<!-- 140232318357456&#45;&gt;140232318387368 -->\n<g class=\"edge\" id=\"edge32\"><title>140232318357456-&gt;140232318387368</title>\n<path d=\"M133.5,-10293.3C133.5,-10285.3 133.5,-10275.5 133.5,-10266.6\" fill=\"none\" stroke=\"black\"/>\n<polygon fill=\"black\" points=\"137,-10266.5 133.5,-10256.5 130,-10266.5 137,-10266.5\" stroke=\"black\"/>\n</g>\n<!-- 140232318387424 -->\n<g class=\"node\" id=\"node32\"><title>140232318387424</title>\n<polygon fill=\"none\" points=\"56,-10147.5 56,-10183.5 211,-10183.5 211,-10147.5 56,-10147.5\" stroke=\"black\"/>\n<text font-family=\"Times,serif\" font-size=\"14.00\" text-anchor=\"middle\" x=\"133.5\" y=\"-10161.8\">res2c_branch2b: Conv2D</text>\n</g>\n<!-- 140232318387368&#45;&gt;140232318387424 -->\n<g class=\"edge\" id=\"edge33\"><title>140232318387368-&gt;140232318387424</title>\n<path d=\"M133.5,-10220.3C133.5,-10212.3 133.5,-10202.5 133.5,-10193.6\" fill=\"none\" stroke=\"black\"/>\n<polygon fill=\"black\" points=\"137,-10193.5 133.5,-10183.5 130,-10193.5 137,-10193.5\" stroke=\"black\"/>\n</g>\n<!-- 140232318387760 -->\n<g class=\"node\" id=\"node33\"><title>140232318387760</title>\n<polygon fill=\"none\" points=\"24.5,-10074.5 24.5,-10110.5 242.5,-10110.5 242.5,-10074.5 24.5,-10074.5\" stroke=\"black\"/>\n<text font-family=\"Times,serif\" font-size=\"14.00\" text-anchor=\"middle\" x=\"133.5\" y=\"-10088.8\">bn2c_branch2b: BatchNormalization</text>\n</g>\n<!-- 140232318387424&#45;&gt;140232318387760 -->\n<g class=\"edge\" id=\"edge34\"><title>140232318387424-&gt;140232318387760</title>\n<path d=\"M133.5,-10147.3C133.5,-10139.3 133.5,-10129.5 133.5,-10120.6\" fill=\"none\" stroke=\"black\"/>\n<polygon fill=\"black\" points=\"137,-10120.5 133.5,-10110.5 130,-10120.5 137,-10120.5\" stroke=\"black\"/>\n</g>\n<!-- 140232318388096 -->\n<g class=\"node\" id=\"node34\"><title>140232318388096</title>\n<polygon fill=\"none\" points=\"56,-10001.5 56,-10037.5 211,-10037.5 211,-10001.5 56,-10001.5\" stroke=\"black\"/>\n<text font-family=\"Times,serif\" font-size=\"14.00\" text-anchor=\"middle\" x=\"133.5\" y=\"-10015.8\">activation_12: Activation</text>\n</g>\n<!-- 140232318387760&#45;&gt;140232318388096 -->\n<g class=\"edge\" id=\"edge35\"><title>140232318387760-&gt;140232318388096</title>\n<path d=\"M133.5,-10074.3C133.5,-10066.3 133.5,-10056.5 133.5,-10047.6\" fill=\"none\" stroke=\"black\"/>\n<polygon fill=\"black\" points=\"137,-10047.5 133.5,-10037.5 130,-10047.5 137,-10047.5\" stroke=\"black\"/>\n</g>\n<!-- 140232318388152 -->\n<g class=\"node\" id=\"node35\"><title>140232318388152</title>\n<polygon fill=\"none\" points=\"56,-9928.5 56,-9964.5 211,-9964.5 211,-9928.5 56,-9928.5\" stroke=\"black\"/>\n<text font-family=\"Times,serif\" font-size=\"14.00\" text-anchor=\"middle\" x=\"133.5\" y=\"-9942.8\">res2c_branch2c: Conv2D</text>\n</g>\n<!-- 140232318388096&#45;&gt;140232318388152 -->\n<g class=\"edge\" id=\"edge36\"><title>140232318388096-&gt;140232318388152</title>\n<path d=\"M133.5,-10001.3C133.5,-9993.29 133.5,-9983.55 133.5,-9974.57\" fill=\"none\" stroke=\"black\"/>\n<polygon fill=\"black\" points=\"137,-9974.53 133.5,-9964.53 130,-9974.53 137,-9974.53\" stroke=\"black\"/>\n</g>\n<!-- 140232318388488 -->\n<g class=\"node\" id=\"node36\"><title>140232318388488</title>\n<polygon fill=\"none\" points=\"25,-9855.5 25,-9891.5 242,-9891.5 242,-9855.5 25,-9855.5\" stroke=\"black\"/>\n<text font-family=\"Times,serif\" font-size=\"14.00\" text-anchor=\"middle\" x=\"133.5\" y=\"-9869.8\">bn2c_branch2c: BatchNormalization</text>\n</g>\n<!-- 140232318388152&#45;&gt;140232318388488 -->\n<g class=\"edge\" id=\"edge37\"><title>140232318388152-&gt;140232318388488</title>\n<path d=\"M133.5,-9928.31C133.5,-9920.29 133.5,-9910.55 133.5,-9901.57\" fill=\"none\" stroke=\"black\"/>\n<polygon fill=\"black\" points=\"137,-9901.53 133.5,-9891.53 130,-9901.53 137,-9901.53\" stroke=\"black\"/>\n</g>\n<!-- 140232318388488&#45;&gt;140232318388824 -->\n<g class=\"edge\" id=\"edge38\"><title>140232318388488-&gt;140232318388824</title>\n<path d=\"M149.961,-9855.31C158.397,-9846.5 168.817,-9835.63 178.075,-9825.96\" fill=\"none\" stroke=\"black\"/>\n<polygon fill=\"black\" points=\"180.802,-9828.17 185.191,-9818.53 175.746,-9823.33 180.802,-9828.17\" stroke=\"black\"/>\n</g>\n<!-- 140232318388880 -->\n<g class=\"node\" id=\"node38\"><title>140232318388880</title>\n<polygon fill=\"none\" points=\"124,-9709.5 124,-9745.5 279,-9745.5 279,-9709.5 124,-9709.5\" stroke=\"black\"/>\n<text font-family=\"Times,serif\" font-size=\"14.00\" text-anchor=\"middle\" x=\"201.5\" y=\"-9723.8\">activation_13: Activation</text>\n</g>\n<!-- 140232318388824&#45;&gt;140232318388880 -->\n<g class=\"edge\" id=\"edge40\"><title>140232318388824-&gt;140232318388880</title>\n<path d=\"M201.5,-9782.31C201.5,-9774.29 201.5,-9764.55 201.5,-9755.57\" fill=\"none\" stroke=\"black\"/>\n<polygon fill=\"black\" points=\"205,-9755.53 201.5,-9745.53 198,-9755.53 205,-9755.53\" stroke=\"black\"/>\n</g>\n<!-- 140232318388936 -->\n<g class=\"node\" id=\"node39\"><title>140232318388936</title>\n<polygon fill=\"none\" points=\"71,-9636.5 71,-9672.5 226,-9672.5 226,-9636.5 71,-9636.5\" stroke=\"black\"/>\n<text font-family=\"Times,serif\" font-size=\"14.00\" text-anchor=\"middle\" x=\"148.5\" y=\"-9650.8\">res3a_branch2a: Conv2D</text>\n</g>\n<!-- 140232318388880&#45;&gt;140232318388936 -->\n<g class=\"edge\" id=\"edge41\"><title>140232318388880-&gt;140232318388936</title>\n<path d=\"M188.67,-9709.31C182.29,-9700.77 174.455,-9690.27 167.403,-9680.82\" fill=\"none\" stroke=\"black\"/>\n<polygon fill=\"black\" points=\"169.998,-9678.45 161.212,-9672.53 164.389,-9682.64 169.998,-9678.45\" stroke=\"black\"/>\n</g>\n<!-- 140232318411272 -->\n<g class=\"node\" id=\"node46\"><title>140232318411272</title>\n<polygon fill=\"none\" points=\"251,-9563.5 251,-9599.5 400,-9599.5 400,-9563.5 251,-9563.5\" stroke=\"black\"/>\n<text font-family=\"Times,serif\" font-size=\"14.00\" text-anchor=\"middle\" x=\"325.5\" y=\"-9577.8\">res3a_branch1: Conv2D</text>\n</g>\n<!-- 140232318388880&#45;&gt;140232318411272 -->\n<g class=\"edge\" id=\"edge48\"><title>140232318388880-&gt;140232318411272</title>\n<path d=\"M216.211,-9709.42C238.025,-9684.08 279.068,-9636.42 304.177,-9607.26\" fill=\"none\" stroke=\"black\"/>\n<polygon fill=\"black\" points=\"306.935,-9609.42 310.808,-9599.56 301.63,-9604.86 306.935,-9609.42\" stroke=\"black\"/>\n</g>\n<!-- 140232318389272 -->\n<g class=\"node\" id=\"node40\"><title>140232318389272</title>\n<polygon fill=\"none\" points=\"16,-9563.5 16,-9599.5 233,-9599.5 233,-9563.5 16,-9563.5\" stroke=\"black\"/>\n<text font-family=\"Times,serif\" font-size=\"14.00\" text-anchor=\"middle\" x=\"124.5\" y=\"-9577.8\">bn3a_branch2a: BatchNormalization</text>\n</g>\n<!-- 140232318388936&#45;&gt;140232318389272 -->\n<g class=\"edge\" id=\"edge42\"><title>140232318388936-&gt;140232318389272</title>\n<path d=\"M142.69,-9636.31C139.949,-9628.2 136.613,-9618.34 133.551,-9609.28\" fill=\"none\" stroke=\"black\"/>\n<polygon fill=\"black\" points=\"136.774,-9607.88 130.256,-9599.53 130.143,-9610.12 136.774,-9607.88\" stroke=\"black\"/>\n</g>\n<!-- 140232318389608 -->\n<g class=\"node\" id=\"node41\"><title>140232318389608</title>\n<polygon fill=\"none\" points=\"47,-9490.5 47,-9526.5 202,-9526.5 202,-9490.5 47,-9490.5\" stroke=\"black\"/>\n<text font-family=\"Times,serif\" font-size=\"14.00\" text-anchor=\"middle\" x=\"124.5\" y=\"-9504.8\">activation_14: Activation</text>\n</g>\n<!-- 140232318389272&#45;&gt;140232318389608 -->\n<g class=\"edge\" id=\"edge43\"><title>140232318389272-&gt;140232318389608</title>\n<path d=\"M124.5,-9563.31C124.5,-9555.29 124.5,-9545.55 124.5,-9536.57\" fill=\"none\" stroke=\"black\"/>\n<polygon fill=\"black\" points=\"128,-9536.53 124.5,-9526.53 121,-9536.53 128,-9536.53\" stroke=\"black\"/>\n</g>\n<!-- 140232318389664 -->\n<g class=\"node\" id=\"node42\"><title>140232318389664</title>\n<polygon fill=\"none\" points=\"79,-9417.5 79,-9453.5 234,-9453.5 234,-9417.5 79,-9417.5\" stroke=\"black\"/>\n<text font-family=\"Times,serif\" font-size=\"14.00\" text-anchor=\"middle\" x=\"156.5\" y=\"-9431.8\">res3a_branch2b: Conv2D</text>\n</g>\n<!-- 140232318389608&#45;&gt;140232318389664 -->\n<g class=\"edge\" id=\"edge44\"><title>140232318389608-&gt;140232318389664</title>\n<path d=\"M132.246,-9490.31C135.98,-9482.03 140.54,-9471.91 144.695,-9462.69\" fill=\"none\" stroke=\"black\"/>\n<polygon fill=\"black\" points=\"147.907,-9464.08 148.825,-9453.53 141.525,-9461.21 147.907,-9464.08\" stroke=\"black\"/>\n</g>\n<!-- 140232318390000 -->\n<g class=\"node\" id=\"node43\"><title>140232318390000</title>\n<polygon fill=\"none\" points=\"63.5,-9344.5 63.5,-9380.5 281.5,-9380.5 281.5,-9344.5 63.5,-9344.5\" stroke=\"black\"/>\n<text font-family=\"Times,serif\" font-size=\"14.00\" text-anchor=\"middle\" x=\"172.5\" y=\"-9358.8\">bn3a_branch2b: BatchNormalization</text>\n</g>\n<!-- 140232318389664&#45;&gt;140232318390000 -->\n<g class=\"edge\" id=\"edge45\"><title>140232318389664-&gt;140232318390000</title>\n<path d=\"M160.373,-9417.31C162.181,-9409.29 164.377,-9399.55 166.4,-9390.57\" fill=\"none\" stroke=\"black\"/>\n<polygon fill=\"black\" points=\"169.878,-9391.05 168.663,-9380.53 163.05,-9389.51 169.878,-9391.05\" stroke=\"black\"/>\n</g>\n<!-- 140233838325152 -->\n<g class=\"node\" id=\"node44\"><title>140233838325152</title>\n<polygon fill=\"none\" points=\"103,-9271.5 103,-9307.5 258,-9307.5 258,-9271.5 103,-9271.5\" stroke=\"black\"/>\n<text font-family=\"Times,serif\" font-size=\"14.00\" text-anchor=\"middle\" x=\"180.5\" y=\"-9285.8\">activation_15: Activation</text>\n</g>\n<!-- 140232318390000&#45;&gt;140233838325152 -->\n<g class=\"edge\" id=\"edge46\"><title>140232318390000-&gt;140233838325152</title>\n<path d=\"M174.437,-9344.31C175.341,-9336.29 176.438,-9326.55 177.45,-9317.57\" fill=\"none\" stroke=\"black\"/>\n<polygon fill=\"black\" points=\"180.939,-9317.86 178.581,-9307.53 173.984,-9317.07 180.939,-9317.86\" stroke=\"black\"/>\n</g>\n<!-- 140232318410936 -->\n<g class=\"node\" id=\"node45\"><title>140232318410936</title>\n<polygon fill=\"none\" points=\"107,-9198.5 107,-9234.5 262,-9234.5 262,-9198.5 107,-9198.5\" stroke=\"black\"/>\n<text font-family=\"Times,serif\" font-size=\"14.00\" text-anchor=\"middle\" x=\"184.5\" y=\"-9212.8\">res3a_branch2c: Conv2D</text>\n</g>\n<!-- 140233838325152&#45;&gt;140232318410936 -->\n<g class=\"edge\" id=\"edge47\"><title>140233838325152-&gt;140232318410936</title>\n<path d=\"M181.468,-9271.31C181.92,-9263.29 182.469,-9253.55 182.975,-9244.57\" fill=\"none\" stroke=\"black\"/>\n<polygon fill=\"black\" points=\"186.473,-9244.71 183.541,-9234.53 179.484,-9244.32 186.473,-9244.71\" stroke=\"black\"/>\n</g>\n<!-- 140232318411664 -->\n<g class=\"node\" id=\"node47\"><title>140232318411664</title>\n<polygon fill=\"none\" points=\"78,-9125.5 78,-9161.5 295,-9161.5 295,-9125.5 78,-9125.5\" stroke=\"black\"/>\n<text font-family=\"Times,serif\" font-size=\"14.00\" text-anchor=\"middle\" x=\"186.5\" y=\"-9139.8\">bn3a_branch2c: BatchNormalization</text>\n</g>\n<!-- 140232318410936&#45;&gt;140232318411664 -->\n<g class=\"edge\" id=\"edge49\"><title>140232318410936-&gt;140232318411664</title>\n<path d=\"M184.984,-9198.31C185.21,-9190.29 185.485,-9180.55 185.737,-9171.57\" fill=\"none\" stroke=\"black\"/>\n<polygon fill=\"black\" points=\"189.237,-9171.62 186.02,-9161.53 182.24,-9171.43 189.237,-9171.62\" stroke=\"black\"/>\n</g>\n<!-- 140232318412000 -->\n<g class=\"node\" id=\"node48\"><title>140232318412000</title>\n<polygon fill=\"none\" points=\"220,-9490.5 220,-9526.5 431,-9526.5 431,-9490.5 220,-9490.5\" stroke=\"black\"/>\n<text font-family=\"Times,serif\" font-size=\"14.00\" text-anchor=\"middle\" x=\"325.5\" y=\"-9504.8\">bn3a_branch1: BatchNormalization</text>\n</g>\n<!-- 140232318411272&#45;&gt;140232318412000 -->\n<g class=\"edge\" id=\"edge50\"><title>140232318411272-&gt;140232318412000</title>\n<path d=\"M325.5,-9563.31C325.5,-9555.29 325.5,-9545.55 325.5,-9536.57\" fill=\"none\" stroke=\"black\"/>\n<polygon fill=\"black\" points=\"329,-9536.53 325.5,-9526.53 322,-9536.53 329,-9536.53\" stroke=\"black\"/>\n</g>\n<!-- 140232318412280 -->\n<g class=\"node\" id=\"node49\"><title>140232318412280</title>\n<polygon fill=\"none\" points=\"215.5,-9052.5 215.5,-9088.5 295.5,-9088.5 295.5,-9052.5 215.5,-9052.5\" stroke=\"black\"/>\n<text font-family=\"Times,serif\" font-size=\"14.00\" text-anchor=\"middle\" x=\"255.5\" y=\"-9066.8\">add_5: Add</text>\n</g>\n<!-- 140232318411664&#45;&gt;140232318412280 -->\n<g class=\"edge\" id=\"edge51\"><title>140232318411664-&gt;140232318412280</title>\n<path d=\"M203.203,-9125.31C211.763,-9116.5 222.336,-9105.63 231.731,-9095.96\" fill=\"none\" stroke=\"black\"/>\n<polygon fill=\"black\" points=\"234.491,-9098.14 238.951,-9088.53 229.471,-9093.26 234.491,-9098.14\" stroke=\"black\"/>\n</g>\n<!-- 140232318412000&#45;&gt;140232318412280 -->\n<g class=\"edge\" id=\"edge52\"><title>140232318412000-&gt;140232318412280</title>\n<path d=\"M325.302,-9490.21C325.011,-9463.18 324.5,-9409.25 324.5,-9363.5 324.5,-9363.5 324.5,-9363.5 324.5,-9215.5 324.5,-9174.21 322.554,-9161.63 303.5,-9125 298.033,-9114.49 290.02,-9104.42 282.1,-9095.9\" fill=\"none\" stroke=\"black\"/>\n<polygon fill=\"black\" points=\"284.418,-9093.27 274.929,-9088.55 279.408,-9098.16 284.418,-9093.27\" stroke=\"black\"/>\n</g>\n<!-- 140232318412336 -->\n<g class=\"node\" id=\"node50\"><title>140232318412336</title>\n<polygon fill=\"none\" points=\"178,-8979.5 178,-9015.5 333,-9015.5 333,-8979.5 178,-8979.5\" stroke=\"black\"/>\n<text font-family=\"Times,serif\" font-size=\"14.00\" text-anchor=\"middle\" x=\"255.5\" y=\"-8993.8\">activation_16: Activation</text>\n</g>\n<!-- 140232318412280&#45;&gt;140232318412336 -->\n<g class=\"edge\" id=\"edge53\"><title>140232318412280-&gt;140232318412336</title>\n<path d=\"M255.5,-9052.31C255.5,-9044.29 255.5,-9034.55 255.5,-9025.57\" fill=\"none\" stroke=\"black\"/>\n<polygon fill=\"black\" points=\"259,-9025.53 255.5,-9015.53 252,-9025.53 259,-9025.53\" stroke=\"black\"/>\n</g>\n<!-- 140232318412392 -->\n<g class=\"node\" id=\"node51\"><title>140232318412392</title>\n<polygon fill=\"none\" points=\"110,-8906.5 110,-8942.5 265,-8942.5 265,-8906.5 110,-8906.5\" stroke=\"black\"/>\n<text font-family=\"Times,serif\" font-size=\"14.00\" text-anchor=\"middle\" x=\"187.5\" y=\"-8920.8\">res3b_branch2a: Conv2D</text>\n</g>\n<!-- 140232318412336&#45;&gt;140232318412392 -->\n<g class=\"edge\" id=\"edge54\"><title>140232318412336-&gt;140232318412392</title>\n<path d=\"M239.039,-8979.31C230.603,-8970.5 220.183,-8959.63 210.925,-8949.96\" fill=\"none\" stroke=\"black\"/>\n<polygon fill=\"black\" points=\"213.254,-8947.33 203.809,-8942.53 208.198,-8952.17 213.254,-8947.33\" stroke=\"black\"/>\n</g>\n<!-- 140232318414520 -->\n<g class=\"node\" id=\"node59\"><title>140232318414520</title>\n<polygon fill=\"none\" points=\"200.5,-8322.5 200.5,-8358.5 280.5,-8358.5 280.5,-8322.5 200.5,-8322.5\" stroke=\"black\"/>\n<text font-family=\"Times,serif\" font-size=\"14.00\" text-anchor=\"middle\" x=\"240.5\" y=\"-8336.8\">add_6: Add</text>\n</g>\n<!-- 140232318412336&#45;&gt;140232318414520 -->\n<g class=\"edge\" id=\"edge63\"><title>140232318412336-&gt;140232318414520</title>\n<path d=\"M266.689,-8979.11C282.506,-8952.8 309.5,-8900.83 309.5,-8852.5 309.5,-8852.5 309.5,-8852.5 309.5,-8485.5 309.5,-8444.4 309.452,-8431.47 290.5,-8395 284.923,-8384.27 276.586,-8374.12 268.311,-8365.61\" fill=\"none\" stroke=\"black\"/>\n<polygon fill=\"black\" points=\"270.72,-8363.07 261.125,-8358.58 265.824,-8368.08 270.72,-8363.07\" stroke=\"black\"/>\n</g>\n<!-- 140232318412728 -->\n<g class=\"node\" id=\"node52\"><title>140232318412728</title>\n<polygon fill=\"none\" points=\"63.5,-8833.5 63.5,-8869.5 281.5,-8869.5 281.5,-8833.5 63.5,-8833.5\" stroke=\"black\"/>\n<text font-family=\"Times,serif\" font-size=\"14.00\" text-anchor=\"middle\" x=\"172.5\" y=\"-8847.8\">bn3b_branch2a: BatchNormalization</text>\n</g>\n<!-- 140232318412392&#45;&gt;140232318412728 -->\n<g class=\"edge\" id=\"edge55\"><title>140232318412392-&gt;140232318412728</title>\n<path d=\"M183.869,-8906.31C182.174,-8898.29 180.116,-8888.55 178.219,-8879.57\" fill=\"none\" stroke=\"black\"/>\n<polygon fill=\"black\" points=\"181.589,-8878.59 176.098,-8869.53 174.74,-8880.04 181.589,-8878.59\" stroke=\"black\"/>\n</g>\n<!-- 140232318413064 -->\n<g class=\"node\" id=\"node53\"><title>140232318413064</title>\n<polygon fill=\"none\" points=\"95,-8760.5 95,-8796.5 250,-8796.5 250,-8760.5 95,-8760.5\" stroke=\"black\"/>\n<text font-family=\"Times,serif\" font-size=\"14.00\" text-anchor=\"middle\" x=\"172.5\" y=\"-8774.8\">activation_17: Activation</text>\n</g>\n<!-- 140232318412728&#45;&gt;140232318413064 -->\n<g class=\"edge\" id=\"edge56\"><title>140232318412728-&gt;140232318413064</title>\n<path d=\"M172.5,-8833.31C172.5,-8825.29 172.5,-8815.55 172.5,-8806.57\" fill=\"none\" stroke=\"black\"/>\n<polygon fill=\"black\" points=\"176,-8806.53 172.5,-8796.53 169,-8806.53 176,-8806.53\" stroke=\"black\"/>\n</g>\n<!-- 140232318413120 -->\n<g class=\"node\" id=\"node54\"><title>140232318413120</title>\n<polygon fill=\"none\" points=\"94.5,-8687.5 94.5,-8723.5 250.5,-8723.5 250.5,-8687.5 94.5,-8687.5\" stroke=\"black\"/>\n<text font-family=\"Times,serif\" font-size=\"14.00\" text-anchor=\"middle\" x=\"172.5\" y=\"-8701.8\">res3b_branch2b: Conv2D</text>\n</g>\n<!-- 140232318413064&#45;&gt;140232318413120 -->\n<g class=\"edge\" id=\"edge57\"><title>140232318413064-&gt;140232318413120</title>\n<path d=\"M172.5,-8760.31C172.5,-8752.29 172.5,-8742.55 172.5,-8733.57\" fill=\"none\" stroke=\"black\"/>\n<polygon fill=\"black\" points=\"176,-8733.53 172.5,-8723.53 169,-8733.53 176,-8733.53\" stroke=\"black\"/>\n</g>\n<!-- 140232318413456 -->\n<g class=\"node\" id=\"node55\"><title>140232318413456</title>\n<polygon fill=\"none\" points=\"63.5,-8614.5 63.5,-8650.5 281.5,-8650.5 281.5,-8614.5 63.5,-8614.5\" stroke=\"black\"/>\n<text font-family=\"Times,serif\" font-size=\"14.00\" text-anchor=\"middle\" x=\"172.5\" y=\"-8628.8\">bn3b_branch2b: BatchNormalization</text>\n</g>\n<!-- 140232318413120&#45;&gt;140232318413456 -->\n<g class=\"edge\" id=\"edge58\"><title>140232318413120-&gt;140232318413456</title>\n<path d=\"M172.5,-8687.31C172.5,-8679.29 172.5,-8669.55 172.5,-8660.57\" fill=\"none\" stroke=\"black\"/>\n<polygon fill=\"black\" points=\"176,-8660.53 172.5,-8650.53 169,-8660.53 176,-8660.53\" stroke=\"black\"/>\n</g>\n<!-- 140232318413792 -->\n<g class=\"node\" id=\"node56\"><title>140232318413792</title>\n<polygon fill=\"none\" points=\"95,-8541.5 95,-8577.5 250,-8577.5 250,-8541.5 95,-8541.5\" stroke=\"black\"/>\n<text font-family=\"Times,serif\" font-size=\"14.00\" text-anchor=\"middle\" x=\"172.5\" y=\"-8555.8\">activation_18: Activation</text>\n</g>\n<!-- 140232318413456&#45;&gt;140232318413792 -->\n<g class=\"edge\" id=\"edge59\"><title>140232318413456-&gt;140232318413792</title>\n<path d=\"M172.5,-8614.31C172.5,-8606.29 172.5,-8596.55 172.5,-8587.57\" fill=\"none\" stroke=\"black\"/>\n<polygon fill=\"black\" points=\"176,-8587.53 172.5,-8577.53 169,-8587.53 176,-8587.53\" stroke=\"black\"/>\n</g>\n<!-- 140232318413848 -->\n<g class=\"node\" id=\"node57\"><title>140232318413848</title>\n<polygon fill=\"none\" points=\"95,-8468.5 95,-8504.5 250,-8504.5 250,-8468.5 95,-8468.5\" stroke=\"black\"/>\n<text font-family=\"Times,serif\" font-size=\"14.00\" text-anchor=\"middle\" x=\"172.5\" y=\"-8482.8\">res3b_branch2c: Conv2D</text>\n</g>\n<!-- 140232318413792&#45;&gt;140232318413848 -->\n<g class=\"edge\" id=\"edge60\"><title>140232318413792-&gt;140232318413848</title>\n<path d=\"M172.5,-8541.31C172.5,-8533.29 172.5,-8523.55 172.5,-8514.57\" fill=\"none\" stroke=\"black\"/>\n<polygon fill=\"black\" points=\"176,-8514.53 172.5,-8504.53 169,-8514.53 176,-8514.53\" stroke=\"black\"/>\n</g>\n<!-- 140232318414184 -->\n<g class=\"node\" id=\"node58\"><title>140232318414184</title>\n<polygon fill=\"none\" points=\"63.5,-8395.5 63.5,-8431.5 281.5,-8431.5 281.5,-8395.5 63.5,-8395.5\" stroke=\"black\"/>\n<text font-family=\"Times,serif\" font-size=\"14.00\" text-anchor=\"middle\" x=\"172.5\" y=\"-8409.8\">bn3b_branch2c: BatchNormalization</text>\n</g>\n<!-- 140232318413848&#45;&gt;140232318414184 -->\n<g class=\"edge\" id=\"edge61\"><title>140232318413848-&gt;140232318414184</title>\n<path d=\"M172.5,-8468.31C172.5,-8460.29 172.5,-8450.55 172.5,-8441.57\" fill=\"none\" stroke=\"black\"/>\n<polygon fill=\"black\" points=\"176,-8441.53 172.5,-8431.53 169,-8441.53 176,-8441.53\" stroke=\"black\"/>\n</g>\n<!-- 140232318414184&#45;&gt;140232318414520 -->\n<g class=\"edge\" id=\"edge62\"><title>140232318414184-&gt;140232318414520</title>\n<path d=\"M188.961,-8395.31C197.397,-8386.5 207.817,-8375.63 217.075,-8365.96\" fill=\"none\" stroke=\"black\"/>\n<polygon fill=\"black\" points=\"219.802,-8368.17 224.191,-8358.53 214.746,-8363.33 219.802,-8368.17\" stroke=\"black\"/>\n</g>\n<!-- 140232318414576 -->\n<g class=\"node\" id=\"node60\"><title>140232318414576</title>\n<polygon fill=\"none\" points=\"163,-8249.5 163,-8285.5 318,-8285.5 318,-8249.5 163,-8249.5\" stroke=\"black\"/>\n<text font-family=\"Times,serif\" font-size=\"14.00\" text-anchor=\"middle\" x=\"240.5\" y=\"-8263.8\">activation_19: Activation</text>\n</g>\n<!-- 140232318414520&#45;&gt;140232318414576 -->\n<g class=\"edge\" id=\"edge64\"><title>140232318414520-&gt;140232318414576</title>\n<path d=\"M240.5,-8322.31C240.5,-8314.29 240.5,-8304.55 240.5,-8295.57\" fill=\"none\" stroke=\"black\"/>\n<polygon fill=\"black\" points=\"244,-8295.53 240.5,-8285.53 237,-8295.53 244,-8295.53\" stroke=\"black\"/>\n</g>\n<!-- 140232318414632 -->\n<g class=\"node\" id=\"node61\"><title>140232318414632</title>\n<polygon fill=\"none\" points=\"95,-8176.5 95,-8212.5 250,-8212.5 250,-8176.5 95,-8176.5\" stroke=\"black\"/>\n<text font-family=\"Times,serif\" font-size=\"14.00\" text-anchor=\"middle\" x=\"172.5\" y=\"-8190.8\">res3c_branch2a: Conv2D</text>\n</g>\n<!-- 140232318414576&#45;&gt;140232318414632 -->\n<g class=\"edge\" id=\"edge65\"><title>140232318414576-&gt;140232318414632</title>\n<path d=\"M224.039,-8249.31C215.603,-8240.5 205.183,-8229.63 195.925,-8219.96\" fill=\"none\" stroke=\"black\"/>\n<polygon fill=\"black\" points=\"198.254,-8217.33 188.809,-8212.53 193.198,-8222.17 198.254,-8217.33\" stroke=\"black\"/>\n</g>\n<!-- 140232317925304 -->\n<g class=\"node\" id=\"node69\"><title>140232317925304</title>\n<polygon fill=\"none\" points=\"185.5,-7592.5 185.5,-7628.5 265.5,-7628.5 265.5,-7592.5 185.5,-7592.5\" stroke=\"black\"/>\n<text font-family=\"Times,serif\" font-size=\"14.00\" text-anchor=\"middle\" x=\"225.5\" y=\"-7606.8\">add_7: Add</text>\n</g>\n<!-- 140232318414576&#45;&gt;140232317925304 -->\n<g class=\"edge\" id=\"edge74\"><title>140232318414576-&gt;140232317925304</title>\n<path d=\"M251.689,-8249.11C267.506,-8222.8 294.5,-8170.83 294.5,-8122.5 294.5,-8122.5 294.5,-8122.5 294.5,-7755.5 294.5,-7714.31 293.504,-7701.55 274.5,-7665 269.072,-7654.56 261.082,-7644.62 253.122,-7636.2\" fill=\"none\" stroke=\"black\"/>\n<polygon fill=\"black\" points=\"255.425,-7633.55 245.894,-7628.92 250.459,-7638.48 255.425,-7633.55\" stroke=\"black\"/>\n</g>\n<!-- 140232318390224 -->\n<g class=\"node\" id=\"node62\"><title>140232318390224</title>\n<polygon fill=\"none\" points=\"49,-8103.5 49,-8139.5 266,-8139.5 266,-8103.5 49,-8103.5\" stroke=\"black\"/>\n<text font-family=\"Times,serif\" font-size=\"14.00\" text-anchor=\"middle\" x=\"157.5\" y=\"-8117.8\">bn3c_branch2a: BatchNormalization</text>\n</g>\n<!-- 140232318414632&#45;&gt;140232318390224 -->\n<g class=\"edge\" id=\"edge66\"><title>140232318414632-&gt;140232318390224</title>\n<path d=\"M168.869,-8176.31C167.174,-8168.29 165.116,-8158.55 163.219,-8149.57\" fill=\"none\" stroke=\"black\"/>\n<polygon fill=\"black\" points=\"166.589,-8148.59 161.098,-8139.53 159.74,-8150.04 166.589,-8148.59\" stroke=\"black\"/>\n</g>\n<!-- 140232317923848 -->\n<g class=\"node\" id=\"node63\"><title>140232317923848</title>\n<polygon fill=\"none\" points=\"80,-8030.5 80,-8066.5 235,-8066.5 235,-8030.5 80,-8030.5\" stroke=\"black\"/>\n<text font-family=\"Times,serif\" font-size=\"14.00\" text-anchor=\"middle\" x=\"157.5\" y=\"-8044.8\">activation_20: Activation</text>\n</g>\n<!-- 140232318390224&#45;&gt;140232317923848 -->\n<g class=\"edge\" id=\"edge67\"><title>140232318390224-&gt;140232317923848</title>\n<path d=\"M157.5,-8103.31C157.5,-8095.29 157.5,-8085.55 157.5,-8076.57\" fill=\"none\" stroke=\"black\"/>\n<polygon fill=\"black\" points=\"161,-8076.53 157.5,-8066.53 154,-8076.53 161,-8076.53\" stroke=\"black\"/>\n</g>\n<!-- 140232317923904 -->\n<g class=\"node\" id=\"node64\"><title>140232317923904</title>\n<polygon fill=\"none\" points=\"80,-7957.5 80,-7993.5 235,-7993.5 235,-7957.5 80,-7957.5\" stroke=\"black\"/>\n<text font-family=\"Times,serif\" font-size=\"14.00\" text-anchor=\"middle\" x=\"157.5\" y=\"-7971.8\">res3c_branch2b: Conv2D</text>\n</g>\n<!-- 140232317923848&#45;&gt;140232317923904 -->\n<g class=\"edge\" id=\"edge68\"><title>140232317923848-&gt;140232317923904</title>\n<path d=\"M157.5,-8030.31C157.5,-8022.29 157.5,-8012.55 157.5,-8003.57\" fill=\"none\" stroke=\"black\"/>\n<polygon fill=\"black\" points=\"161,-8003.53 157.5,-7993.53 154,-8003.53 161,-8003.53\" stroke=\"black\"/>\n</g>\n<!-- 140232317924240 -->\n<g class=\"node\" id=\"node65\"><title>140232317924240</title>\n<polygon fill=\"none\" points=\"48.5,-7884.5 48.5,-7920.5 266.5,-7920.5 266.5,-7884.5 48.5,-7884.5\" stroke=\"black\"/>\n<text font-family=\"Times,serif\" font-size=\"14.00\" text-anchor=\"middle\" x=\"157.5\" y=\"-7898.8\">bn3c_branch2b: BatchNormalization</text>\n</g>\n<!-- 140232317923904&#45;&gt;140232317924240 -->\n<g class=\"edge\" id=\"edge69\"><title>140232317923904-&gt;140232317924240</title>\n<path d=\"M157.5,-7957.31C157.5,-7949.29 157.5,-7939.55 157.5,-7930.57\" fill=\"none\" stroke=\"black\"/>\n<polygon fill=\"black\" points=\"161,-7930.53 157.5,-7920.53 154,-7930.53 161,-7930.53\" stroke=\"black\"/>\n</g>\n<!-- 140232317924576 -->\n<g class=\"node\" id=\"node66\"><title>140232317924576</title>\n<polygon fill=\"none\" points=\"80,-7811.5 80,-7847.5 235,-7847.5 235,-7811.5 80,-7811.5\" stroke=\"black\"/>\n<text font-family=\"Times,serif\" font-size=\"14.00\" text-anchor=\"middle\" x=\"157.5\" y=\"-7825.8\">activation_21: Activation</text>\n</g>\n<!-- 140232317924240&#45;&gt;140232317924576 -->\n<g class=\"edge\" id=\"edge70\"><title>140232317924240-&gt;140232317924576</title>\n<path d=\"M157.5,-7884.31C157.5,-7876.29 157.5,-7866.55 157.5,-7857.57\" fill=\"none\" stroke=\"black\"/>\n<polygon fill=\"black\" points=\"161,-7857.53 157.5,-7847.53 154,-7857.53 161,-7857.53\" stroke=\"black\"/>\n</g>\n<!-- 140232317924632 -->\n<g class=\"node\" id=\"node67\"><title>140232317924632</title>\n<polygon fill=\"none\" points=\"80,-7738.5 80,-7774.5 235,-7774.5 235,-7738.5 80,-7738.5\" stroke=\"black\"/>\n<text font-family=\"Times,serif\" font-size=\"14.00\" text-anchor=\"middle\" x=\"157.5\" y=\"-7752.8\">res3c_branch2c: Conv2D</text>\n</g>\n<!-- 140232317924576&#45;&gt;140232317924632 -->\n<g class=\"edge\" id=\"edge71\"><title>140232317924576-&gt;140232317924632</title>\n<path d=\"M157.5,-7811.31C157.5,-7803.29 157.5,-7793.55 157.5,-7784.57\" fill=\"none\" stroke=\"black\"/>\n<polygon fill=\"black\" points=\"161,-7784.53 157.5,-7774.53 154,-7784.53 161,-7784.53\" stroke=\"black\"/>\n</g>\n<!-- 140232317924968 -->\n<g class=\"node\" id=\"node68\"><title>140232317924968</title>\n<polygon fill=\"none\" points=\"49,-7665.5 49,-7701.5 266,-7701.5 266,-7665.5 49,-7665.5\" stroke=\"black\"/>\n<text font-family=\"Times,serif\" font-size=\"14.00\" text-anchor=\"middle\" x=\"157.5\" y=\"-7679.8\">bn3c_branch2c: BatchNormalization</text>\n</g>\n<!-- 140232317924632&#45;&gt;140232317924968 -->\n<g class=\"edge\" id=\"edge72\"><title>140232317924632-&gt;140232317924968</title>\n<path d=\"M157.5,-7738.31C157.5,-7730.29 157.5,-7720.55 157.5,-7711.57\" fill=\"none\" stroke=\"black\"/>\n<polygon fill=\"black\" points=\"161,-7711.53 157.5,-7701.53 154,-7711.53 161,-7711.53\" stroke=\"black\"/>\n</g>\n<!-- 140232317924968&#45;&gt;140232317925304 -->\n<g class=\"edge\" id=\"edge73\"><title>140232317924968-&gt;140232317925304</title>\n<path d=\"M173.961,-7665.31C182.397,-7656.5 192.817,-7645.63 202.075,-7635.96\" fill=\"none\" stroke=\"black\"/>\n<polygon fill=\"black\" points=\"204.802,-7638.17 209.191,-7628.53 199.746,-7633.33 204.802,-7638.17\" stroke=\"black\"/>\n</g>\n<!-- 140232317925360 -->\n<g class=\"node\" id=\"node70\"><title>140232317925360</title>\n<polygon fill=\"none\" points=\"148,-7519.5 148,-7555.5 303,-7555.5 303,-7519.5 148,-7519.5\" stroke=\"black\"/>\n<text font-family=\"Times,serif\" font-size=\"14.00\" text-anchor=\"middle\" x=\"225.5\" y=\"-7533.8\">activation_22: Activation</text>\n</g>\n<!-- 140232317925304&#45;&gt;140232317925360 -->\n<g class=\"edge\" id=\"edge75\"><title>140232317925304-&gt;140232317925360</title>\n<path d=\"M225.5,-7592.31C225.5,-7584.29 225.5,-7574.55 225.5,-7565.57\" fill=\"none\" stroke=\"black\"/>\n<polygon fill=\"black\" points=\"229,-7565.53 225.5,-7555.53 222,-7565.53 229,-7565.53\" stroke=\"black\"/>\n</g>\n<!-- 140232317925416 -->\n<g class=\"node\" id=\"node71\"><title>140232317925416</title>\n<polygon fill=\"none\" points=\"80,-7446.5 80,-7482.5 235,-7482.5 235,-7446.5 80,-7446.5\" stroke=\"black\"/>\n<text font-family=\"Times,serif\" font-size=\"14.00\" text-anchor=\"middle\" x=\"157.5\" y=\"-7460.8\">res3d_branch2a: Conv2D</text>\n</g>\n<!-- 140232317925360&#45;&gt;140232317925416 -->\n<g class=\"edge\" id=\"edge76\"><title>140232317925360-&gt;140232317925416</title>\n<path d=\"M209.039,-7519.31C200.603,-7510.5 190.183,-7499.63 180.925,-7489.96\" fill=\"none\" stroke=\"black\"/>\n<polygon fill=\"black\" points=\"183.254,-7487.33 173.809,-7482.53 178.198,-7492.17 183.254,-7487.33\" stroke=\"black\"/>\n</g>\n<!-- 140232318414800 -->\n<g class=\"node\" id=\"node79\"><title>140232318414800</title>\n<polygon fill=\"none\" points=\"170.5,-6862.5 170.5,-6898.5 250.5,-6898.5 250.5,-6862.5 170.5,-6862.5\" stroke=\"black\"/>\n<text font-family=\"Times,serif\" font-size=\"14.00\" text-anchor=\"middle\" x=\"210.5\" y=\"-6876.8\">add_8: Add</text>\n</g>\n<!-- 140232317925360&#45;&gt;140232318414800 -->\n<g class=\"edge\" id=\"edge85\"><title>140232317925360-&gt;140232318414800</title>\n<path d=\"M236.689,-7519.11C252.506,-7492.8 279.5,-7440.83 279.5,-7392.5 279.5,-7392.5 279.5,-7392.5 279.5,-7025.5 279.5,-6984.4 279.452,-6971.47 260.5,-6935 254.923,-6924.27 246.586,-6914.12 238.311,-6905.61\" fill=\"none\" stroke=\"black\"/>\n<polygon fill=\"black\" points=\"240.72,-6903.07 231.125,-6898.58 235.824,-6908.08 240.72,-6903.07\" stroke=\"black\"/>\n</g>\n<!-- 140232317925752 -->\n<g class=\"node\" id=\"node72\"><title>140232317925752</title>\n<polygon fill=\"none\" points=\"33.5,-7373.5 33.5,-7409.5 251.5,-7409.5 251.5,-7373.5 33.5,-7373.5\" stroke=\"black\"/>\n<text font-family=\"Times,serif\" font-size=\"14.00\" text-anchor=\"middle\" x=\"142.5\" y=\"-7387.8\">bn3d_branch2a: BatchNormalization</text>\n</g>\n<!-- 140232317925416&#45;&gt;140232317925752 -->\n<g class=\"edge\" id=\"edge77\"><title>140232317925416-&gt;140232317925752</title>\n<path d=\"M153.869,-7446.31C152.174,-7438.29 150.116,-7428.55 148.219,-7419.57\" fill=\"none\" stroke=\"black\"/>\n<polygon fill=\"black\" points=\"151.589,-7418.59 146.098,-7409.53 144.74,-7420.04 151.589,-7418.59\" stroke=\"black\"/>\n</g>\n<!-- 140232317926088 -->\n<g class=\"node\" id=\"node73\"><title>140232317926088</title>\n<polygon fill=\"none\" points=\"65,-7300.5 65,-7336.5 220,-7336.5 220,-7300.5 65,-7300.5\" stroke=\"black\"/>\n<text font-family=\"Times,serif\" font-size=\"14.00\" text-anchor=\"middle\" x=\"142.5\" y=\"-7314.8\">activation_23: Activation</text>\n</g>\n<!-- 140232317925752&#45;&gt;140232317926088 -->\n<g class=\"edge\" id=\"edge78\"><title>140232317925752-&gt;140232317926088</title>\n<path d=\"M142.5,-7373.31C142.5,-7365.29 142.5,-7355.55 142.5,-7346.57\" fill=\"none\" stroke=\"black\"/>\n<polygon fill=\"black\" points=\"146,-7346.53 142.5,-7336.53 139,-7346.53 146,-7346.53\" stroke=\"black\"/>\n</g>\n<!-- 140232317926144 -->\n<g class=\"node\" id=\"node74\"><title>140232317926144</title>\n<polygon fill=\"none\" points=\"64.5,-7227.5 64.5,-7263.5 220.5,-7263.5 220.5,-7227.5 64.5,-7227.5\" stroke=\"black\"/>\n<text font-family=\"Times,serif\" font-size=\"14.00\" text-anchor=\"middle\" x=\"142.5\" y=\"-7241.8\">res3d_branch2b: Conv2D</text>\n</g>\n<!-- 140232317926088&#45;&gt;140232317926144 -->\n<g class=\"edge\" id=\"edge79\"><title>140232317926088-&gt;140232317926144</title>\n<path d=\"M142.5,-7300.31C142.5,-7292.29 142.5,-7282.55 142.5,-7273.57\" fill=\"none\" stroke=\"black\"/>\n<polygon fill=\"black\" points=\"146,-7273.53 142.5,-7263.53 139,-7273.53 146,-7273.53\" stroke=\"black\"/>\n</g>\n<!-- 140232317926480 -->\n<g class=\"node\" id=\"node75\"><title>140232317926480</title>\n<polygon fill=\"none\" points=\"33.5,-7154.5 33.5,-7190.5 251.5,-7190.5 251.5,-7154.5 33.5,-7154.5\" stroke=\"black\"/>\n<text font-family=\"Times,serif\" font-size=\"14.00\" text-anchor=\"middle\" x=\"142.5\" y=\"-7168.8\">bn3d_branch2b: BatchNormalization</text>\n</g>\n<!-- 140232317926144&#45;&gt;140232317926480 -->\n<g class=\"edge\" id=\"edge80\"><title>140232317926144-&gt;140232317926480</title>\n<path d=\"M142.5,-7227.31C142.5,-7219.29 142.5,-7209.55 142.5,-7200.57\" fill=\"none\" stroke=\"black\"/>\n<polygon fill=\"black\" points=\"146,-7200.53 142.5,-7190.53 139,-7200.53 146,-7200.53\" stroke=\"black\"/>\n</g>\n<!-- 140232317926816 -->\n<g class=\"node\" id=\"node76\"><title>140232317926816</title>\n<polygon fill=\"none\" points=\"65,-7081.5 65,-7117.5 220,-7117.5 220,-7081.5 65,-7081.5\" stroke=\"black\"/>\n<text font-family=\"Times,serif\" font-size=\"14.00\" text-anchor=\"middle\" x=\"142.5\" y=\"-7095.8\">activation_24: Activation</text>\n</g>\n<!-- 140232317926480&#45;&gt;140232317926816 -->\n<g class=\"edge\" id=\"edge81\"><title>140232317926480-&gt;140232317926816</title>\n<path d=\"M142.5,-7154.31C142.5,-7146.29 142.5,-7136.55 142.5,-7127.57\" fill=\"none\" stroke=\"black\"/>\n<polygon fill=\"black\" points=\"146,-7127.53 142.5,-7117.53 139,-7127.53 146,-7127.53\" stroke=\"black\"/>\n</g>\n<!-- 140232317926872 -->\n<g class=\"node\" id=\"node77\"><title>140232317926872</title>\n<polygon fill=\"none\" points=\"65,-7008.5 65,-7044.5 220,-7044.5 220,-7008.5 65,-7008.5\" stroke=\"black\"/>\n<text font-family=\"Times,serif\" font-size=\"14.00\" text-anchor=\"middle\" x=\"142.5\" y=\"-7022.8\">res3d_branch2c: Conv2D</text>\n</g>\n<!-- 140232317926816&#45;&gt;140232317926872 -->\n<g class=\"edge\" id=\"edge82\"><title>140232317926816-&gt;140232317926872</title>\n<path d=\"M142.5,-7081.31C142.5,-7073.29 142.5,-7063.55 142.5,-7054.57\" fill=\"none\" stroke=\"black\"/>\n<polygon fill=\"black\" points=\"146,-7054.53 142.5,-7044.53 139,-7054.53 146,-7054.53\" stroke=\"black\"/>\n</g>\n<!-- 140232317927208 -->\n<g class=\"node\" id=\"node78\"><title>140232317927208</title>\n<polygon fill=\"none\" points=\"33.5,-6935.5 33.5,-6971.5 251.5,-6971.5 251.5,-6935.5 33.5,-6935.5\" stroke=\"black\"/>\n<text font-family=\"Times,serif\" font-size=\"14.00\" text-anchor=\"middle\" x=\"142.5\" y=\"-6949.8\">bn3d_branch2c: BatchNormalization</text>\n</g>\n<!-- 140232317926872&#45;&gt;140232317927208 -->\n<g class=\"edge\" id=\"edge83\"><title>140232317926872-&gt;140232317927208</title>\n<path d=\"M142.5,-7008.31C142.5,-7000.29 142.5,-6990.55 142.5,-6981.57\" fill=\"none\" stroke=\"black\"/>\n<polygon fill=\"black\" points=\"146,-6981.53 142.5,-6971.53 139,-6981.53 146,-6981.53\" stroke=\"black\"/>\n</g>\n<!-- 140232317927208&#45;&gt;140232318414800 -->\n<g class=\"edge\" id=\"edge84\"><title>140232317927208-&gt;140232318414800</title>\n<path d=\"M158.961,-6935.31C167.397,-6926.5 177.817,-6915.63 187.075,-6905.96\" fill=\"none\" stroke=\"black\"/>\n<polygon fill=\"black\" points=\"189.802,-6908.17 194.191,-6898.53 184.746,-6903.33 189.802,-6908.17\" stroke=\"black\"/>\n</g>\n<!-- 140232317939952 -->\n<g class=\"node\" id=\"node80\"><title>140232317939952</title>\n<polygon fill=\"none\" points=\"133,-6789.5 133,-6825.5 288,-6825.5 288,-6789.5 133,-6789.5\" stroke=\"black\"/>\n<text font-family=\"Times,serif\" font-size=\"14.00\" text-anchor=\"middle\" x=\"210.5\" y=\"-6803.8\">activation_25: Activation</text>\n</g>\n<!-- 140232318414800&#45;&gt;140232317939952 -->\n<g class=\"edge\" id=\"edge86\"><title>140232318414800-&gt;140232317939952</title>\n<path d=\"M210.5,-6862.31C210.5,-6854.29 210.5,-6844.55 210.5,-6835.57\" fill=\"none\" stroke=\"black\"/>\n<polygon fill=\"black\" points=\"214,-6835.53 210.5,-6825.53 207,-6835.53 214,-6835.53\" stroke=\"black\"/>\n</g>\n<!-- 140232317940008 -->\n<g class=\"node\" id=\"node81\"><title>140232317940008</title>\n<polygon fill=\"none\" points=\"80,-6716.5 80,-6752.5 235,-6752.5 235,-6716.5 80,-6716.5\" stroke=\"black\"/>\n<text font-family=\"Times,serif\" font-size=\"14.00\" text-anchor=\"middle\" x=\"157.5\" y=\"-6730.8\">res4a_branch2a: Conv2D</text>\n</g>\n<!-- 140232317939952&#45;&gt;140232317940008 -->\n<g class=\"edge\" id=\"edge87\"><title>140232317939952-&gt;140232317940008</title>\n<path d=\"M197.67,-6789.31C191.29,-6780.77 183.455,-6770.27 176.403,-6760.82\" fill=\"none\" stroke=\"black\"/>\n<polygon fill=\"black\" points=\"178.998,-6758.45 170.212,-6752.53 173.389,-6762.64 178.998,-6758.45\" stroke=\"black\"/>\n</g>\n<!-- 140232317941800 -->\n<g class=\"node\" id=\"node88\"><title>140232317941800</title>\n<polygon fill=\"none\" points=\"260,-6643.5 260,-6679.5 409,-6679.5 409,-6643.5 260,-6643.5\" stroke=\"black\"/>\n<text font-family=\"Times,serif\" font-size=\"14.00\" text-anchor=\"middle\" x=\"334.5\" y=\"-6657.8\">res4a_branch1: Conv2D</text>\n</g>\n<!-- 140232317939952&#45;&gt;140232317941800 -->\n<g class=\"edge\" id=\"edge94\"><title>140232317939952-&gt;140232317941800</title>\n<path d=\"M225.211,-6789.42C247.025,-6764.08 288.068,-6716.42 313.177,-6687.26\" fill=\"none\" stroke=\"black\"/>\n<polygon fill=\"black\" points=\"315.935,-6689.42 319.808,-6679.56 310.63,-6684.86 315.935,-6689.42\" stroke=\"black\"/>\n</g>\n<!-- 140232317940344 -->\n<g class=\"node\" id=\"node82\"><title>140232317940344</title>\n<polygon fill=\"none\" points=\"25,-6643.5 25,-6679.5 242,-6679.5 242,-6643.5 25,-6643.5\" stroke=\"black\"/>\n<text font-family=\"Times,serif\" font-size=\"14.00\" text-anchor=\"middle\" x=\"133.5\" y=\"-6657.8\">bn4a_branch2a: BatchNormalization</text>\n</g>\n<!-- 140232317940008&#45;&gt;140232317940344 -->\n<g class=\"edge\" id=\"edge88\"><title>140232317940008-&gt;140232317940344</title>\n<path d=\"M151.69,-6716.31C148.949,-6708.2 145.613,-6698.34 142.551,-6689.28\" fill=\"none\" stroke=\"black\"/>\n<polygon fill=\"black\" points=\"145.774,-6687.88 139.256,-6679.53 139.143,-6690.12 145.774,-6687.88\" stroke=\"black\"/>\n</g>\n<!-- 140232317940680 -->\n<g class=\"node\" id=\"node83\"><title>140232317940680</title>\n<polygon fill=\"none\" points=\"56,-6570.5 56,-6606.5 211,-6606.5 211,-6570.5 56,-6570.5\" stroke=\"black\"/>\n<text font-family=\"Times,serif\" font-size=\"14.00\" text-anchor=\"middle\" x=\"133.5\" y=\"-6584.8\">activation_26: Activation</text>\n</g>\n<!-- 140232317940344&#45;&gt;140232317940680 -->\n<g class=\"edge\" id=\"edge89\"><title>140232317940344-&gt;140232317940680</title>\n<path d=\"M133.5,-6643.31C133.5,-6635.29 133.5,-6625.55 133.5,-6616.57\" fill=\"none\" stroke=\"black\"/>\n<polygon fill=\"black\" points=\"137,-6616.53 133.5,-6606.53 130,-6616.53 137,-6616.53\" stroke=\"black\"/>\n</g>\n<!-- 140232317940736 -->\n<g class=\"node\" id=\"node84\"><title>140232317940736</title>\n<polygon fill=\"none\" points=\"88,-6497.5 88,-6533.5 243,-6533.5 243,-6497.5 88,-6497.5\" stroke=\"black\"/>\n<text font-family=\"Times,serif\" font-size=\"14.00\" text-anchor=\"middle\" x=\"165.5\" y=\"-6511.8\">res4a_branch2b: Conv2D</text>\n</g>\n<!-- 140232317940680&#45;&gt;140232317940736 -->\n<g class=\"edge\" id=\"edge90\"><title>140232317940680-&gt;140232317940736</title>\n<path d=\"M141.246,-6570.31C144.98,-6562.03 149.54,-6551.91 153.695,-6542.69\" fill=\"none\" stroke=\"black\"/>\n<polygon fill=\"black\" points=\"156.907,-6544.08 157.825,-6533.53 150.525,-6541.21 156.907,-6544.08\" stroke=\"black\"/>\n</g>\n<!-- 140232317941072 -->\n<g class=\"node\" id=\"node85\"><title>140232317941072</title>\n<polygon fill=\"none\" points=\"72.5,-6424.5 72.5,-6460.5 290.5,-6460.5 290.5,-6424.5 72.5,-6424.5\" stroke=\"black\"/>\n<text font-family=\"Times,serif\" font-size=\"14.00\" text-anchor=\"middle\" x=\"181.5\" y=\"-6438.8\">bn4a_branch2b: BatchNormalization</text>\n</g>\n<!-- 140232317940736&#45;&gt;140232317941072 -->\n<g class=\"edge\" id=\"edge91\"><title>140232317940736-&gt;140232317941072</title>\n<path d=\"M169.373,-6497.31C171.181,-6489.29 173.377,-6479.55 175.4,-6470.57\" fill=\"none\" stroke=\"black\"/>\n<polygon fill=\"black\" points=\"178.878,-6471.05 177.663,-6460.53 172.05,-6469.51 178.878,-6471.05\" stroke=\"black\"/>\n</g>\n<!-- 140232317941408 -->\n<g class=\"node\" id=\"node86\"><title>140232317941408</title>\n<polygon fill=\"none\" points=\"112,-6351.5 112,-6387.5 267,-6387.5 267,-6351.5 112,-6351.5\" stroke=\"black\"/>\n<text font-family=\"Times,serif\" font-size=\"14.00\" text-anchor=\"middle\" x=\"189.5\" y=\"-6365.8\">activation_27: Activation</text>\n</g>\n<!-- 140232317941072&#45;&gt;140232317941408 -->\n<g class=\"edge\" id=\"edge92\"><title>140232317941072-&gt;140232317941408</title>\n<path d=\"M183.437,-6424.31C184.341,-6416.29 185.438,-6406.55 186.45,-6397.57\" fill=\"none\" stroke=\"black\"/>\n<polygon fill=\"black\" points=\"189.939,-6397.86 187.581,-6387.53 182.984,-6397.07 189.939,-6397.86\" stroke=\"black\"/>\n</g>\n<!-- 140232317941464 -->\n<g class=\"node\" id=\"node87\"><title>140232317941464</title>\n<polygon fill=\"none\" points=\"116,-6278.5 116,-6314.5 271,-6314.5 271,-6278.5 116,-6278.5\" stroke=\"black\"/>\n<text font-family=\"Times,serif\" font-size=\"14.00\" text-anchor=\"middle\" x=\"193.5\" y=\"-6292.8\">res4a_branch2c: Conv2D</text>\n</g>\n<!-- 140232317941408&#45;&gt;140232317941464 -->\n<g class=\"edge\" id=\"edge93\"><title>140232317941408-&gt;140232317941464</title>\n<path d=\"M190.468,-6351.31C190.92,-6343.29 191.469,-6333.55 191.975,-6324.57\" fill=\"none\" stroke=\"black\"/>\n<polygon fill=\"black\" points=\"195.473,-6324.71 192.541,-6314.53 188.484,-6324.32 195.473,-6324.71\" stroke=\"black\"/>\n</g>\n<!-- 140232317942192 -->\n<g class=\"node\" id=\"node89\"><title>140232317942192</title>\n<polygon fill=\"none\" points=\"87,-6205.5 87,-6241.5 304,-6241.5 304,-6205.5 87,-6205.5\" stroke=\"black\"/>\n<text font-family=\"Times,serif\" font-size=\"14.00\" text-anchor=\"middle\" x=\"195.5\" y=\"-6219.8\">bn4a_branch2c: BatchNormalization</text>\n</g>\n<!-- 140232317941464&#45;&gt;140232317942192 -->\n<g class=\"edge\" id=\"edge95\"><title>140232317941464-&gt;140232317942192</title>\n<path d=\"M193.984,-6278.31C194.21,-6270.29 194.485,-6260.55 194.737,-6251.57\" fill=\"none\" stroke=\"black\"/>\n<polygon fill=\"black\" points=\"198.237,-6251.62 195.02,-6241.53 191.24,-6251.43 198.237,-6251.62\" stroke=\"black\"/>\n</g>\n<!-- 140232317942528 -->\n<g class=\"node\" id=\"node90\"><title>140232317942528</title>\n<polygon fill=\"none\" points=\"229,-6570.5 229,-6606.5 440,-6606.5 440,-6570.5 229,-6570.5\" stroke=\"black\"/>\n<text font-family=\"Times,serif\" font-size=\"14.00\" text-anchor=\"middle\" x=\"334.5\" y=\"-6584.8\">bn4a_branch1: BatchNormalization</text>\n</g>\n<!-- 140232317941800&#45;&gt;140232317942528 -->\n<g class=\"edge\" id=\"edge96\"><title>140232317941800-&gt;140232317942528</title>\n<path d=\"M334.5,-6643.31C334.5,-6635.29 334.5,-6625.55 334.5,-6616.57\" fill=\"none\" stroke=\"black\"/>\n<polygon fill=\"black\" points=\"338,-6616.53 334.5,-6606.53 331,-6616.53 338,-6616.53\" stroke=\"black\"/>\n</g>\n<!-- 140232317942808 -->\n<g class=\"node\" id=\"node91\"><title>140232317942808</title>\n<polygon fill=\"none\" points=\"224.5,-6132.5 224.5,-6168.5 304.5,-6168.5 304.5,-6132.5 224.5,-6132.5\" stroke=\"black\"/>\n<text font-family=\"Times,serif\" font-size=\"14.00\" text-anchor=\"middle\" x=\"264.5\" y=\"-6146.8\">add_9: Add</text>\n</g>\n<!-- 140232317942192&#45;&gt;140232317942808 -->\n<g class=\"edge\" id=\"edge97\"><title>140232317942192-&gt;140232317942808</title>\n<path d=\"M212.203,-6205.31C220.763,-6196.5 231.336,-6185.63 240.731,-6175.96\" fill=\"none\" stroke=\"black\"/>\n<polygon fill=\"black\" points=\"243.491,-6178.14 247.951,-6168.53 238.471,-6173.26 243.491,-6178.14\" stroke=\"black\"/>\n</g>\n<!-- 140232317942528&#45;&gt;140232317942808 -->\n<g class=\"edge\" id=\"edge98\"><title>140232317942528-&gt;140232317942808</title>\n<path d=\"M334.302,-6570.21C334.011,-6543.18 333.5,-6489.25 333.5,-6443.5 333.5,-6443.5 333.5,-6443.5 333.5,-6295.5 333.5,-6254.21 331.554,-6241.63 312.5,-6205 307.033,-6194.49 299.02,-6184.42 291.1,-6175.9\" fill=\"none\" stroke=\"black\"/>\n<polygon fill=\"black\" points=\"293.418,-6173.27 283.929,-6168.55 288.408,-6178.16 293.418,-6173.27\" stroke=\"black\"/>\n</g>\n<!-- 140232317942864 -->\n<g class=\"node\" id=\"node92\"><title>140232317942864</title>\n<polygon fill=\"none\" points=\"187,-6059.5 187,-6095.5 342,-6095.5 342,-6059.5 187,-6059.5\" stroke=\"black\"/>\n<text font-family=\"Times,serif\" font-size=\"14.00\" text-anchor=\"middle\" x=\"264.5\" y=\"-6073.8\">activation_28: Activation</text>\n</g>\n<!-- 140232317942808&#45;&gt;140232317942864 -->\n<g class=\"edge\" id=\"edge99\"><title>140232317942808-&gt;140232317942864</title>\n<path d=\"M264.5,-6132.31C264.5,-6124.29 264.5,-6114.55 264.5,-6105.57\" fill=\"none\" stroke=\"black\"/>\n<polygon fill=\"black\" points=\"268,-6105.53 264.5,-6095.53 261,-6105.53 268,-6105.53\" stroke=\"black\"/>\n</g>\n<!-- 140232317942920 -->\n<g class=\"node\" id=\"node93\"><title>140232317942920</title>\n<polygon fill=\"none\" points=\"119,-5986.5 119,-6022.5 274,-6022.5 274,-5986.5 119,-5986.5\" stroke=\"black\"/>\n<text font-family=\"Times,serif\" font-size=\"14.00\" text-anchor=\"middle\" x=\"196.5\" y=\"-6000.8\">res4b_branch2a: Conv2D</text>\n</g>\n<!-- 140232317942864&#45;&gt;140232317942920 -->\n<g class=\"edge\" id=\"edge100\"><title>140232317942864-&gt;140232317942920</title>\n<path d=\"M248.039,-6059.31C239.603,-6050.5 229.183,-6039.63 219.925,-6029.96\" fill=\"none\" stroke=\"black\"/>\n<polygon fill=\"black\" points=\"222.254,-6027.33 212.809,-6022.53 217.198,-6032.17 222.254,-6027.33\" stroke=\"black\"/>\n</g>\n<!-- 140232317986072 -->\n<g class=\"node\" id=\"node101\"><title>140232317986072</title>\n<polygon fill=\"none\" points=\"206,-5402.5 206,-5438.5 293,-5438.5 293,-5402.5 206,-5402.5\" stroke=\"black\"/>\n<text font-family=\"Times,serif\" font-size=\"14.00\" text-anchor=\"middle\" x=\"249.5\" y=\"-5416.8\">add_10: Add</text>\n</g>\n<!-- 140232317942864&#45;&gt;140232317986072 -->\n<g class=\"edge\" id=\"edge109\"><title>140232317942864-&gt;140232317986072</title>\n<path d=\"M275.689,-6059.11C291.506,-6032.8 318.5,-5980.83 318.5,-5932.5 318.5,-5932.5 318.5,-5932.5 318.5,-5565.5 318.5,-5524.4 318.452,-5511.47 299.5,-5475 293.923,-5464.27 285.586,-5454.12 277.311,-5445.61\" fill=\"none\" stroke=\"black\"/>\n<polygon fill=\"black\" points=\"279.72,-5443.07 270.125,-5438.58 274.824,-5448.08 279.72,-5443.07\" stroke=\"black\"/>\n</g>\n<!-- 140232317943256 -->\n<g class=\"node\" id=\"node94\"><title>140232317943256</title>\n<polygon fill=\"none\" points=\"72.5,-5913.5 72.5,-5949.5 290.5,-5949.5 290.5,-5913.5 72.5,-5913.5\" stroke=\"black\"/>\n<text font-family=\"Times,serif\" font-size=\"14.00\" text-anchor=\"middle\" x=\"181.5\" y=\"-5927.8\">bn4b_branch2a: BatchNormalization</text>\n</g>\n<!-- 140232317942920&#45;&gt;140232317943256 -->\n<g class=\"edge\" id=\"edge101\"><title>140232317942920-&gt;140232317943256</title>\n<path d=\"M192.869,-5986.31C191.174,-5978.29 189.116,-5968.55 187.219,-5959.57\" fill=\"none\" stroke=\"black\"/>\n<polygon fill=\"black\" points=\"190.589,-5958.59 185.098,-5949.53 183.74,-5960.04 190.589,-5958.59\" stroke=\"black\"/>\n</g>\n<!-- 140232317943592 -->\n<g class=\"node\" id=\"node95\"><title>140232317943592</title>\n<polygon fill=\"none\" points=\"104,-5840.5 104,-5876.5 259,-5876.5 259,-5840.5 104,-5840.5\" stroke=\"black\"/>\n<text font-family=\"Times,serif\" font-size=\"14.00\" text-anchor=\"middle\" x=\"181.5\" y=\"-5854.8\">activation_29: Activation</text>\n</g>\n<!-- 140232317943256&#45;&gt;140232317943592 -->\n<g class=\"edge\" id=\"edge102\"><title>140232317943256-&gt;140232317943592</title>\n<path d=\"M181.5,-5913.31C181.5,-5905.29 181.5,-5895.55 181.5,-5886.57\" fill=\"none\" stroke=\"black\"/>\n<polygon fill=\"black\" points=\"185,-5886.53 181.5,-5876.53 178,-5886.53 185,-5886.53\" stroke=\"black\"/>\n</g>\n<!-- 140232317943648 -->\n<g class=\"node\" id=\"node96\"><title>140232317943648</title>\n<polygon fill=\"none\" points=\"103.5,-5767.5 103.5,-5803.5 259.5,-5803.5 259.5,-5767.5 103.5,-5767.5\" stroke=\"black\"/>\n<text font-family=\"Times,serif\" font-size=\"14.00\" text-anchor=\"middle\" x=\"181.5\" y=\"-5781.8\">res4b_branch2b: Conv2D</text>\n</g>\n<!-- 140232317943592&#45;&gt;140232317943648 -->\n<g class=\"edge\" id=\"edge103\"><title>140232317943592-&gt;140232317943648</title>\n<path d=\"M181.5,-5840.31C181.5,-5832.29 181.5,-5822.55 181.5,-5813.57\" fill=\"none\" stroke=\"black\"/>\n<polygon fill=\"black\" points=\"185,-5813.53 181.5,-5803.53 178,-5813.53 185,-5813.53\" stroke=\"black\"/>\n</g>\n<!-- 140232317927376 -->\n<g class=\"node\" id=\"node97\"><title>140232317927376</title>\n<polygon fill=\"none\" points=\"72.5,-5694.5 72.5,-5730.5 290.5,-5730.5 290.5,-5694.5 72.5,-5694.5\" stroke=\"black\"/>\n<text font-family=\"Times,serif\" font-size=\"14.00\" text-anchor=\"middle\" x=\"181.5\" y=\"-5708.8\">bn4b_branch2b: BatchNormalization</text>\n</g>\n<!-- 140232317943648&#45;&gt;140232317927376 -->\n<g class=\"edge\" id=\"edge104\"><title>140232317943648-&gt;140232317927376</title>\n<path d=\"M181.5,-5767.31C181.5,-5759.29 181.5,-5749.55 181.5,-5740.57\" fill=\"none\" stroke=\"black\"/>\n<polygon fill=\"black\" points=\"185,-5740.53 181.5,-5730.53 178,-5740.53 185,-5740.53\" stroke=\"black\"/>\n</g>\n<!-- 140232317985344 -->\n<g class=\"node\" id=\"node98\"><title>140232317985344</title>\n<polygon fill=\"none\" points=\"104,-5621.5 104,-5657.5 259,-5657.5 259,-5621.5 104,-5621.5\" stroke=\"black\"/>\n<text font-family=\"Times,serif\" font-size=\"14.00\" text-anchor=\"middle\" x=\"181.5\" y=\"-5635.8\">activation_30: Activation</text>\n</g>\n<!-- 140232317927376&#45;&gt;140232317985344 -->\n<g class=\"edge\" id=\"edge105\"><title>140232317927376-&gt;140232317985344</title>\n<path d=\"M181.5,-5694.31C181.5,-5686.29 181.5,-5676.55 181.5,-5667.57\" fill=\"none\" stroke=\"black\"/>\n<polygon fill=\"black\" points=\"185,-5667.53 181.5,-5657.53 178,-5667.53 185,-5667.53\" stroke=\"black\"/>\n</g>\n<!-- 140232317985400 -->\n<g class=\"node\" id=\"node99\"><title>140232317985400</title>\n<polygon fill=\"none\" points=\"104,-5548.5 104,-5584.5 259,-5584.5 259,-5548.5 104,-5548.5\" stroke=\"black\"/>\n<text font-family=\"Times,serif\" font-size=\"14.00\" text-anchor=\"middle\" x=\"181.5\" y=\"-5562.8\">res4b_branch2c: Conv2D</text>\n</g>\n<!-- 140232317985344&#45;&gt;140232317985400 -->\n<g class=\"edge\" id=\"edge106\"><title>140232317985344-&gt;140232317985400</title>\n<path d=\"M181.5,-5621.31C181.5,-5613.29 181.5,-5603.55 181.5,-5594.57\" fill=\"none\" stroke=\"black\"/>\n<polygon fill=\"black\" points=\"185,-5594.53 181.5,-5584.53 178,-5594.53 185,-5594.53\" stroke=\"black\"/>\n</g>\n<!-- 140232317985736 -->\n<g class=\"node\" id=\"node100\"><title>140232317985736</title>\n<polygon fill=\"none\" points=\"72.5,-5475.5 72.5,-5511.5 290.5,-5511.5 290.5,-5475.5 72.5,-5475.5\" stroke=\"black\"/>\n<text font-family=\"Times,serif\" font-size=\"14.00\" text-anchor=\"middle\" x=\"181.5\" y=\"-5489.8\">bn4b_branch2c: BatchNormalization</text>\n</g>\n<!-- 140232317985400&#45;&gt;140232317985736 -->\n<g class=\"edge\" id=\"edge107\"><title>140232317985400-&gt;140232317985736</title>\n<path d=\"M181.5,-5548.31C181.5,-5540.29 181.5,-5530.55 181.5,-5521.57\" fill=\"none\" stroke=\"black\"/>\n<polygon fill=\"black\" points=\"185,-5521.53 181.5,-5511.53 178,-5521.53 185,-5521.53\" stroke=\"black\"/>\n</g>\n<!-- 140232317985736&#45;&gt;140232317986072 -->\n<g class=\"edge\" id=\"edge108\"><title>140232317985736-&gt;140232317986072</title>\n<path d=\"M197.961,-5475.31C206.397,-5466.5 216.817,-5455.63 226.075,-5445.96\" fill=\"none\" stroke=\"black\"/>\n<polygon fill=\"black\" points=\"228.802,-5448.17 233.191,-5438.53 223.746,-5443.33 228.802,-5448.17\" stroke=\"black\"/>\n</g>\n<!-- 140232317986128 -->\n<g class=\"node\" id=\"node102\"><title>140232317986128</title>\n<polygon fill=\"none\" points=\"172,-5329.5 172,-5365.5 327,-5365.5 327,-5329.5 172,-5329.5\" stroke=\"black\"/>\n<text font-family=\"Times,serif\" font-size=\"14.00\" text-anchor=\"middle\" x=\"249.5\" y=\"-5343.8\">activation_31: Activation</text>\n</g>\n<!-- 140232317986072&#45;&gt;140232317986128 -->\n<g class=\"edge\" id=\"edge110\"><title>140232317986072-&gt;140232317986128</title>\n<path d=\"M249.5,-5402.31C249.5,-5394.29 249.5,-5384.55 249.5,-5375.57\" fill=\"none\" stroke=\"black\"/>\n<polygon fill=\"black\" points=\"253,-5375.53 249.5,-5365.53 246,-5375.53 253,-5375.53\" stroke=\"black\"/>\n</g>\n<!-- 140232317986184 -->\n<g class=\"node\" id=\"node103\"><title>140232317986184</title>\n<polygon fill=\"none\" points=\"104,-5256.5 104,-5292.5 259,-5292.5 259,-5256.5 104,-5256.5\" stroke=\"black\"/>\n<text font-family=\"Times,serif\" font-size=\"14.00\" text-anchor=\"middle\" x=\"181.5\" y=\"-5270.8\">res4c_branch2a: Conv2D</text>\n</g>\n<!-- 140232317986128&#45;&gt;140232317986184 -->\n<g class=\"edge\" id=\"edge111\"><title>140232317986128-&gt;140232317986184</title>\n<path d=\"M233.039,-5329.31C224.603,-5320.5 214.183,-5309.63 204.925,-5299.96\" fill=\"none\" stroke=\"black\"/>\n<polygon fill=\"black\" points=\"207.254,-5297.33 197.809,-5292.53 202.198,-5302.17 207.254,-5297.33\" stroke=\"black\"/>\n</g>\n<!-- 140232317988312 -->\n<g class=\"node\" id=\"node111\"><title>140232317988312</title>\n<polygon fill=\"none\" points=\"191,-4672.5 191,-4708.5 278,-4708.5 278,-4672.5 191,-4672.5\" stroke=\"black\"/>\n<text font-family=\"Times,serif\" font-size=\"14.00\" text-anchor=\"middle\" x=\"234.5\" y=\"-4686.8\">add_11: Add</text>\n</g>\n<!-- 140232317986128&#45;&gt;140232317988312 -->\n<g class=\"edge\" id=\"edge120\"><title>140232317986128-&gt;140232317988312</title>\n<path d=\"M260.689,-5329.11C276.506,-5302.8 303.5,-5250.83 303.5,-5202.5 303.5,-5202.5 303.5,-5202.5 303.5,-4835.5 303.5,-4794.31 302.504,-4781.55 283.5,-4745 278.072,-4734.56 270.082,-4724.62 262.122,-4716.2\" fill=\"none\" stroke=\"black\"/>\n<polygon fill=\"black\" points=\"264.425,-4713.55 254.894,-4708.92 259.459,-4718.48 264.425,-4713.55\" stroke=\"black\"/>\n</g>\n<!-- 140232317986520 -->\n<g class=\"node\" id=\"node104\"><title>140232317986520</title>\n<polygon fill=\"none\" points=\"58,-5183.5 58,-5219.5 275,-5219.5 275,-5183.5 58,-5183.5\" stroke=\"black\"/>\n<text font-family=\"Times,serif\" font-size=\"14.00\" text-anchor=\"middle\" x=\"166.5\" y=\"-5197.8\">bn4c_branch2a: BatchNormalization</text>\n</g>\n<!-- 140232317986184&#45;&gt;140232317986520 -->\n<g class=\"edge\" id=\"edge112\"><title>140232317986184-&gt;140232317986520</title>\n<path d=\"M177.869,-5256.31C176.174,-5248.29 174.116,-5238.55 172.219,-5229.57\" fill=\"none\" stroke=\"black\"/>\n<polygon fill=\"black\" points=\"175.589,-5228.59 170.098,-5219.53 168.74,-5230.04 175.589,-5228.59\" stroke=\"black\"/>\n</g>\n<!-- 140232317986856 -->\n<g class=\"node\" id=\"node105\"><title>140232317986856</title>\n<polygon fill=\"none\" points=\"89,-5110.5 89,-5146.5 244,-5146.5 244,-5110.5 89,-5110.5\" stroke=\"black\"/>\n<text font-family=\"Times,serif\" font-size=\"14.00\" text-anchor=\"middle\" x=\"166.5\" y=\"-5124.8\">activation_32: Activation</text>\n</g>\n<!-- 140232317986520&#45;&gt;140232317986856 -->\n<g class=\"edge\" id=\"edge113\"><title>140232317986520-&gt;140232317986856</title>\n<path d=\"M166.5,-5183.31C166.5,-5175.29 166.5,-5165.55 166.5,-5156.57\" fill=\"none\" stroke=\"black\"/>\n<polygon fill=\"black\" points=\"170,-5156.53 166.5,-5146.53 163,-5156.53 170,-5156.53\" stroke=\"black\"/>\n</g>\n<!-- 140232317986912 -->\n<g class=\"node\" id=\"node106\"><title>140232317986912</title>\n<polygon fill=\"none\" points=\"89,-5037.5 89,-5073.5 244,-5073.5 244,-5037.5 89,-5037.5\" stroke=\"black\"/>\n<text font-family=\"Times,serif\" font-size=\"14.00\" text-anchor=\"middle\" x=\"166.5\" y=\"-5051.8\">res4c_branch2b: Conv2D</text>\n</g>\n<!-- 140232317986856&#45;&gt;140232317986912 -->\n<g class=\"edge\" id=\"edge114\"><title>140232317986856-&gt;140232317986912</title>\n<path d=\"M166.5,-5110.31C166.5,-5102.29 166.5,-5092.55 166.5,-5083.57\" fill=\"none\" stroke=\"black\"/>\n<polygon fill=\"black\" points=\"170,-5083.53 166.5,-5073.53 163,-5083.53 170,-5083.53\" stroke=\"black\"/>\n</g>\n<!-- 140232317987248 -->\n<g class=\"node\" id=\"node107\"><title>140232317987248</title>\n<polygon fill=\"none\" points=\"57.5,-4964.5 57.5,-5000.5 275.5,-5000.5 275.5,-4964.5 57.5,-4964.5\" stroke=\"black\"/>\n<text font-family=\"Times,serif\" font-size=\"14.00\" text-anchor=\"middle\" x=\"166.5\" y=\"-4978.8\">bn4c_branch2b: BatchNormalization</text>\n</g>\n<!-- 140232317986912&#45;&gt;140232317987248 -->\n<g class=\"edge\" id=\"edge115\"><title>140232317986912-&gt;140232317987248</title>\n<path d=\"M166.5,-5037.31C166.5,-5029.29 166.5,-5019.55 166.5,-5010.57\" fill=\"none\" stroke=\"black\"/>\n<polygon fill=\"black\" points=\"170,-5010.53 166.5,-5000.53 163,-5010.53 170,-5010.53\" stroke=\"black\"/>\n</g>\n<!-- 140232317987584 -->\n<g class=\"node\" id=\"node108\"><title>140232317987584</title>\n<polygon fill=\"none\" points=\"89,-4891.5 89,-4927.5 244,-4927.5 244,-4891.5 89,-4891.5\" stroke=\"black\"/>\n<text font-family=\"Times,serif\" font-size=\"14.00\" text-anchor=\"middle\" x=\"166.5\" y=\"-4905.8\">activation_33: Activation</text>\n</g>\n<!-- 140232317987248&#45;&gt;140232317987584 -->\n<g class=\"edge\" id=\"edge116\"><title>140232317987248-&gt;140232317987584</title>\n<path d=\"M166.5,-4964.31C166.5,-4956.29 166.5,-4946.55 166.5,-4937.57\" fill=\"none\" stroke=\"black\"/>\n<polygon fill=\"black\" points=\"170,-4937.53 166.5,-4927.53 163,-4937.53 170,-4937.53\" stroke=\"black\"/>\n</g>\n<!-- 140232317987640 -->\n<g class=\"node\" id=\"node109\"><title>140232317987640</title>\n<polygon fill=\"none\" points=\"89,-4818.5 89,-4854.5 244,-4854.5 244,-4818.5 89,-4818.5\" stroke=\"black\"/>\n<text font-family=\"Times,serif\" font-size=\"14.00\" text-anchor=\"middle\" x=\"166.5\" y=\"-4832.8\">res4c_branch2c: Conv2D</text>\n</g>\n<!-- 140232317987584&#45;&gt;140232317987640 -->\n<g class=\"edge\" id=\"edge117\"><title>140232317987584-&gt;140232317987640</title>\n<path d=\"M166.5,-4891.31C166.5,-4883.29 166.5,-4873.55 166.5,-4864.57\" fill=\"none\" stroke=\"black\"/>\n<polygon fill=\"black\" points=\"170,-4864.53 166.5,-4854.53 163,-4864.53 170,-4864.53\" stroke=\"black\"/>\n</g>\n<!-- 140232317987976 -->\n<g class=\"node\" id=\"node110\"><title>140232317987976</title>\n<polygon fill=\"none\" points=\"58,-4745.5 58,-4781.5 275,-4781.5 275,-4745.5 58,-4745.5\" stroke=\"black\"/>\n<text font-family=\"Times,serif\" font-size=\"14.00\" text-anchor=\"middle\" x=\"166.5\" y=\"-4759.8\">bn4c_branch2c: BatchNormalization</text>\n</g>\n<!-- 140232317987640&#45;&gt;140232317987976 -->\n<g class=\"edge\" id=\"edge118\"><title>140232317987640-&gt;140232317987976</title>\n<path d=\"M166.5,-4818.31C166.5,-4810.29 166.5,-4800.55 166.5,-4791.57\" fill=\"none\" stroke=\"black\"/>\n<polygon fill=\"black\" points=\"170,-4791.53 166.5,-4781.53 163,-4791.53 170,-4791.53\" stroke=\"black\"/>\n</g>\n<!-- 140232317987976&#45;&gt;140232317988312 -->\n<g class=\"edge\" id=\"edge119\"><title>140232317987976-&gt;140232317988312</title>\n<path d=\"M182.961,-4745.31C191.397,-4736.5 201.817,-4725.63 211.075,-4715.96\" fill=\"none\" stroke=\"black\"/>\n<polygon fill=\"black\" points=\"213.802,-4718.17 218.191,-4708.53 208.746,-4713.33 213.802,-4718.17\" stroke=\"black\"/>\n</g>\n<!-- 140232317988368 -->\n<g class=\"node\" id=\"node112\"><title>140232317988368</title>\n<polygon fill=\"none\" points=\"157,-4599.5 157,-4635.5 312,-4635.5 312,-4599.5 157,-4599.5\" stroke=\"black\"/>\n<text font-family=\"Times,serif\" font-size=\"14.00\" text-anchor=\"middle\" x=\"234.5\" y=\"-4613.8\">activation_34: Activation</text>\n</g>\n<!-- 140232317988312&#45;&gt;140232317988368 -->\n<g class=\"edge\" id=\"edge121\"><title>140232317988312-&gt;140232317988368</title>\n<path d=\"M234.5,-4672.31C234.5,-4664.29 234.5,-4654.55 234.5,-4645.57\" fill=\"none\" stroke=\"black\"/>\n<polygon fill=\"black\" points=\"238,-4645.53 234.5,-4635.53 231,-4645.53 238,-4645.53\" stroke=\"black\"/>\n</g>\n<!-- 140232317988424 -->\n<g class=\"node\" id=\"node113\"><title>140232317988424</title>\n<polygon fill=\"none\" points=\"104,-4526.5 104,-4562.5 259,-4562.5 259,-4526.5 104,-4526.5\" stroke=\"black\"/>\n<text font-family=\"Times,serif\" font-size=\"14.00\" text-anchor=\"middle\" x=\"181.5\" y=\"-4540.8\">res4d_branch2a: Conv2D</text>\n</g>\n<!-- 140232317988368&#45;&gt;140232317988424 -->\n<g class=\"edge\" id=\"edge122\"><title>140232317988368-&gt;140232317988424</title>\n<path d=\"M221.67,-4599.31C215.29,-4590.77 207.455,-4580.27 200.403,-4570.82\" fill=\"none\" stroke=\"black\"/>\n<polygon fill=\"black\" points=\"202.998,-4568.45 194.212,-4562.53 197.389,-4572.64 202.998,-4568.45\" stroke=\"black\"/>\n</g>\n<!-- 140232318007000 -->\n<g class=\"node\" id=\"node121\"><title>140232318007000</title>\n<polygon fill=\"none\" points=\"190,-3942.5 190,-3978.5 277,-3978.5 277,-3942.5 190,-3942.5\" stroke=\"black\"/>\n<text font-family=\"Times,serif\" font-size=\"14.00\" text-anchor=\"middle\" x=\"233.5\" y=\"-3956.8\">add_12: Add</text>\n</g>\n<!-- 140232317988368&#45;&gt;140232318007000 -->\n<g class=\"edge\" id=\"edge131\"><title>140232317988368-&gt;140232318007000</title>\n<path d=\"M248.921,-4599.12C268.882,-4573.24 302.5,-4522.27 302.5,-4472.5 302.5,-4472.5 302.5,-4472.5 302.5,-4105.5 302.5,-4064.4 302.452,-4051.47 283.5,-4015 277.923,-4004.27 269.586,-3994.12 261.311,-3985.61\" fill=\"none\" stroke=\"black\"/>\n<polygon fill=\"black\" points=\"263.72,-3983.07 254.125,-3978.58 258.824,-3988.08 263.72,-3983.07\" stroke=\"black\"/>\n</g>\n<!-- 140232317943760 -->\n<g class=\"node\" id=\"node114\"><title>140232317943760</title>\n<polygon fill=\"none\" points=\"56.5,-4453.5 56.5,-4489.5 274.5,-4489.5 274.5,-4453.5 56.5,-4453.5\" stroke=\"black\"/>\n<text font-family=\"Times,serif\" font-size=\"14.00\" text-anchor=\"middle\" x=\"165.5\" y=\"-4467.8\">bn4d_branch2a: BatchNormalization</text>\n</g>\n<!-- 140232317988424&#45;&gt;140232317943760 -->\n<g class=\"edge\" id=\"edge123\"><title>140232317988424-&gt;140232317943760</title>\n<path d=\"M177.627,-4526.31C175.819,-4518.29 173.623,-4508.55 171.6,-4499.57\" fill=\"none\" stroke=\"black\"/>\n<polygon fill=\"black\" points=\"174.95,-4498.51 169.337,-4489.53 168.122,-4500.05 174.95,-4498.51\" stroke=\"black\"/>\n</g>\n<!-- 140232318005544 -->\n<g class=\"node\" id=\"node115\"><title>140232318005544</title>\n<polygon fill=\"none\" points=\"88,-4380.5 88,-4416.5 243,-4416.5 243,-4380.5 88,-4380.5\" stroke=\"black\"/>\n<text font-family=\"Times,serif\" font-size=\"14.00\" text-anchor=\"middle\" x=\"165.5\" y=\"-4394.8\">activation_35: Activation</text>\n</g>\n<!-- 140232317943760&#45;&gt;140232318005544 -->\n<g class=\"edge\" id=\"edge124\"><title>140232317943760-&gt;140232318005544</title>\n<path d=\"M165.5,-4453.31C165.5,-4445.29 165.5,-4435.55 165.5,-4426.57\" fill=\"none\" stroke=\"black\"/>\n<polygon fill=\"black\" points=\"169,-4426.53 165.5,-4416.53 162,-4426.53 169,-4426.53\" stroke=\"black\"/>\n</g>\n<!-- 140232318005600 -->\n<g class=\"node\" id=\"node116\"><title>140232318005600</title>\n<polygon fill=\"none\" points=\"87.5,-4307.5 87.5,-4343.5 243.5,-4343.5 243.5,-4307.5 87.5,-4307.5\" stroke=\"black\"/>\n<text font-family=\"Times,serif\" font-size=\"14.00\" text-anchor=\"middle\" x=\"165.5\" y=\"-4321.8\">res4d_branch2b: Conv2D</text>\n</g>\n<!-- 140232318005544&#45;&gt;140232318005600 -->\n<g class=\"edge\" id=\"edge125\"><title>140232318005544-&gt;140232318005600</title>\n<path d=\"M165.5,-4380.31C165.5,-4372.29 165.5,-4362.55 165.5,-4353.57\" fill=\"none\" stroke=\"black\"/>\n<polygon fill=\"black\" points=\"169,-4353.53 165.5,-4343.53 162,-4353.53 169,-4353.53\" stroke=\"black\"/>\n</g>\n<!-- 140232318005936 -->\n<g class=\"node\" id=\"node117\"><title>140232318005936</title>\n<polygon fill=\"none\" points=\"56.5,-4234.5 56.5,-4270.5 274.5,-4270.5 274.5,-4234.5 56.5,-4234.5\" stroke=\"black\"/>\n<text font-family=\"Times,serif\" font-size=\"14.00\" text-anchor=\"middle\" x=\"165.5\" y=\"-4248.8\">bn4d_branch2b: BatchNormalization</text>\n</g>\n<!-- 140232318005600&#45;&gt;140232318005936 -->\n<g class=\"edge\" id=\"edge126\"><title>140232318005600-&gt;140232318005936</title>\n<path d=\"M165.5,-4307.31C165.5,-4299.29 165.5,-4289.55 165.5,-4280.57\" fill=\"none\" stroke=\"black\"/>\n<polygon fill=\"black\" points=\"169,-4280.53 165.5,-4270.53 162,-4280.53 169,-4280.53\" stroke=\"black\"/>\n</g>\n<!-- 140232318006272 -->\n<g class=\"node\" id=\"node118\"><title>140232318006272</title>\n<polygon fill=\"none\" points=\"88,-4161.5 88,-4197.5 243,-4197.5 243,-4161.5 88,-4161.5\" stroke=\"black\"/>\n<text font-family=\"Times,serif\" font-size=\"14.00\" text-anchor=\"middle\" x=\"165.5\" y=\"-4175.8\">activation_36: Activation</text>\n</g>\n<!-- 140232318005936&#45;&gt;140232318006272 -->\n<g class=\"edge\" id=\"edge127\"><title>140232318005936-&gt;140232318006272</title>\n<path d=\"M165.5,-4234.31C165.5,-4226.29 165.5,-4216.55 165.5,-4207.57\" fill=\"none\" stroke=\"black\"/>\n<polygon fill=\"black\" points=\"169,-4207.53 165.5,-4197.53 162,-4207.53 169,-4207.53\" stroke=\"black\"/>\n</g>\n<!-- 140232318006328 -->\n<g class=\"node\" id=\"node119\"><title>140232318006328</title>\n<polygon fill=\"none\" points=\"88,-4088.5 88,-4124.5 243,-4124.5 243,-4088.5 88,-4088.5\" stroke=\"black\"/>\n<text font-family=\"Times,serif\" font-size=\"14.00\" text-anchor=\"middle\" x=\"165.5\" y=\"-4102.8\">res4d_branch2c: Conv2D</text>\n</g>\n<!-- 140232318006272&#45;&gt;140232318006328 -->\n<g class=\"edge\" id=\"edge128\"><title>140232318006272-&gt;140232318006328</title>\n<path d=\"M165.5,-4161.31C165.5,-4153.29 165.5,-4143.55 165.5,-4134.57\" fill=\"none\" stroke=\"black\"/>\n<polygon fill=\"black\" points=\"169,-4134.53 165.5,-4124.53 162,-4134.53 169,-4134.53\" stroke=\"black\"/>\n</g>\n<!-- 140232318006664 -->\n<g class=\"node\" id=\"node120\"><title>140232318006664</title>\n<polygon fill=\"none\" points=\"56.5,-4015.5 56.5,-4051.5 274.5,-4051.5 274.5,-4015.5 56.5,-4015.5\" stroke=\"black\"/>\n<text font-family=\"Times,serif\" font-size=\"14.00\" text-anchor=\"middle\" x=\"165.5\" y=\"-4029.8\">bn4d_branch2c: BatchNormalization</text>\n</g>\n<!-- 140232318006328&#45;&gt;140232318006664 -->\n<g class=\"edge\" id=\"edge129\"><title>140232318006328-&gt;140232318006664</title>\n<path d=\"M165.5,-4088.31C165.5,-4080.29 165.5,-4070.55 165.5,-4061.57\" fill=\"none\" stroke=\"black\"/>\n<polygon fill=\"black\" points=\"169,-4061.53 165.5,-4051.53 162,-4061.53 169,-4061.53\" stroke=\"black\"/>\n</g>\n<!-- 140232318006664&#45;&gt;140232318007000 -->\n<g class=\"edge\" id=\"edge130\"><title>140232318006664-&gt;140232318007000</title>\n<path d=\"M181.961,-4015.31C190.397,-4006.5 200.817,-3995.63 210.075,-3985.96\" fill=\"none\" stroke=\"black\"/>\n<polygon fill=\"black\" points=\"212.802,-3988.17 217.191,-3978.53 207.746,-3983.33 212.802,-3988.17\" stroke=\"black\"/>\n</g>\n<!-- 140232318007056 -->\n<g class=\"node\" id=\"node122\"><title>140232318007056</title>\n<polygon fill=\"none\" points=\"156,-3869.5 156,-3905.5 311,-3905.5 311,-3869.5 156,-3869.5\" stroke=\"black\"/>\n<text font-family=\"Times,serif\" font-size=\"14.00\" text-anchor=\"middle\" x=\"233.5\" y=\"-3883.8\">activation_37: Activation</text>\n</g>\n<!-- 140232318007000&#45;&gt;140232318007056 -->\n<g class=\"edge\" id=\"edge132\"><title>140232318007000-&gt;140232318007056</title>\n<path d=\"M233.5,-3942.31C233.5,-3934.29 233.5,-3924.55 233.5,-3915.57\" fill=\"none\" stroke=\"black\"/>\n<polygon fill=\"black\" points=\"237,-3915.53 233.5,-3905.53 230,-3915.53 237,-3915.53\" stroke=\"black\"/>\n</g>\n<!-- 140232318007112 -->\n<g class=\"node\" id=\"node123\"><title>140232318007112</title>\n<polygon fill=\"none\" points=\"103,-3796.5 103,-3832.5 258,-3832.5 258,-3796.5 103,-3796.5\" stroke=\"black\"/>\n<text font-family=\"Times,serif\" font-size=\"14.00\" text-anchor=\"middle\" x=\"180.5\" y=\"-3810.8\">res4e_branch2a: Conv2D</text>\n</g>\n<!-- 140232318007056&#45;&gt;140232318007112 -->\n<g class=\"edge\" id=\"edge133\"><title>140232318007056-&gt;140232318007112</title>\n<path d=\"M220.67,-3869.31C214.29,-3860.77 206.455,-3850.27 199.403,-3840.82\" fill=\"none\" stroke=\"black\"/>\n<polygon fill=\"black\" points=\"201.998,-3838.45 193.212,-3832.53 196.389,-3842.64 201.998,-3838.45\" stroke=\"black\"/>\n</g>\n<!-- 140232318009240 -->\n<g class=\"node\" id=\"node131\"><title>140232318009240</title>\n<polygon fill=\"none\" points=\"189,-3212.5 189,-3248.5 276,-3248.5 276,-3212.5 189,-3212.5\" stroke=\"black\"/>\n<text font-family=\"Times,serif\" font-size=\"14.00\" text-anchor=\"middle\" x=\"232.5\" y=\"-3226.8\">add_13: Add</text>\n</g>\n<!-- 140232318007056&#45;&gt;140232318009240 -->\n<g class=\"edge\" id=\"edge142\"><title>140232318007056-&gt;140232318009240</title>\n<path d=\"M247.921,-3869.12C267.882,-3843.24 301.5,-3792.27 301.5,-3742.5 301.5,-3742.5 301.5,-3742.5 301.5,-3375.5 301.5,-3334.31 300.504,-3321.55 281.5,-3285 276.072,-3274.56 268.082,-3264.62 260.122,-3256.2\" fill=\"none\" stroke=\"black\"/>\n<polygon fill=\"black\" points=\"262.425,-3253.55 252.894,-3248.92 257.459,-3258.48 262.425,-3253.55\" stroke=\"black\"/>\n</g>\n<!-- 140232318007448 -->\n<g class=\"node\" id=\"node124\"><title>140232318007448</title>\n<polygon fill=\"none\" points=\"56,-3723.5 56,-3759.5 273,-3759.5 273,-3723.5 56,-3723.5\" stroke=\"black\"/>\n<text font-family=\"Times,serif\" font-size=\"14.00\" text-anchor=\"middle\" x=\"164.5\" y=\"-3737.8\">bn4e_branch2a: BatchNormalization</text>\n</g>\n<!-- 140232318007112&#45;&gt;140232318007448 -->\n<g class=\"edge\" id=\"edge134\"><title>140232318007112-&gt;140232318007448</title>\n<path d=\"M176.627,-3796.31C174.819,-3788.29 172.623,-3778.55 170.6,-3769.57\" fill=\"none\" stroke=\"black\"/>\n<polygon fill=\"black\" points=\"173.95,-3768.51 168.337,-3759.53 167.122,-3770.05 173.95,-3768.51\" stroke=\"black\"/>\n</g>\n<!-- 140232318007784 -->\n<g class=\"node\" id=\"node125\"><title>140232318007784</title>\n<polygon fill=\"none\" points=\"87,-3650.5 87,-3686.5 242,-3686.5 242,-3650.5 87,-3650.5\" stroke=\"black\"/>\n<text font-family=\"Times,serif\" font-size=\"14.00\" text-anchor=\"middle\" x=\"164.5\" y=\"-3664.8\">activation_38: Activation</text>\n</g>\n<!-- 140232318007448&#45;&gt;140232318007784 -->\n<g class=\"edge\" id=\"edge135\"><title>140232318007448-&gt;140232318007784</title>\n<path d=\"M164.5,-3723.31C164.5,-3715.29 164.5,-3705.55 164.5,-3696.57\" fill=\"none\" stroke=\"black\"/>\n<polygon fill=\"black\" points=\"168,-3696.53 164.5,-3686.53 161,-3696.53 168,-3696.53\" stroke=\"black\"/>\n</g>\n<!-- 140232318007840 -->\n<g class=\"node\" id=\"node126\"><title>140232318007840</title>\n<polygon fill=\"none\" points=\"87,-3577.5 87,-3613.5 242,-3613.5 242,-3577.5 87,-3577.5\" stroke=\"black\"/>\n<text font-family=\"Times,serif\" font-size=\"14.00\" text-anchor=\"middle\" x=\"164.5\" y=\"-3591.8\">res4e_branch2b: Conv2D</text>\n</g>\n<!-- 140232318007784&#45;&gt;140232318007840 -->\n<g class=\"edge\" id=\"edge136\"><title>140232318007784-&gt;140232318007840</title>\n<path d=\"M164.5,-3650.31C164.5,-3642.29 164.5,-3632.55 164.5,-3623.57\" fill=\"none\" stroke=\"black\"/>\n<polygon fill=\"black\" points=\"168,-3623.53 164.5,-3613.53 161,-3623.53 168,-3623.53\" stroke=\"black\"/>\n</g>\n<!-- 140232318008176 -->\n<g class=\"node\" id=\"node127\"><title>140232318008176</title>\n<polygon fill=\"none\" points=\"55.5,-3504.5 55.5,-3540.5 273.5,-3540.5 273.5,-3504.5 55.5,-3504.5\" stroke=\"black\"/>\n<text font-family=\"Times,serif\" font-size=\"14.00\" text-anchor=\"middle\" x=\"164.5\" y=\"-3518.8\">bn4e_branch2b: BatchNormalization</text>\n</g>\n<!-- 140232318007840&#45;&gt;140232318008176 -->\n<g class=\"edge\" id=\"edge137\"><title>140232318007840-&gt;140232318008176</title>\n<path d=\"M164.5,-3577.31C164.5,-3569.29 164.5,-3559.55 164.5,-3550.57\" fill=\"none\" stroke=\"black\"/>\n<polygon fill=\"black\" points=\"168,-3550.53 164.5,-3540.53 161,-3550.53 168,-3550.53\" stroke=\"black\"/>\n</g>\n<!-- 140232318008512 -->\n<g class=\"node\" id=\"node128\"><title>140232318008512</title>\n<polygon fill=\"none\" points=\"87,-3431.5 87,-3467.5 242,-3467.5 242,-3431.5 87,-3431.5\" stroke=\"black\"/>\n<text font-family=\"Times,serif\" font-size=\"14.00\" text-anchor=\"middle\" x=\"164.5\" y=\"-3445.8\">activation_39: Activation</text>\n</g>\n<!-- 140232318008176&#45;&gt;140232318008512 -->\n<g class=\"edge\" id=\"edge138\"><title>140232318008176-&gt;140232318008512</title>\n<path d=\"M164.5,-3504.31C164.5,-3496.29 164.5,-3486.55 164.5,-3477.57\" fill=\"none\" stroke=\"black\"/>\n<polygon fill=\"black\" points=\"168,-3477.53 164.5,-3467.53 161,-3477.53 168,-3477.53\" stroke=\"black\"/>\n</g>\n<!-- 140232318008568 -->\n<g class=\"node\" id=\"node129\"><title>140232318008568</title>\n<polygon fill=\"none\" points=\"87,-3358.5 87,-3394.5 242,-3394.5 242,-3358.5 87,-3358.5\" stroke=\"black\"/>\n<text font-family=\"Times,serif\" font-size=\"14.00\" text-anchor=\"middle\" x=\"164.5\" y=\"-3372.8\">res4e_branch2c: Conv2D</text>\n</g>\n<!-- 140232318008512&#45;&gt;140232318008568 -->\n<g class=\"edge\" id=\"edge139\"><title>140232318008512-&gt;140232318008568</title>\n<path d=\"M164.5,-3431.31C164.5,-3423.29 164.5,-3413.55 164.5,-3404.57\" fill=\"none\" stroke=\"black\"/>\n<polygon fill=\"black\" points=\"168,-3404.53 164.5,-3394.53 161,-3404.53 168,-3404.53\" stroke=\"black\"/>\n</g>\n<!-- 140232318008904 -->\n<g class=\"node\" id=\"node130\"><title>140232318008904</title>\n<polygon fill=\"none\" points=\"56,-3285.5 56,-3321.5 273,-3321.5 273,-3285.5 56,-3285.5\" stroke=\"black\"/>\n<text font-family=\"Times,serif\" font-size=\"14.00\" text-anchor=\"middle\" x=\"164.5\" y=\"-3299.8\">bn4e_branch2c: BatchNormalization</text>\n</g>\n<!-- 140232318008568&#45;&gt;140232318008904 -->\n<g class=\"edge\" id=\"edge140\"><title>140232318008568-&gt;140232318008904</title>\n<path d=\"M164.5,-3358.31C164.5,-3350.29 164.5,-3340.55 164.5,-3331.57\" fill=\"none\" stroke=\"black\"/>\n<polygon fill=\"black\" points=\"168,-3331.53 164.5,-3321.53 161,-3331.53 168,-3331.53\" stroke=\"black\"/>\n</g>\n<!-- 140232318008904&#45;&gt;140232318009240 -->\n<g class=\"edge\" id=\"edge141\"><title>140232318008904-&gt;140232318009240</title>\n<path d=\"M180.961,-3285.31C189.397,-3276.5 199.817,-3265.63 209.075,-3255.96\" fill=\"none\" stroke=\"black\"/>\n<polygon fill=\"black\" points=\"211.802,-3258.17 216.191,-3248.53 206.746,-3253.33 211.802,-3258.17\" stroke=\"black\"/>\n</g>\n<!-- 140232317988760 -->\n<g class=\"node\" id=\"node132\"><title>140232317988760</title>\n<polygon fill=\"none\" points=\"155,-3139.5 155,-3175.5 310,-3175.5 310,-3139.5 155,-3139.5\" stroke=\"black\"/>\n<text font-family=\"Times,serif\" font-size=\"14.00\" text-anchor=\"middle\" x=\"232.5\" y=\"-3153.8\">activation_40: Activation</text>\n</g>\n<!-- 140232318009240&#45;&gt;140232317988760 -->\n<g class=\"edge\" id=\"edge143\"><title>140232318009240-&gt;140232317988760</title>\n<path d=\"M232.5,-3212.31C232.5,-3204.29 232.5,-3194.55 232.5,-3185.57\" fill=\"none\" stroke=\"black\"/>\n<polygon fill=\"black\" points=\"236,-3185.53 232.5,-3175.53 229,-3185.53 236,-3185.53\" stroke=\"black\"/>\n</g>\n<!-- 140232318038088 -->\n<g class=\"node\" id=\"node133\"><title>140232318038088</title>\n<polygon fill=\"none\" points=\"88,-3066.5 88,-3102.5 241,-3102.5 241,-3066.5 88,-3066.5\" stroke=\"black\"/>\n<text font-family=\"Times,serif\" font-size=\"14.00\" text-anchor=\"middle\" x=\"164.5\" y=\"-3080.8\">res4f_branch2a: Conv2D</text>\n</g>\n<!-- 140232317988760&#45;&gt;140232318038088 -->\n<g class=\"edge\" id=\"edge144\"><title>140232317988760-&gt;140232318038088</title>\n<path d=\"M216.039,-3139.31C207.603,-3130.5 197.183,-3119.63 187.925,-3109.96\" fill=\"none\" stroke=\"black\"/>\n<polygon fill=\"black\" points=\"190.254,-3107.33 180.809,-3102.53 185.198,-3112.17 190.254,-3107.33\" stroke=\"black\"/>\n</g>\n<!-- 140232318040216 -->\n<g class=\"node\" id=\"node141\"><title>140232318040216</title>\n<polygon fill=\"none\" points=\"174,-2482.5 174,-2518.5 261,-2518.5 261,-2482.5 174,-2482.5\" stroke=\"black\"/>\n<text font-family=\"Times,serif\" font-size=\"14.00\" text-anchor=\"middle\" x=\"217.5\" y=\"-2496.8\">add_14: Add</text>\n</g>\n<!-- 140232317988760&#45;&gt;140232318040216 -->\n<g class=\"edge\" id=\"edge153\"><title>140232317988760-&gt;140232318040216</title>\n<path d=\"M243.482,-3139.08C259.006,-3112.74 285.5,-3060.72 285.5,-3012.5 285.5,-3012.5 285.5,-3012.5 285.5,-2645.5 285.5,-2604.31 284.316,-2591.64 265.5,-2555 260.088,-2544.46 252.089,-2534.38 244.166,-2525.87\" fill=\"none\" stroke=\"black\"/>\n<polygon fill=\"black\" points=\"246.48,-2523.23 236.987,-2518.52 241.474,-2528.12 246.48,-2523.23\" stroke=\"black\"/>\n</g>\n<!-- 140232318038424 -->\n<g class=\"node\" id=\"node134\"><title>140232318038424</title>\n<polygon fill=\"none\" points=\"42,-2993.5 42,-3029.5 257,-3029.5 257,-2993.5 42,-2993.5\" stroke=\"black\"/>\n<text font-family=\"Times,serif\" font-size=\"14.00\" text-anchor=\"middle\" x=\"149.5\" y=\"-3007.8\">bn4f_branch2a: BatchNormalization</text>\n</g>\n<!-- 140232318038088&#45;&gt;140232318038424 -->\n<g class=\"edge\" id=\"edge145\"><title>140232318038088-&gt;140232318038424</title>\n<path d=\"M160.869,-3066.31C159.174,-3058.29 157.116,-3048.55 155.219,-3039.57\" fill=\"none\" stroke=\"black\"/>\n<polygon fill=\"black\" points=\"158.589,-3038.59 153.098,-3029.53 151.74,-3040.04 158.589,-3038.59\" stroke=\"black\"/>\n</g>\n<!-- 140232318038760 -->\n<g class=\"node\" id=\"node135\"><title>140232318038760</title>\n<polygon fill=\"none\" points=\"72,-2920.5 72,-2956.5 227,-2956.5 227,-2920.5 72,-2920.5\" stroke=\"black\"/>\n<text font-family=\"Times,serif\" font-size=\"14.00\" text-anchor=\"middle\" x=\"149.5\" y=\"-2934.8\">activation_41: Activation</text>\n</g>\n<!-- 140232318038424&#45;&gt;140232318038760 -->\n<g class=\"edge\" id=\"edge146\"><title>140232318038424-&gt;140232318038760</title>\n<path d=\"M149.5,-2993.31C149.5,-2985.29 149.5,-2975.55 149.5,-2966.57\" fill=\"none\" stroke=\"black\"/>\n<polygon fill=\"black\" points=\"153,-2966.53 149.5,-2956.53 146,-2966.53 153,-2966.53\" stroke=\"black\"/>\n</g>\n<!-- 140232318038816 -->\n<g class=\"node\" id=\"node136\"><title>140232318038816</title>\n<polygon fill=\"none\" points=\"72.5,-2847.5 72.5,-2883.5 226.5,-2883.5 226.5,-2847.5 72.5,-2847.5\" stroke=\"black\"/>\n<text font-family=\"Times,serif\" font-size=\"14.00\" text-anchor=\"middle\" x=\"149.5\" y=\"-2861.8\">res4f_branch2b: Conv2D</text>\n</g>\n<!-- 140232318038760&#45;&gt;140232318038816 -->\n<g class=\"edge\" id=\"edge147\"><title>140232318038760-&gt;140232318038816</title>\n<path d=\"M149.5,-2920.31C149.5,-2912.29 149.5,-2902.55 149.5,-2893.57\" fill=\"none\" stroke=\"black\"/>\n<polygon fill=\"black\" points=\"153,-2893.53 149.5,-2883.53 146,-2893.53 153,-2893.53\" stroke=\"black\"/>\n</g>\n<!-- 140232318039152 -->\n<g class=\"node\" id=\"node137\"><title>140232318039152</title>\n<polygon fill=\"none\" points=\"41.5,-2774.5 41.5,-2810.5 257.5,-2810.5 257.5,-2774.5 41.5,-2774.5\" stroke=\"black\"/>\n<text font-family=\"Times,serif\" font-size=\"14.00\" text-anchor=\"middle\" x=\"149.5\" y=\"-2788.8\">bn4f_branch2b: BatchNormalization</text>\n</g>\n<!-- 140232318038816&#45;&gt;140232318039152 -->\n<g class=\"edge\" id=\"edge148\"><title>140232318038816-&gt;140232318039152</title>\n<path d=\"M149.5,-2847.31C149.5,-2839.29 149.5,-2829.55 149.5,-2820.57\" fill=\"none\" stroke=\"black\"/>\n<polygon fill=\"black\" points=\"153,-2820.53 149.5,-2810.53 146,-2820.53 153,-2820.53\" stroke=\"black\"/>\n</g>\n<!-- 140232318039488 -->\n<g class=\"node\" id=\"node138\"><title>140232318039488</title>\n<polygon fill=\"none\" points=\"72,-2701.5 72,-2737.5 227,-2737.5 227,-2701.5 72,-2701.5\" stroke=\"black\"/>\n<text font-family=\"Times,serif\" font-size=\"14.00\" text-anchor=\"middle\" x=\"149.5\" y=\"-2715.8\">activation_42: Activation</text>\n</g>\n<!-- 140232318039152&#45;&gt;140232318039488 -->\n<g class=\"edge\" id=\"edge149\"><title>140232318039152-&gt;140232318039488</title>\n<path d=\"M149.5,-2774.31C149.5,-2766.29 149.5,-2756.55 149.5,-2747.57\" fill=\"none\" stroke=\"black\"/>\n<polygon fill=\"black\" points=\"153,-2747.53 149.5,-2737.53 146,-2747.53 153,-2747.53\" stroke=\"black\"/>\n</g>\n<!-- 140232318039544 -->\n<g class=\"node\" id=\"node139\"><title>140232318039544</title>\n<polygon fill=\"none\" points=\"73,-2628.5 73,-2664.5 226,-2664.5 226,-2628.5 73,-2628.5\" stroke=\"black\"/>\n<text font-family=\"Times,serif\" font-size=\"14.00\" text-anchor=\"middle\" x=\"149.5\" y=\"-2642.8\">res4f_branch2c: Conv2D</text>\n</g>\n<!-- 140232318039488&#45;&gt;140232318039544 -->\n<g class=\"edge\" id=\"edge150\"><title>140232318039488-&gt;140232318039544</title>\n<path d=\"M149.5,-2701.31C149.5,-2693.29 149.5,-2683.55 149.5,-2674.57\" fill=\"none\" stroke=\"black\"/>\n<polygon fill=\"black\" points=\"153,-2674.53 149.5,-2664.53 146,-2674.53 153,-2674.53\" stroke=\"black\"/>\n</g>\n<!-- 140232318039880 -->\n<g class=\"node\" id=\"node140\"><title>140232318039880</title>\n<polygon fill=\"none\" points=\"42,-2555.5 42,-2591.5 257,-2591.5 257,-2555.5 42,-2555.5\" stroke=\"black\"/>\n<text font-family=\"Times,serif\" font-size=\"14.00\" text-anchor=\"middle\" x=\"149.5\" y=\"-2569.8\">bn4f_branch2c: BatchNormalization</text>\n</g>\n<!-- 140232318039544&#45;&gt;140232318039880 -->\n<g class=\"edge\" id=\"edge151\"><title>140232318039544-&gt;140232318039880</title>\n<path d=\"M149.5,-2628.31C149.5,-2620.29 149.5,-2610.55 149.5,-2601.57\" fill=\"none\" stroke=\"black\"/>\n<polygon fill=\"black\" points=\"153,-2601.53 149.5,-2591.53 146,-2601.53 153,-2601.53\" stroke=\"black\"/>\n</g>\n<!-- 140232318039880&#45;&gt;140232318040216 -->\n<g class=\"edge\" id=\"edge152\"><title>140232318039880-&gt;140232318040216</title>\n<path d=\"M165.961,-2555.31C174.397,-2546.5 184.817,-2535.63 194.075,-2525.96\" fill=\"none\" stroke=\"black\"/>\n<polygon fill=\"black\" points=\"196.802,-2528.17 201.191,-2518.53 191.746,-2523.33 196.802,-2528.17\" stroke=\"black\"/>\n</g>\n<!-- 140232318040272 -->\n<g class=\"node\" id=\"node142\"><title>140232318040272</title>\n<polygon fill=\"none\" points=\"140,-2409.5 140,-2445.5 295,-2445.5 295,-2409.5 140,-2409.5\" stroke=\"black\"/>\n<text font-family=\"Times,serif\" font-size=\"14.00\" text-anchor=\"middle\" x=\"217.5\" y=\"-2423.8\">activation_43: Activation</text>\n</g>\n<!-- 140232318040216&#45;&gt;140232318040272 -->\n<g class=\"edge\" id=\"edge154\"><title>140232318040216-&gt;140232318040272</title>\n<path d=\"M217.5,-2482.31C217.5,-2474.29 217.5,-2464.55 217.5,-2455.57\" fill=\"none\" stroke=\"black\"/>\n<polygon fill=\"black\" points=\"221,-2455.53 217.5,-2445.53 214,-2455.53 221,-2455.53\" stroke=\"black\"/>\n</g>\n<!-- 140232318040328 -->\n<g class=\"node\" id=\"node143\"><title>140232318040328</title>\n<polygon fill=\"none\" points=\"87,-2336.5 87,-2372.5 242,-2372.5 242,-2336.5 87,-2336.5\" stroke=\"black\"/>\n<text font-family=\"Times,serif\" font-size=\"14.00\" text-anchor=\"middle\" x=\"164.5\" y=\"-2350.8\">res5a_branch2a: Conv2D</text>\n</g>\n<!-- 140232318040272&#45;&gt;140232318040328 -->\n<g class=\"edge\" id=\"edge155\"><title>140232318040272-&gt;140232318040328</title>\n<path d=\"M204.67,-2409.31C198.29,-2400.77 190.455,-2390.27 183.403,-2380.82\" fill=\"none\" stroke=\"black\"/>\n<polygon fill=\"black\" points=\"185.998,-2378.45 177.212,-2372.53 180.389,-2382.64 185.998,-2378.45\" stroke=\"black\"/>\n</g>\n<!-- 140232318009296 -->\n<g class=\"node\" id=\"node150\"><title>140232318009296</title>\n<polygon fill=\"none\" points=\"267,-2263.5 267,-2299.5 416,-2299.5 416,-2263.5 267,-2263.5\" stroke=\"black\"/>\n<text font-family=\"Times,serif\" font-size=\"14.00\" text-anchor=\"middle\" x=\"341.5\" y=\"-2277.8\">res5a_branch1: Conv2D</text>\n</g>\n<!-- 140232318040272&#45;&gt;140232318009296 -->\n<g class=\"edge\" id=\"edge162\"><title>140232318040272-&gt;140232318009296</title>\n<path d=\"M232.211,-2409.42C254.025,-2384.08 295.068,-2336.42 320.177,-2307.26\" fill=\"none\" stroke=\"black\"/>\n<polygon fill=\"black\" points=\"322.935,-2309.42 326.808,-2299.56 317.63,-2304.86 322.935,-2309.42\" stroke=\"black\"/>\n</g>\n<!-- 140232318040664 -->\n<g class=\"node\" id=\"node144\"><title>140232318040664</title>\n<polygon fill=\"none\" points=\"32,-2263.5 32,-2299.5 249,-2299.5 249,-2263.5 32,-2263.5\" stroke=\"black\"/>\n<text font-family=\"Times,serif\" font-size=\"14.00\" text-anchor=\"middle\" x=\"140.5\" y=\"-2277.8\">bn5a_branch2a: BatchNormalization</text>\n</g>\n<!-- 140232318040328&#45;&gt;140232318040664 -->\n<g class=\"edge\" id=\"edge156\"><title>140232318040328-&gt;140232318040664</title>\n<path d=\"M158.69,-2336.31C155.949,-2328.2 152.613,-2318.34 149.551,-2309.28\" fill=\"none\" stroke=\"black\"/>\n<polygon fill=\"black\" points=\"152.774,-2307.88 146.256,-2299.53 146.143,-2310.12 152.774,-2307.88\" stroke=\"black\"/>\n</g>\n<!-- 140232318041000 -->\n<g class=\"node\" id=\"node145\"><title>140232318041000</title>\n<polygon fill=\"none\" points=\"63,-2190.5 63,-2226.5 218,-2226.5 218,-2190.5 63,-2190.5\" stroke=\"black\"/>\n<text font-family=\"Times,serif\" font-size=\"14.00\" text-anchor=\"middle\" x=\"140.5\" y=\"-2204.8\">activation_44: Activation</text>\n</g>\n<!-- 140232318040664&#45;&gt;140232318041000 -->\n<g class=\"edge\" id=\"edge157\"><title>140232318040664-&gt;140232318041000</title>\n<path d=\"M140.5,-2263.31C140.5,-2255.29 140.5,-2245.55 140.5,-2236.57\" fill=\"none\" stroke=\"black\"/>\n<polygon fill=\"black\" points=\"144,-2236.53 140.5,-2226.53 137,-2236.53 144,-2236.53\" stroke=\"black\"/>\n</g>\n<!-- 140232318041056 -->\n<g class=\"node\" id=\"node146\"><title>140232318041056</title>\n<polygon fill=\"none\" points=\"95,-2117.5 95,-2153.5 250,-2153.5 250,-2117.5 95,-2117.5\" stroke=\"black\"/>\n<text font-family=\"Times,serif\" font-size=\"14.00\" text-anchor=\"middle\" x=\"172.5\" y=\"-2131.8\">res5a_branch2b: Conv2D</text>\n</g>\n<!-- 140232318041000&#45;&gt;140232318041056 -->\n<g class=\"edge\" id=\"edge158\"><title>140232318041000-&gt;140232318041056</title>\n<path d=\"M148.246,-2190.31C151.98,-2182.03 156.54,-2171.91 160.695,-2162.69\" fill=\"none\" stroke=\"black\"/>\n<polygon fill=\"black\" points=\"163.907,-2164.08 164.825,-2153.53 157.525,-2161.21 163.907,-2164.08\" stroke=\"black\"/>\n</g>\n<!-- 140232318041392 -->\n<g class=\"node\" id=\"node147\"><title>140232318041392</title>\n<polygon fill=\"none\" points=\"79.5,-2044.5 79.5,-2080.5 297.5,-2080.5 297.5,-2044.5 79.5,-2044.5\" stroke=\"black\"/>\n<text font-family=\"Times,serif\" font-size=\"14.00\" text-anchor=\"middle\" x=\"188.5\" y=\"-2058.8\">bn5a_branch2b: BatchNormalization</text>\n</g>\n<!-- 140232318041056&#45;&gt;140232318041392 -->\n<g class=\"edge\" id=\"edge159\"><title>140232318041056-&gt;140232318041392</title>\n<path d=\"M176.373,-2117.31C178.181,-2109.29 180.377,-2099.55 182.4,-2090.57\" fill=\"none\" stroke=\"black\"/>\n<polygon fill=\"black\" points=\"185.878,-2091.05 184.663,-2080.53 179.05,-2089.51 185.878,-2091.05\" stroke=\"black\"/>\n</g>\n<!-- 140232318041728 -->\n<g class=\"node\" id=\"node148\"><title>140232318041728</title>\n<polygon fill=\"none\" points=\"119,-1971.5 119,-2007.5 274,-2007.5 274,-1971.5 119,-1971.5\" stroke=\"black\"/>\n<text font-family=\"Times,serif\" font-size=\"14.00\" text-anchor=\"middle\" x=\"196.5\" y=\"-1985.8\">activation_45: Activation</text>\n</g>\n<!-- 140232318041392&#45;&gt;140232318041728 -->\n<g class=\"edge\" id=\"edge160\"><title>140232318041392-&gt;140232318041728</title>\n<path d=\"M190.437,-2044.31C191.341,-2036.29 192.438,-2026.55 193.45,-2017.57\" fill=\"none\" stroke=\"black\"/>\n<polygon fill=\"black\" points=\"196.939,-2017.86 194.581,-2007.53 189.984,-2017.07 196.939,-2017.86\" stroke=\"black\"/>\n</g>\n<!-- 140232318041784 -->\n<g class=\"node\" id=\"node149\"><title>140232318041784</title>\n<polygon fill=\"none\" points=\"123,-1898.5 123,-1934.5 278,-1934.5 278,-1898.5 123,-1898.5\" stroke=\"black\"/>\n<text font-family=\"Times,serif\" font-size=\"14.00\" text-anchor=\"middle\" x=\"200.5\" y=\"-1912.8\">res5a_branch2c: Conv2D</text>\n</g>\n<!-- 140232318041728&#45;&gt;140232318041784 -->\n<g class=\"edge\" id=\"edge161\"><title>140232318041728-&gt;140232318041784</title>\n<path d=\"M197.468,-1971.31C197.92,-1963.29 198.469,-1953.55 198.975,-1944.57\" fill=\"none\" stroke=\"black\"/>\n<polygon fill=\"black\" points=\"202.473,-1944.71 199.541,-1934.53 195.484,-1944.32 202.473,-1944.71\" stroke=\"black\"/>\n</g>\n<!-- 140232318075344 -->\n<g class=\"node\" id=\"node151\"><title>140232318075344</title>\n<polygon fill=\"none\" points=\"94,-1825.5 94,-1861.5 311,-1861.5 311,-1825.5 94,-1825.5\" stroke=\"black\"/>\n<text font-family=\"Times,serif\" font-size=\"14.00\" text-anchor=\"middle\" x=\"202.5\" y=\"-1839.8\">bn5a_branch2c: BatchNormalization</text>\n</g>\n<!-- 140232318041784&#45;&gt;140232318075344 -->\n<g class=\"edge\" id=\"edge163\"><title>140232318041784-&gt;140232318075344</title>\n<path d=\"M200.984,-1898.31C201.21,-1890.29 201.485,-1880.55 201.737,-1871.57\" fill=\"none\" stroke=\"black\"/>\n<polygon fill=\"black\" points=\"205.237,-1871.62 202.02,-1861.53 198.24,-1871.43 205.237,-1871.62\" stroke=\"black\"/>\n</g>\n<!-- 140232318075680 -->\n<g class=\"node\" id=\"node152\"><title>140232318075680</title>\n<polygon fill=\"none\" points=\"236,-2190.5 236,-2226.5 447,-2226.5 447,-2190.5 236,-2190.5\" stroke=\"black\"/>\n<text font-family=\"Times,serif\" font-size=\"14.00\" text-anchor=\"middle\" x=\"341.5\" y=\"-2204.8\">bn5a_branch1: BatchNormalization</text>\n</g>\n<!-- 140232318009296&#45;&gt;140232318075680 -->\n<g class=\"edge\" id=\"edge164\"><title>140232318009296-&gt;140232318075680</title>\n<path d=\"M341.5,-2263.31C341.5,-2255.29 341.5,-2245.55 341.5,-2236.57\" fill=\"none\" stroke=\"black\"/>\n<polygon fill=\"black\" points=\"345,-2236.53 341.5,-2226.53 338,-2236.53 345,-2236.53\" stroke=\"black\"/>\n</g>\n<!-- 140232318075960 -->\n<g class=\"node\" id=\"node153\"><title>140232318075960</title>\n<polygon fill=\"none\" points=\"228,-1752.5 228,-1788.5 315,-1788.5 315,-1752.5 228,-1752.5\" stroke=\"black\"/>\n<text font-family=\"Times,serif\" font-size=\"14.00\" text-anchor=\"middle\" x=\"271.5\" y=\"-1766.8\">add_15: Add</text>\n</g>\n<!-- 140232318075344&#45;&gt;140232318075960 -->\n<g class=\"edge\" id=\"edge165\"><title>140232318075344-&gt;140232318075960</title>\n<path d=\"M219.203,-1825.31C227.763,-1816.5 238.336,-1805.63 247.731,-1795.96\" fill=\"none\" stroke=\"black\"/>\n<polygon fill=\"black\" points=\"250.491,-1798.14 254.951,-1788.53 245.471,-1793.26 250.491,-1798.14\" stroke=\"black\"/>\n</g>\n<!-- 140232318075680&#45;&gt;140232318075960 -->\n<g class=\"edge\" id=\"edge166\"><title>140232318075680-&gt;140232318075960</title>\n<path d=\"M341.302,-2190.21C341.011,-2163.18 340.5,-2109.25 340.5,-2063.5 340.5,-2063.5 340.5,-2063.5 340.5,-1915.5 340.5,-1874.21 338.554,-1861.63 319.5,-1825 314.033,-1814.49 306.02,-1804.42 298.1,-1795.9\" fill=\"none\" stroke=\"black\"/>\n<polygon fill=\"black\" points=\"300.418,-1793.27 290.929,-1788.55 295.408,-1798.16 300.418,-1793.27\" stroke=\"black\"/>\n</g>\n<!-- 140232318076016 -->\n<g class=\"node\" id=\"node154\"><title>140232318076016</title>\n<polygon fill=\"none\" points=\"194,-1679.5 194,-1715.5 349,-1715.5 349,-1679.5 194,-1679.5\" stroke=\"black\"/>\n<text font-family=\"Times,serif\" font-size=\"14.00\" text-anchor=\"middle\" x=\"271.5\" y=\"-1693.8\">activation_46: Activation</text>\n</g>\n<!-- 140232318075960&#45;&gt;140232318076016 -->\n<g class=\"edge\" id=\"edge167\"><title>140232318075960-&gt;140232318076016</title>\n<path d=\"M271.5,-1752.31C271.5,-1744.29 271.5,-1734.55 271.5,-1725.57\" fill=\"none\" stroke=\"black\"/>\n<polygon fill=\"black\" points=\"275,-1725.53 271.5,-1715.53 268,-1725.53 275,-1725.53\" stroke=\"black\"/>\n</g>\n<!-- 140232318076072 -->\n<g class=\"node\" id=\"node155\"><title>140232318076072</title>\n<polygon fill=\"none\" points=\"126,-1606.5 126,-1642.5 281,-1642.5 281,-1606.5 126,-1606.5\" stroke=\"black\"/>\n<text font-family=\"Times,serif\" font-size=\"14.00\" text-anchor=\"middle\" x=\"203.5\" y=\"-1620.8\">res5b_branch2a: Conv2D</text>\n</g>\n<!-- 140232318076016&#45;&gt;140232318076072 -->\n<g class=\"edge\" id=\"edge168\"><title>140232318076016-&gt;140232318076072</title>\n<path d=\"M255.039,-1679.31C246.603,-1670.5 236.183,-1659.63 226.925,-1649.96\" fill=\"none\" stroke=\"black\"/>\n<polygon fill=\"black\" points=\"229.254,-1647.33 219.809,-1642.53 224.198,-1652.17 229.254,-1647.33\" stroke=\"black\"/>\n</g>\n<!-- 140232318078200 -->\n<g class=\"node\" id=\"node163\"><title>140232318078200</title>\n<polygon fill=\"none\" points=\"213,-1022.5 213,-1058.5 300,-1058.5 300,-1022.5 213,-1022.5\" stroke=\"black\"/>\n<text font-family=\"Times,serif\" font-size=\"14.00\" text-anchor=\"middle\" x=\"256.5\" y=\"-1036.8\">add_16: Add</text>\n</g>\n<!-- 140232318076016&#45;&gt;140232318078200 -->\n<g class=\"edge\" id=\"edge177\"><title>140232318076016-&gt;140232318078200</title>\n<path d=\"M282.689,-1679.11C298.506,-1652.8 325.5,-1600.83 325.5,-1552.5 325.5,-1552.5 325.5,-1552.5 325.5,-1185.5 325.5,-1144.4 325.452,-1131.47 306.5,-1095 300.923,-1084.27 292.586,-1074.12 284.311,-1065.61\" fill=\"none\" stroke=\"black\"/>\n<polygon fill=\"black\" points=\"286.72,-1063.07 277.125,-1058.58 281.824,-1068.08 286.72,-1063.07\" stroke=\"black\"/>\n</g>\n<!-- 140232318076408 -->\n<g class=\"node\" id=\"node156\"><title>140232318076408</title>\n<polygon fill=\"none\" points=\"79.5,-1533.5 79.5,-1569.5 297.5,-1569.5 297.5,-1533.5 79.5,-1533.5\" stroke=\"black\"/>\n<text font-family=\"Times,serif\" font-size=\"14.00\" text-anchor=\"middle\" x=\"188.5\" y=\"-1547.8\">bn5b_branch2a: BatchNormalization</text>\n</g>\n<!-- 140232318076072&#45;&gt;140232318076408 -->\n<g class=\"edge\" id=\"edge169\"><title>140232318076072-&gt;140232318076408</title>\n<path d=\"M199.869,-1606.31C198.174,-1598.29 196.116,-1588.55 194.219,-1579.57\" fill=\"none\" stroke=\"black\"/>\n<polygon fill=\"black\" points=\"197.589,-1578.59 192.098,-1569.53 190.74,-1580.04 197.589,-1578.59\" stroke=\"black\"/>\n</g>\n<!-- 140232318076744 -->\n<g class=\"node\" id=\"node157\"><title>140232318076744</title>\n<polygon fill=\"none\" points=\"111,-1460.5 111,-1496.5 266,-1496.5 266,-1460.5 111,-1460.5\" stroke=\"black\"/>\n<text font-family=\"Times,serif\" font-size=\"14.00\" text-anchor=\"middle\" x=\"188.5\" y=\"-1474.8\">activation_47: Activation</text>\n</g>\n<!-- 140232318076408&#45;&gt;140232318076744 -->\n<g class=\"edge\" id=\"edge170\"><title>140232318076408-&gt;140232318076744</title>\n<path d=\"M188.5,-1533.31C188.5,-1525.29 188.5,-1515.55 188.5,-1506.57\" fill=\"none\" stroke=\"black\"/>\n<polygon fill=\"black\" points=\"192,-1506.53 188.5,-1496.53 185,-1506.53 192,-1506.53\" stroke=\"black\"/>\n</g>\n<!-- 140232318076800 -->\n<g class=\"node\" id=\"node158\"><title>140232318076800</title>\n<polygon fill=\"none\" points=\"110.5,-1387.5 110.5,-1423.5 266.5,-1423.5 266.5,-1387.5 110.5,-1387.5\" stroke=\"black\"/>\n<text font-family=\"Times,serif\" font-size=\"14.00\" text-anchor=\"middle\" x=\"188.5\" y=\"-1401.8\">res5b_branch2b: Conv2D</text>\n</g>\n<!-- 140232318076744&#45;&gt;140232318076800 -->\n<g class=\"edge\" id=\"edge171\"><title>140232318076744-&gt;140232318076800</title>\n<path d=\"M188.5,-1460.31C188.5,-1452.29 188.5,-1442.55 188.5,-1433.57\" fill=\"none\" stroke=\"black\"/>\n<polygon fill=\"black\" points=\"192,-1433.53 188.5,-1423.53 185,-1433.53 192,-1433.53\" stroke=\"black\"/>\n</g>\n<!-- 140232318077136 -->\n<g class=\"node\" id=\"node159\"><title>140232318077136</title>\n<polygon fill=\"none\" points=\"79.5,-1314.5 79.5,-1350.5 297.5,-1350.5 297.5,-1314.5 79.5,-1314.5\" stroke=\"black\"/>\n<text font-family=\"Times,serif\" font-size=\"14.00\" text-anchor=\"middle\" x=\"188.5\" y=\"-1328.8\">bn5b_branch2b: BatchNormalization</text>\n</g>\n<!-- 140232318076800&#45;&gt;140232318077136 -->\n<g class=\"edge\" id=\"edge172\"><title>140232318076800-&gt;140232318077136</title>\n<path d=\"M188.5,-1387.31C188.5,-1379.29 188.5,-1369.55 188.5,-1360.57\" fill=\"none\" stroke=\"black\"/>\n<polygon fill=\"black\" points=\"192,-1360.53 188.5,-1350.53 185,-1360.53 192,-1360.53\" stroke=\"black\"/>\n</g>\n<!-- 140232318077472 -->\n<g class=\"node\" id=\"node160\"><title>140232318077472</title>\n<polygon fill=\"none\" points=\"111,-1241.5 111,-1277.5 266,-1277.5 266,-1241.5 111,-1241.5\" stroke=\"black\"/>\n<text font-family=\"Times,serif\" font-size=\"14.00\" text-anchor=\"middle\" x=\"188.5\" y=\"-1255.8\">activation_48: Activation</text>\n</g>\n<!-- 140232318077136&#45;&gt;140232318077472 -->\n<g class=\"edge\" id=\"edge173\"><title>140232318077136-&gt;140232318077472</title>\n<path d=\"M188.5,-1314.31C188.5,-1306.29 188.5,-1296.55 188.5,-1287.57\" fill=\"none\" stroke=\"black\"/>\n<polygon fill=\"black\" points=\"192,-1287.53 188.5,-1277.53 185,-1287.53 192,-1287.53\" stroke=\"black\"/>\n</g>\n<!-- 140232318077528 -->\n<g class=\"node\" id=\"node161\"><title>140232318077528</title>\n<polygon fill=\"none\" points=\"111,-1168.5 111,-1204.5 266,-1204.5 266,-1168.5 111,-1168.5\" stroke=\"black\"/>\n<text font-family=\"Times,serif\" font-size=\"14.00\" text-anchor=\"middle\" x=\"188.5\" y=\"-1182.8\">res5b_branch2c: Conv2D</text>\n</g>\n<!-- 140232318077472&#45;&gt;140232318077528 -->\n<g class=\"edge\" id=\"edge174\"><title>140232318077472-&gt;140232318077528</title>\n<path d=\"M188.5,-1241.31C188.5,-1233.29 188.5,-1223.55 188.5,-1214.57\" fill=\"none\" stroke=\"black\"/>\n<polygon fill=\"black\" points=\"192,-1214.53 188.5,-1204.53 185,-1214.53 192,-1214.53\" stroke=\"black\"/>\n</g>\n<!-- 140232318077864 -->\n<g class=\"node\" id=\"node162\"><title>140232318077864</title>\n<polygon fill=\"none\" points=\"79.5,-1095.5 79.5,-1131.5 297.5,-1131.5 297.5,-1095.5 79.5,-1095.5\" stroke=\"black\"/>\n<text font-family=\"Times,serif\" font-size=\"14.00\" text-anchor=\"middle\" x=\"188.5\" y=\"-1109.8\">bn5b_branch2c: BatchNormalization</text>\n</g>\n<!-- 140232318077528&#45;&gt;140232318077864 -->\n<g class=\"edge\" id=\"edge175\"><title>140232318077528-&gt;140232318077864</title>\n<path d=\"M188.5,-1168.31C188.5,-1160.29 188.5,-1150.55 188.5,-1141.57\" fill=\"none\" stroke=\"black\"/>\n<polygon fill=\"black\" points=\"192,-1141.53 188.5,-1131.53 185,-1141.53 192,-1141.53\" stroke=\"black\"/>\n</g>\n<!-- 140232318077864&#45;&gt;140232318078200 -->\n<g class=\"edge\" id=\"edge176\"><title>140232318077864-&gt;140232318078200</title>\n<path d=\"M204.961,-1095.31C213.397,-1086.5 223.817,-1075.63 233.075,-1065.96\" fill=\"none\" stroke=\"black\"/>\n<polygon fill=\"black\" points=\"235.802,-1068.17 240.191,-1058.53 230.746,-1063.33 235.802,-1068.17\" stroke=\"black\"/>\n</g>\n<!-- 140232318078256 -->\n<g class=\"node\" id=\"node164\"><title>140232318078256</title>\n<polygon fill=\"none\" points=\"179,-949.5 179,-985.5 334,-985.5 334,-949.5 179,-949.5\" stroke=\"black\"/>\n<text font-family=\"Times,serif\" font-size=\"14.00\" text-anchor=\"middle\" x=\"256.5\" y=\"-963.8\">activation_49: Activation</text>\n</g>\n<!-- 140232318078200&#45;&gt;140232318078256 -->\n<g class=\"edge\" id=\"edge178\"><title>140232318078200-&gt;140232318078256</title>\n<path d=\"M256.5,-1022.31C256.5,-1014.29 256.5,-1004.55 256.5,-995.569\" fill=\"none\" stroke=\"black\"/>\n<polygon fill=\"black\" points=\"260,-995.529 256.5,-985.529 253,-995.529 260,-995.529\" stroke=\"black\"/>\n</g>\n<!-- 140232318078312 -->\n<g class=\"node\" id=\"node165\"><title>140232318078312</title>\n<polygon fill=\"none\" points=\"126,-876.5 126,-912.5 281,-912.5 281,-876.5 126,-876.5\" stroke=\"black\"/>\n<text font-family=\"Times,serif\" font-size=\"14.00\" text-anchor=\"middle\" x=\"203.5\" y=\"-890.8\">res5c_branch2a: Conv2D</text>\n</g>\n<!-- 140232318078256&#45;&gt;140232318078312 -->\n<g class=\"edge\" id=\"edge179\"><title>140232318078256-&gt;140232318078312</title>\n<path d=\"M243.67,-949.313C237.29,-940.766 229.455,-930.269 222.403,-920.823\" fill=\"none\" stroke=\"black\"/>\n<polygon fill=\"black\" points=\"224.998,-918.449 216.212,-912.529 219.389,-922.636 224.998,-918.449\" stroke=\"black\"/>\n</g>\n<!-- 140232318096888 -->\n<g class=\"node\" id=\"node173\"><title>140232318096888</title>\n<polygon fill=\"none\" points=\"212,-292.5 212,-328.5 299,-328.5 299,-292.5 212,-292.5\" stroke=\"black\"/>\n<text font-family=\"Times,serif\" font-size=\"14.00\" text-anchor=\"middle\" x=\"255.5\" y=\"-306.8\">add_17: Add</text>\n</g>\n<!-- 140232318078256&#45;&gt;140232318096888 -->\n<g class=\"edge\" id=\"edge188\"><title>140232318078256-&gt;140232318096888</title>\n<path d=\"M270.921,-949.119C290.882,-923.239 324.5,-872.265 324.5,-822.5 324.5,-822.5 324.5,-822.5 324.5,-455.5 324.5,-414.307 323.504,-401.547 304.5,-365 299.072,-354.562 291.082,-344.619 283.122,-336.199\" fill=\"none\" stroke=\"black\"/>\n<polygon fill=\"black\" points=\"285.425,-333.551 275.894,-328.924 280.459,-338.485 285.425,-333.551\" stroke=\"black\"/>\n</g>\n<!-- 140232318078648 -->\n<g class=\"node\" id=\"node166\"><title>140232318078648</title>\n<polygon fill=\"none\" points=\"79,-803.5 79,-839.5 296,-839.5 296,-803.5 79,-803.5\" stroke=\"black\"/>\n<text font-family=\"Times,serif\" font-size=\"14.00\" text-anchor=\"middle\" x=\"187.5\" y=\"-817.8\">bn5c_branch2a: BatchNormalization</text>\n</g>\n<!-- 140232318078312&#45;&gt;140232318078648 -->\n<g class=\"edge\" id=\"edge180\"><title>140232318078312-&gt;140232318078648</title>\n<path d=\"M199.627,-876.313C197.819,-868.289 195.623,-858.547 193.6,-849.569\" fill=\"none\" stroke=\"black\"/>\n<polygon fill=\"black\" points=\"196.95,-848.515 191.337,-839.529 190.122,-850.054 196.95,-848.515\" stroke=\"black\"/>\n</g>\n<!-- 140232318041952 -->\n<g class=\"node\" id=\"node167\"><title>140232318041952</title>\n<polygon fill=\"none\" points=\"110,-730.5 110,-766.5 265,-766.5 265,-730.5 110,-730.5\" stroke=\"black\"/>\n<text font-family=\"Times,serif\" font-size=\"14.00\" text-anchor=\"middle\" x=\"187.5\" y=\"-744.8\">activation_50: Activation</text>\n</g>\n<!-- 140232318078648&#45;&gt;140232318041952 -->\n<g class=\"edge\" id=\"edge181\"><title>140232318078648-&gt;140232318041952</title>\n<path d=\"M187.5,-803.313C187.5,-795.289 187.5,-785.547 187.5,-776.569\" fill=\"none\" stroke=\"black\"/>\n<polygon fill=\"black\" points=\"191,-776.529 187.5,-766.529 184,-776.529 191,-776.529\" stroke=\"black\"/>\n</g>\n<!-- 140232318095488 -->\n<g class=\"node\" id=\"node168\"><title>140232318095488</title>\n<polygon fill=\"none\" points=\"110,-657.5 110,-693.5 265,-693.5 265,-657.5 110,-657.5\" stroke=\"black\"/>\n<text font-family=\"Times,serif\" font-size=\"14.00\" text-anchor=\"middle\" x=\"187.5\" y=\"-671.8\">res5c_branch2b: Conv2D</text>\n</g>\n<!-- 140232318041952&#45;&gt;140232318095488 -->\n<g class=\"edge\" id=\"edge182\"><title>140232318041952-&gt;140232318095488</title>\n<path d=\"M187.5,-730.313C187.5,-722.289 187.5,-712.547 187.5,-703.569\" fill=\"none\" stroke=\"black\"/>\n<polygon fill=\"black\" points=\"191,-703.529 187.5,-693.529 184,-703.529 191,-703.529\" stroke=\"black\"/>\n</g>\n<!-- 140232318095824 -->\n<g class=\"node\" id=\"node169\"><title>140232318095824</title>\n<polygon fill=\"none\" points=\"78.5,-584.5 78.5,-620.5 296.5,-620.5 296.5,-584.5 78.5,-584.5\" stroke=\"black\"/>\n<text font-family=\"Times,serif\" font-size=\"14.00\" text-anchor=\"middle\" x=\"187.5\" y=\"-598.8\">bn5c_branch2b: BatchNormalization</text>\n</g>\n<!-- 140232318095488&#45;&gt;140232318095824 -->\n<g class=\"edge\" id=\"edge183\"><title>140232318095488-&gt;140232318095824</title>\n<path d=\"M187.5,-657.313C187.5,-649.289 187.5,-639.547 187.5,-630.569\" fill=\"none\" stroke=\"black\"/>\n<polygon fill=\"black\" points=\"191,-630.529 187.5,-620.529 184,-630.529 191,-630.529\" stroke=\"black\"/>\n</g>\n<!-- 140232318096160 -->\n<g class=\"node\" id=\"node170\"><title>140232318096160</title>\n<polygon fill=\"none\" points=\"110,-511.5 110,-547.5 265,-547.5 265,-511.5 110,-511.5\" stroke=\"black\"/>\n<text font-family=\"Times,serif\" font-size=\"14.00\" text-anchor=\"middle\" x=\"187.5\" y=\"-525.8\">activation_51: Activation</text>\n</g>\n<!-- 140232318095824&#45;&gt;140232318096160 -->\n<g class=\"edge\" id=\"edge184\"><title>140232318095824-&gt;140232318096160</title>\n<path d=\"M187.5,-584.313C187.5,-576.289 187.5,-566.547 187.5,-557.569\" fill=\"none\" stroke=\"black\"/>\n<polygon fill=\"black\" points=\"191,-557.529 187.5,-547.529 184,-557.529 191,-557.529\" stroke=\"black\"/>\n</g>\n<!-- 140232318096216 -->\n<g class=\"node\" id=\"node171\"><title>140232318096216</title>\n<polygon fill=\"none\" points=\"110,-438.5 110,-474.5 265,-474.5 265,-438.5 110,-438.5\" stroke=\"black\"/>\n<text font-family=\"Times,serif\" font-size=\"14.00\" text-anchor=\"middle\" x=\"187.5\" y=\"-452.8\">res5c_branch2c: Conv2D</text>\n</g>\n<!-- 140232318096160&#45;&gt;140232318096216 -->\n<g class=\"edge\" id=\"edge185\"><title>140232318096160-&gt;140232318096216</title>\n<path d=\"M187.5,-511.313C187.5,-503.289 187.5,-493.547 187.5,-484.569\" fill=\"none\" stroke=\"black\"/>\n<polygon fill=\"black\" points=\"191,-484.529 187.5,-474.529 184,-484.529 191,-484.529\" stroke=\"black\"/>\n</g>\n<!-- 140232318096552 -->\n<g class=\"node\" id=\"node172\"><title>140232318096552</title>\n<polygon fill=\"none\" points=\"79,-365.5 79,-401.5 296,-401.5 296,-365.5 79,-365.5\" stroke=\"black\"/>\n<text font-family=\"Times,serif\" font-size=\"14.00\" text-anchor=\"middle\" x=\"187.5\" y=\"-379.8\">bn5c_branch2c: BatchNormalization</text>\n</g>\n<!-- 140232318096216&#45;&gt;140232318096552 -->\n<g class=\"edge\" id=\"edge186\"><title>140232318096216-&gt;140232318096552</title>\n<path d=\"M187.5,-438.313C187.5,-430.289 187.5,-420.547 187.5,-411.569\" fill=\"none\" stroke=\"black\"/>\n<polygon fill=\"black\" points=\"191,-411.529 187.5,-401.529 184,-411.529 191,-411.529\" stroke=\"black\"/>\n</g>\n<!-- 140232318096552&#45;&gt;140232318096888 -->\n<g class=\"edge\" id=\"edge187\"><title>140232318096552-&gt;140232318096888</title>\n<path d=\"M203.961,-365.313C212.397,-356.505 222.817,-345.625 232.075,-335.958\" fill=\"none\" stroke=\"black\"/>\n<polygon fill=\"black\" points=\"234.802,-338.172 239.191,-328.529 229.746,-333.33 234.802,-338.172\" stroke=\"black\"/>\n</g>\n<!-- 140232318096944 -->\n<g class=\"node\" id=\"node174\"><title>140232318096944</title>\n<polygon fill=\"none\" points=\"178,-219.5 178,-255.5 333,-255.5 333,-219.5 178,-219.5\" stroke=\"black\"/>\n<text font-family=\"Times,serif\" font-size=\"14.00\" text-anchor=\"middle\" x=\"255.5\" y=\"-233.8\">activation_52: Activation</text>\n</g>\n<!-- 140232318096888&#45;&gt;140232318096944 -->\n<g class=\"edge\" id=\"edge189\"><title>140232318096888-&gt;140232318096944</title>\n<path d=\"M255.5,-292.313C255.5,-284.289 255.5,-274.547 255.5,-265.569\" fill=\"none\" stroke=\"black\"/>\n<polygon fill=\"black\" points=\"259,-265.529 255.5,-255.529 252,-265.529 259,-265.529\" stroke=\"black\"/>\n</g>\n<!-- 140232318097000 -->\n<g class=\"node\" id=\"node175\"><title>140232318097000</title>\n<polygon fill=\"none\" points=\"166,-146.5 166,-182.5 345,-182.5 345,-146.5 166,-146.5\" stroke=\"black\"/>\n<text font-family=\"Times,serif\" font-size=\"14.00\" text-anchor=\"middle\" x=\"255.5\" y=\"-160.8\">avg_pool: AveragePooling2D</text>\n</g>\n<!-- 140232318096944&#45;&gt;140232318097000 -->\n<g class=\"edge\" id=\"edge190\"><title>140232318096944-&gt;140232318097000</title>\n<path d=\"M255.5,-219.313C255.5,-211.289 255.5,-201.547 255.5,-192.569\" fill=\"none\" stroke=\"black\"/>\n<polygon fill=\"black\" points=\"259,-192.529 255.5,-182.529 252,-192.529 259,-192.529\" stroke=\"black\"/>\n</g>\n<!-- 140232318097168 -->\n<g class=\"node\" id=\"node176\"><title>140232318097168</title>\n<polygon fill=\"none\" points=\"200.5,-73.5 200.5,-109.5 310.5,-109.5 310.5,-73.5 200.5,-73.5\" stroke=\"black\"/>\n<text font-family=\"Times,serif\" font-size=\"14.00\" text-anchor=\"middle\" x=\"255.5\" y=\"-87.8\">flatten_1: Flatten</text>\n</g>\n<!-- 140232318097000&#45;&gt;140232318097168 -->\n<g class=\"edge\" id=\"edge191\"><title>140232318097000-&gt;140232318097168</title>\n<path d=\"M255.5,-146.313C255.5,-138.289 255.5,-128.547 255.5,-119.569\" fill=\"none\" stroke=\"black\"/>\n<polygon fill=\"black\" points=\"259,-119.529 255.5,-109.529 252,-119.529 259,-119.529\" stroke=\"black\"/>\n</g>\n<!-- 140232318097280 -->\n<g class=\"node\" id=\"node177\"><title>140232318097280</title>\n<polygon fill=\"none\" points=\"218,-0.5 218,-36.5 293,-36.5 293,-0.5 218,-0.5\" stroke=\"black\"/>\n<text font-family=\"Times,serif\" font-size=\"14.00\" text-anchor=\"middle\" x=\"255.5\" y=\"-14.8\">fc6: Dense</text>\n</g>\n<!-- 140232318097168&#45;&gt;140232318097280 -->\n<g class=\"edge\" id=\"edge192\"><title>140232318097168-&gt;140232318097280</title>\n<path d=\"M255.5,-73.3129C255.5,-65.2895 255.5,-55.5475 255.5,-46.5691\" fill=\"none\" stroke=\"black\"/>\n<polygon fill=\"black\" points=\"259,-46.5288 255.5,-36.5288 252,-46.5289 259,-46.5288\" stroke=\"black\"/>\n</g>\n</g>\n</svg>",
            "text/plain": [
              "<IPython.core.display.SVG object>"
            ]
          },
          "metadata": {
            "tags": []
          },
          "execution_count": 18
        }
      ]
    },
    {
      "cell_type": "markdown",
      "metadata": {
        "id": "A1TQMYhcpfoD",
        "colab_type": "text"
      },
      "source": [
        "## What you should remember\n",
        "- Very deep \"plain\" networks don't work in practice because they are hard to train due to vanishing gradients.  \n",
        "- The skip-connections help to address the Vanishing Gradient problem. They also make it easy for a ResNet block to learn an identity function. \n",
        "- There are two main types of blocks: The identity block and the convolutional block. \n",
        "- Very deep Residual Networks are built by stacking these blocks together."
      ]
    },
    {
      "cell_type": "markdown",
      "metadata": {
        "id": "yMHuuXUEpfoE",
        "colab_type": "text"
      },
      "source": [
        "### References \n",
        "\n",
        "This notebook presents the ResNet algorithm due to He et al. (2015). The implementation here also took significant inspiration and follows the structure given in the GitHub repository of Francois Chollet: \n",
        "\n",
        "- Kaiming He, Xiangyu Zhang, Shaoqing Ren, Jian Sun - [Deep Residual Learning for Image Recognition (2015)](https://arxiv.org/abs/1512.03385)\n",
        "- Francois Chollet's GitHub repository: https://github.com/fchollet/deep-learning-models/blob/master/resnet50.py\n"
      ]
    },
    {
      "cell_type": "code",
      "metadata": {
        "id": "MNZ1JezmpfoE",
        "colab_type": "code",
        "colab": {}
      },
      "source": [
        ""
      ],
      "execution_count": 0,
      "outputs": []
    }
  ]
}